{
 "cells": [
  {
   "cell_type": "markdown",
   "id": "843a8606-8547-4c9b-918c-433546b13d28",
   "metadata": {
    "tags": []
   },
   "source": [
    "# Data Acquisition and Pre-Processing"
   ]
  },
  {
   "cell_type": "code",
   "execution_count": 1,
   "id": "1375ab9d-ecbd-48fd-b531-c15825378e2c",
   "metadata": {},
   "outputs": [],
   "source": [
    "import csv\n",
    "import copy\n",
    "import itertools\n",
    "import cv2 as cv\n",
    "import numpy as np \n",
    "import mediapipe as mp\n",
    "from utils import CvFpsCalc\n",
    "from utils import draw_landmarks\n",
    "from collections import deque\n",
    "from collections import Counter"
   ]
  },
  {
   "cell_type": "code",
   "execution_count": 2,
   "id": "58f5c540-ac50-4610-8ce8-f9d4e6e5d2c7",
   "metadata": {},
   "outputs": [],
   "source": [
    "def calc_bounding_rect(image, landmarks):\n",
    "    image_width, image_height = image.shape[1], image.shape[0]\n",
    "\n",
    "    landmark_array = np.empty((0, 2), int)\n",
    "\n",
    "    for _, landmark in enumerate(landmarks.landmark):\n",
    "        landmark_x = min(int(landmark.x * image_width), image_width - 1)\n",
    "        landmark_y = min(int(landmark.y * image_height), image_height - 1)\n",
    "\n",
    "        landmark_point = [np.array((landmark_x, landmark_y))]\n",
    "\n",
    "        landmark_array = np.append(landmark_array, landmark_point, axis=0)\n",
    "\n",
    "    x, y, w, h = cv.boundingRect(landmark_array)\n",
    "\n",
    "    return [x, y, x + w, y + h]"
   ]
  },
  {
   "cell_type": "code",
   "execution_count": 3,
   "id": "e800a3d9-dc36-40ef-8452-45022518f346",
   "metadata": {},
   "outputs": [],
   "source": [
    "def calc_landmark_list(image, landmarks):\n",
    "    image_width, image_height = image.shape[1], image.shape[0]\n",
    "\n",
    "    landmark_point = []\n",
    "\n",
    "    for _, landmark in enumerate(landmarks.landmark):\n",
    "        landmark_x = min(int(landmark.x * image_width), image_width - 1)\n",
    "        landmark_y = min(int(landmark.y * image_height), image_height - 1)\n",
    "\n",
    "        landmark_point.append([landmark_x, landmark_y])\n",
    "\n",
    "    return landmark_point"
   ]
  },
  {
   "cell_type": "code",
   "execution_count": 4,
   "id": "89bfecf1-d18d-4def-817f-7cc6e27d916a",
   "metadata": {},
   "outputs": [],
   "source": [
    "def pre_process_landmark(landmark_list):\n",
    "    temp_landmark_list = copy.deepcopy(landmark_list)\n",
    "\n",
    "    # Convert to relative coordinates\n",
    "    base_x, base_y = 0, 0\n",
    "    for index, landmark_point in enumerate(temp_landmark_list):\n",
    "        if index == 0:\n",
    "            base_x, base_y = landmark_point[0], landmark_point[1]\n",
    "\n",
    "        temp_landmark_list[index][0] = temp_landmark_list[index][0] - base_x\n",
    "        temp_landmark_list[index][1] = temp_landmark_list[index][1] - base_y\n",
    "\n",
    "    # Convert to a one-dimensional list\n",
    "    temp_landmark_list = list(\n",
    "        itertools.chain.from_iterable(temp_landmark_list))\n",
    "\n",
    "    # Normalization\n",
    "    max_value = max(list(map(abs, temp_landmark_list)))\n",
    "    \n",
    "    def normalize_(n):\n",
    "        return n / max_value\n",
    "\n",
    "    temp_landmark_list = list(map(normalize_, temp_landmark_list))\n",
    "\n",
    "    return temp_landmark_list   "
   ]
  },
  {
   "cell_type": "code",
   "execution_count": 5,
   "id": "94474810-defb-4b75-b742-94a4eb021d1b",
   "metadata": {},
   "outputs": [],
   "source": [
    "def draw_bounding_rect(use_brect, image, brect):\n",
    "    if use_brect:\n",
    "        # Outer rectangle\n",
    "        cv.rectangle(image, (brect[0], brect[1]), (brect[2], brect[3]),\n",
    "                     (0, 0, 0), 1)\n",
    "\n",
    "    return image"
   ]
  },
  {
   "cell_type": "code",
   "execution_count": 6,
   "id": "a44d35f6-017a-427d-bdf8-034335e5b0f6",
   "metadata": {},
   "outputs": [],
   "source": [
    "def draw_info(image, fps, mode, number):\n",
    "    cv.putText(image, \"FPS:\" + str(fps), (10, 30), cv.FONT_HERSHEY_SIMPLEX,\n",
    "               1.0, (0, 0, 0), 4, cv.LINE_AA)\n",
    "    cv.putText(image, \"FPS:\" + str(fps), (10, 30), cv.FONT_HERSHEY_SIMPLEX,\n",
    "               1.0, (255, 255, 255), 2, cv.LINE_AA)\n",
    "    \n",
    "    mode_string = 'Logging Key Point'\n",
    "    \n",
    "    if mode == 1:\n",
    "        cv.putText(image, \"MODE:\" + mode_string[mode - 1], (10, 90),\n",
    "                   cv.FONT_HERSHEY_SIMPLEX, 0.6, (255, 255, 255), 1,\n",
    "                   cv.LINE_AA)\n",
    "        if 0 <= number <= 9:\n",
    "            cv.putText(image, \"NUM:\" + str(number), (10, 110),\n",
    "                       cv.FONT_HERSHEY_SIMPLEX, 0.6, (255, 255, 255), 1,\n",
    "                       cv.LINE_AA)        \n",
    "    \n",
    "    return image"
   ]
  },
  {
   "cell_type": "code",
   "execution_count": 7,
   "id": "c2fb8cd1-b9e3-4b77-93a3-fd78a4eaabcb",
   "metadata": {
    "tags": []
   },
   "outputs": [],
   "source": [
    "def select_mode(key, mode):\n",
    "    number = -1\n",
    "    if 48 <= key <= 57:  # 0 ~ 9\n",
    "        number = key - 48\n",
    "    if key == 110:  # n\n",
    "        mode = 0\n",
    "    if key == 107:  # k\n",
    "        mode = 1\n",
    "        \n",
    "    return number, mode"
   ]
  },
  {
   "cell_type": "code",
   "execution_count": 8,
   "id": "f1072265-54e6-4b7e-bd40-6b05d4253424",
   "metadata": {},
   "outputs": [],
   "source": [
    "def logging_csv(number, mode, landmark_list):\n",
    "    if mode == 0:\n",
    "        pass\n",
    "    if mode == 1 and (0 <= number <= 9):\n",
    "        csv_path = 'model/keypoint_classifier/keypoint.csv'\n",
    "        with open(csv_path, 'a', newline=\"\") as f:\n",
    "            writer = csv.writer(f)\n",
    "            writer.writerow([number, *landmark_list])\n",
    "    return"
   ]
  },
  {
   "cell_type": "code",
   "execution_count": 9,
   "id": "6c93bac8-0042-4be4-a081-43103ff65c86",
   "metadata": {
    "tags": []
   },
   "outputs": [],
   "source": [
    "#---------Camera-configs-------------------\n",
    "cap = cv.VideoCapture(0)\n",
    "cap.set(cv.CAP_PROP_FRAME_WIDTH, 960)\n",
    "cap.set(cv.CAP_PROP_FRAME_HEIGHT, 540)\n",
    "    \n",
    "#----------Model-load---------------------\n",
    "mp_hands = mp.solutions.hands\n",
    "hands = mp_hands.Hands(\n",
    "    static_image_mode='store_true',\n",
    "    max_num_hands=1,\n",
    "    min_detection_confidence=0.7,\n",
    "    min_tracking_confidence=0.5,\n",
    "    )\n",
    "    \n",
    "#---------------FPS-----------------------\n",
    "cvFpsCalc = CvFpsCalc(buffer_len=10)\n",
    "use_brect = True\n",
    "mode = 0\n",
    "\n",
    "while True:\n",
    "    fps = cvFpsCalc.get()   #FPS\n",
    "    \n",
    "    key = cv.waitKey(10)    #Key (Select Mode)\n",
    "    if key == 27:  # ESC\n",
    "        break\n",
    "    number, mode = select_mode(key, mode)\n",
    "\n",
    "    \n",
    "    ret, image = cap.read()\n",
    "    if not ret:\n",
    "        break\n",
    "    \n",
    "    \n",
    "    #--------Processing-Image------------------------\n",
    "    image = cv.flip(image, 1)  # Mirror display\n",
    "    debug_image = copy.deepcopy(image)\n",
    "    image = cv.cvtColor(image, cv.COLOR_BGR2RGB)\n",
    "    image.flags.writeable = False\n",
    "    results = hands.process(image)\n",
    "    image.flags.writeable = True\n",
    "    \n",
    "    if results.multi_hand_landmarks is not None:\n",
    "        for hand_landmarks, handedness in zip(results.multi_hand_landmarks,\n",
    "                                                  results.multi_handedness):\n",
    "            \n",
    "            #Bounding Box\n",
    "            brect = calc_bounding_rect(debug_image, hand_landmarks)\n",
    "            #Colect keyoints\n",
    "            landmark_list = calc_landmark_list(debug_image, hand_landmarks)\n",
    "            #Normalize keypoints\n",
    "            pre_processed_landmark_list = pre_process_landmark(\n",
    "                    landmark_list)\n",
    "            \n",
    "            logging_csv(number, mode, pre_processed_landmark_list)\n",
    "                    \n",
    "            debug_image = draw_bounding_rect(use_brect, debug_image, brect)\n",
    "            debug_image = draw_landmarks(debug_image, landmark_list)   \n",
    "            \n",
    "        \n",
    "    #debug_image = draw_point_history(debug_image, point_history)\n",
    "    debug_image = draw_info(debug_image, fps, mode, number)\n",
    "    cv.imshow('Dataset Preparation', debug_image)\n",
    "    \n",
    "cap.release()\n",
    "cv.destroyAllWindows()"
   ]
  },
  {
   "cell_type": "code",
   "execution_count": null,
   "id": "cfeed3de-c2cb-4d0a-bbd4-3afadb90ab02",
   "metadata": {},
   "outputs": [],
   "source": []
  }
 ],
 "metadata": {
  "kernelspec": {
   "display_name": "Python 3 (ipykernel)",
   "language": "python",
   "name": "python3"
  },
  "language_info": {
   "codemirror_mode": {
    "name": "ipython",
    "version": 3
   },
   "file_extension": ".py",
   "mimetype": "text/x-python",
   "name": "python",
   "nbconvert_exporter": "python",
   "pygments_lexer": "ipython3",
   "version": "3.7.11"
  }
 },
 "nbformat": 4,
 "nbformat_minor": 5
}
