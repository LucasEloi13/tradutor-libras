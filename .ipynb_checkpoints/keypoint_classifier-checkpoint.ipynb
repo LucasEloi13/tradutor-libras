{
 "cells": [
  {
   "cell_type": "code",
   "execution_count": 1,
   "metadata": {
    "id": "igMyGnjE9hEp"
   },
   "outputs": [],
   "source": [
    "import csv\n",
    "\n",
    "import numpy as np\n",
    "import tensorflow as tf\n",
    "from sklearn.model_selection import train_test_split\n",
    "\n",
    "RANDOM_SEED = 42"
   ]
  },
  {
   "cell_type": "markdown",
   "metadata": {
    "id": "t2HDvhIu9hEr",
    "tags": []
   },
   "source": [
    "# Specify each path"
   ]
  },
  {
   "cell_type": "code",
   "execution_count": 2,
   "metadata": {
    "id": "9NvZP2Zn9hEy"
   },
   "outputs": [],
   "source": [
    "dataset = 'model/keypoint_classifier/keypoint.csv'\n",
    "model_save_path = 'model/keypoint_classifier/keypoint_classifier.hdf5'\n",
    "tflite_save_path = 'model/keypoint_classifier/keypoint_classifier.tflite'"
   ]
  },
  {
   "cell_type": "markdown",
   "metadata": {
    "id": "s5oMH7x19hEz"
   },
   "source": [
    "# Set number of classes"
   ]
  },
  {
   "cell_type": "code",
   "execution_count": 3,
   "metadata": {
    "id": "du4kodXL9hEz"
   },
   "outputs": [],
   "source": [
    "NUM_CLASSES = 3"
   ]
  },
  {
   "cell_type": "markdown",
   "metadata": {
    "id": "XjnL0uso9hEz"
   },
   "source": [
    "# Dataset reading"
   ]
  },
  {
   "cell_type": "code",
   "execution_count": 4,
   "metadata": {
    "id": "QT5ZqtEz9hE0"
   },
   "outputs": [],
   "source": [
    "X_dataset = np.loadtxt(dataset, delimiter=',', dtype='float32', usecols=list(range(1, (21 * 2) + 1)))"
   ]
  },
  {
   "cell_type": "code",
   "execution_count": 5,
   "metadata": {
    "id": "QmoKFsp49hE0"
   },
   "outputs": [],
   "source": [
    "y_dataset = np.loadtxt(dataset, delimiter=',', dtype='int32', usecols=(0))"
   ]
  },
  {
   "cell_type": "code",
   "execution_count": 6,
   "metadata": {
    "id": "xQU7JTZ_9hE0"
   },
   "outputs": [],
   "source": [
    "X_train, X_test, y_train, y_test = train_test_split(X_dataset, y_dataset, train_size=0.75, random_state=RANDOM_SEED)"
   ]
  },
  {
   "cell_type": "markdown",
   "metadata": {
    "id": "mxK_lETT9hE0"
   },
   "source": [
    "# Model building"
   ]
  },
  {
   "cell_type": "code",
   "execution_count": 7,
   "metadata": {
    "id": "vHBmUf1t9hE1"
   },
   "outputs": [],
   "source": [
    "model = tf.keras.models.Sequential([\n",
    "    tf.keras.layers.Input((21 * 2, )),\n",
    "    tf.keras.layers.Dropout(0.2),\n",
    "    tf.keras.layers.Dense(20, activation='relu'),\n",
    "    tf.keras.layers.Dropout(0.4),\n",
    "    tf.keras.layers.Dense(10, activation='relu'),\n",
    "    tf.keras.layers.Dense(NUM_CLASSES, activation='softmax')\n",
    "])"
   ]
  },
  {
   "cell_type": "code",
   "execution_count": 8,
   "metadata": {
    "colab": {
     "base_uri": "https://localhost:8080/"
    },
    "id": "ypqky9tc9hE1",
    "outputId": "5db082bb-30e3-4110-bf63-a1ee777ecd46"
   },
   "outputs": [
    {
     "name": "stdout",
     "output_type": "stream",
     "text": [
      "Model: \"sequential\"\n",
      "_________________________________________________________________\n",
      "Layer (type)                 Output Shape              Param #   \n",
      "=================================================================\n",
      "dropout (Dropout)            (None, 42)                0         \n",
      "_________________________________________________________________\n",
      "dense (Dense)                (None, 20)                860       \n",
      "_________________________________________________________________\n",
      "dropout_1 (Dropout)          (None, 20)                0         \n",
      "_________________________________________________________________\n",
      "dense_1 (Dense)              (None, 10)                210       \n",
      "_________________________________________________________________\n",
      "dense_2 (Dense)              (None, 3)                 33        \n",
      "=================================================================\n",
      "Total params: 1,103\n",
      "Trainable params: 1,103\n",
      "Non-trainable params: 0\n",
      "_________________________________________________________________\n"
     ]
    }
   ],
   "source": [
    "model.summary()  # tf.keras.utils.plot_model(model, show_shapes=True)"
   ]
  },
  {
   "cell_type": "code",
   "execution_count": 9,
   "metadata": {
    "id": "MbMjOflQ9hE1"
   },
   "outputs": [],
   "source": [
    "# Model checkpoint callback\n",
    "cp_callback = tf.keras.callbacks.ModelCheckpoint(\n",
    "    model_save_path, verbose=1, save_weights_only=False)\n",
    "# Callback for early stopping\n",
    "es_callback = tf.keras.callbacks.EarlyStopping(patience=20, verbose=1)"
   ]
  },
  {
   "cell_type": "code",
   "execution_count": 10,
   "metadata": {
    "id": "c3Dac0M_9hE2"
   },
   "outputs": [],
   "source": [
    "# Model compilation\n",
    "model.compile(\n",
    "    optimizer='adam',\n",
    "    loss='sparse_categorical_crossentropy',\n",
    "    metrics=['accuracy']\n",
    ")"
   ]
  },
  {
   "cell_type": "markdown",
   "metadata": {
    "id": "7XI0j1Iu9hE2"
   },
   "source": [
    "# Model training"
   ]
  },
  {
   "cell_type": "code",
   "execution_count": 11,
   "metadata": {
    "colab": {
     "base_uri": "https://localhost:8080/"
    },
    "id": "WirBl-JE9hE3",
    "outputId": "71b30ca2-8294-4d9d-8aa2-800d90d399de",
    "scrolled": true
   },
   "outputs": [
    {
     "name": "stdout",
     "output_type": "stream",
     "text": [
      "Epoch 1/1000\n",
      "9/9 [==============================] - 1s 44ms/step - loss: 1.3447 - accuracy: 0.3181 - val_loss: 1.1101 - val_accuracy: 0.3360\n",
      "\n",
      "Epoch 00001: saving model to model/keypoint_classifier\\keypoint_classifier.hdf5\n",
      "Epoch 2/1000\n",
      "9/9 [==============================] - 0s 5ms/step - loss: 1.2185 - accuracy: 0.3276 - val_loss: 1.0574 - val_accuracy: 0.3386\n",
      "\n",
      "Epoch 00002: saving model to model/keypoint_classifier\\keypoint_classifier.hdf5\n",
      "Epoch 3/1000\n",
      "9/9 [==============================] - 0s 5ms/step - loss: 1.1463 - accuracy: 0.3632 - val_loss: 1.0374 - val_accuracy: 0.4233\n",
      "\n",
      "Epoch 00003: saving model to model/keypoint_classifier\\keypoint_classifier.hdf5\n",
      "Epoch 4/1000\n",
      "9/9 [==============================] - 0s 5ms/step - loss: 1.1155 - accuracy: 0.3535 - val_loss: 1.0332 - val_accuracy: 0.5079\n",
      "\n",
      "Epoch 00004: saving model to model/keypoint_classifier\\keypoint_classifier.hdf5\n",
      "Epoch 5/1000\n",
      "9/9 [==============================] - 0s 5ms/step - loss: 1.0796 - accuracy: 0.3992 - val_loss: 1.0220 - val_accuracy: 0.5582\n",
      "\n",
      "Epoch 00005: saving model to model/keypoint_classifier\\keypoint_classifier.hdf5\n",
      "Epoch 6/1000\n",
      "9/9 [==============================] - 0s 5ms/step - loss: 1.0612 - accuracy: 0.4189 - val_loss: 1.0077 - val_accuracy: 0.4206\n",
      "\n",
      "Epoch 00006: saving model to model/keypoint_classifier\\keypoint_classifier.hdf5\n",
      "Epoch 7/1000\n",
      "9/9 [==============================] - 0s 5ms/step - loss: 1.0613 - accuracy: 0.3962 - val_loss: 0.9905 - val_accuracy: 0.4815\n",
      "\n",
      "Epoch 00007: saving model to model/keypoint_classifier\\keypoint_classifier.hdf5\n",
      "Epoch 8/1000\n",
      "9/9 [==============================] - 0s 5ms/step - loss: 1.0392 - accuracy: 0.4204 - val_loss: 0.9709 - val_accuracy: 0.5556\n",
      "\n",
      "Epoch 00008: saving model to model/keypoint_classifier\\keypoint_classifier.hdf5\n",
      "Epoch 9/1000\n",
      "9/9 [==============================] - 0s 5ms/step - loss: 1.0211 - accuracy: 0.4477 - val_loss: 0.9471 - val_accuracy: 0.6772\n",
      "\n",
      "Epoch 00009: saving model to model/keypoint_classifier\\keypoint_classifier.hdf5\n",
      "Epoch 10/1000\n",
      "9/9 [==============================] - 0s 5ms/step - loss: 0.9833 - accuracy: 0.4728 - val_loss: 0.9176 - val_accuracy: 0.8360\n",
      "\n",
      "Epoch 00010: saving model to model/keypoint_classifier\\keypoint_classifier.hdf5\n",
      "Epoch 11/1000\n",
      "9/9 [==============================] - 0s 5ms/step - loss: 0.9748 - accuracy: 0.4611 - val_loss: 0.8861 - val_accuracy: 0.8492\n",
      "\n",
      "Epoch 00011: saving model to model/keypoint_classifier\\keypoint_classifier.hdf5\n",
      "Epoch 12/1000\n",
      "9/9 [==============================] - 0s 5ms/step - loss: 0.9445 - accuracy: 0.5333 - val_loss: 0.8506 - val_accuracy: 0.8519\n",
      "\n",
      "Epoch 00012: saving model to model/keypoint_classifier\\keypoint_classifier.hdf5\n",
      "Epoch 13/1000\n",
      "9/9 [==============================] - 0s 5ms/step - loss: 0.9263 - accuracy: 0.5191 - val_loss: 0.8160 - val_accuracy: 0.8624\n",
      "\n",
      "Epoch 00013: saving model to model/keypoint_classifier\\keypoint_classifier.hdf5\n",
      "Epoch 14/1000\n",
      "9/9 [==============================] - 0s 5ms/step - loss: 0.8789 - accuracy: 0.6025 - val_loss: 0.7783 - val_accuracy: 0.8624\n",
      "\n",
      "Epoch 00014: saving model to model/keypoint_classifier\\keypoint_classifier.hdf5\n",
      "Epoch 15/1000\n",
      "9/9 [==============================] - 0s 6ms/step - loss: 0.8719 - accuracy: 0.5965 - val_loss: 0.7492 - val_accuracy: 0.8624\n",
      "\n",
      "Epoch 00015: saving model to model/keypoint_classifier\\keypoint_classifier.hdf5\n",
      "Epoch 16/1000\n",
      "9/9 [==============================] - 0s 5ms/step - loss: 0.8570 - accuracy: 0.6153 - val_loss: 0.7176 - val_accuracy: 0.8862\n",
      "\n",
      "Epoch 00016: saving model to model/keypoint_classifier\\keypoint_classifier.hdf5\n",
      "Epoch 17/1000\n",
      "9/9 [==============================] - 0s 5ms/step - loss: 0.8000 - accuracy: 0.6339 - val_loss: 0.6786 - val_accuracy: 0.9894\n",
      "\n",
      "Epoch 00017: saving model to model/keypoint_classifier\\keypoint_classifier.hdf5\n",
      "Epoch 18/1000\n",
      "9/9 [==============================] - 0s 5ms/step - loss: 0.7847 - accuracy: 0.6292 - val_loss: 0.6401 - val_accuracy: 1.0000\n",
      "\n",
      "Epoch 00018: saving model to model/keypoint_classifier\\keypoint_classifier.hdf5\n",
      "Epoch 19/1000\n",
      "9/9 [==============================] - 0s 5ms/step - loss: 0.7620 - accuracy: 0.6836 - val_loss: 0.6049 - val_accuracy: 1.0000\n",
      "\n",
      "Epoch 00019: saving model to model/keypoint_classifier\\keypoint_classifier.hdf5\n",
      "Epoch 20/1000\n",
      "9/9 [==============================] - 0s 4ms/step - loss: 0.7380 - accuracy: 0.7318 - val_loss: 0.5676 - val_accuracy: 1.0000\n",
      "\n",
      "Epoch 00020: saving model to model/keypoint_classifier\\keypoint_classifier.hdf5\n",
      "Epoch 21/1000\n",
      "9/9 [==============================] - 0s 5ms/step - loss: 0.6973 - accuracy: 0.7141 - val_loss: 0.5245 - val_accuracy: 1.0000\n",
      "\n",
      "Epoch 00021: saving model to model/keypoint_classifier\\keypoint_classifier.hdf5\n",
      "Epoch 22/1000\n",
      "9/9 [==============================] - 0s 5ms/step - loss: 0.7113 - accuracy: 0.7059 - val_loss: 0.4861 - val_accuracy: 1.0000\n",
      "\n",
      "Epoch 00022: saving model to model/keypoint_classifier\\keypoint_classifier.hdf5\n",
      "Epoch 23/1000\n",
      "9/9 [==============================] - 0s 4ms/step - loss: 0.6720 - accuracy: 0.7376 - val_loss: 0.4510 - val_accuracy: 1.0000\n",
      "\n",
      "Epoch 00023: saving model to model/keypoint_classifier\\keypoint_classifier.hdf5\n",
      "Epoch 24/1000\n",
      "9/9 [==============================] - 0s 5ms/step - loss: 0.6237 - accuracy: 0.7832 - val_loss: 0.4127 - val_accuracy: 1.0000\n",
      "\n",
      "Epoch 00024: saving model to model/keypoint_classifier\\keypoint_classifier.hdf5\n",
      "Epoch 25/1000\n",
      "9/9 [==============================] - 0s 4ms/step - loss: 0.6009 - accuracy: 0.7726 - val_loss: 0.3733 - val_accuracy: 1.0000\n",
      "\n",
      "Epoch 00025: saving model to model/keypoint_classifier\\keypoint_classifier.hdf5\n",
      "Epoch 26/1000\n",
      "9/9 [==============================] - 0s 4ms/step - loss: 0.5795 - accuracy: 0.7888 - val_loss: 0.3394 - val_accuracy: 1.0000\n",
      "\n",
      "Epoch 00026: saving model to model/keypoint_classifier\\keypoint_classifier.hdf5\n",
      "Epoch 27/1000\n",
      "9/9 [==============================] - 0s 5ms/step - loss: 0.5416 - accuracy: 0.8070 - val_loss: 0.3082 - val_accuracy: 1.0000\n",
      "\n",
      "Epoch 00027: saving model to model/keypoint_classifier\\keypoint_classifier.hdf5\n",
      "Epoch 28/1000\n",
      "9/9 [==============================] - 0s 5ms/step - loss: 0.5435 - accuracy: 0.8021 - val_loss: 0.2812 - val_accuracy: 1.0000\n",
      "\n",
      "Epoch 00028: saving model to model/keypoint_classifier\\keypoint_classifier.hdf5\n",
      "Epoch 29/1000\n",
      "9/9 [==============================] - 0s 5ms/step - loss: 0.5166 - accuracy: 0.8235 - val_loss: 0.2584 - val_accuracy: 1.0000\n",
      "\n",
      "Epoch 00029: saving model to model/keypoint_classifier\\keypoint_classifier.hdf5\n",
      "Epoch 30/1000\n",
      "9/9 [==============================] - 0s 5ms/step - loss: 0.4666 - accuracy: 0.8314 - val_loss: 0.2353 - val_accuracy: 1.0000\n",
      "\n",
      "Epoch 00030: saving model to model/keypoint_classifier\\keypoint_classifier.hdf5\n",
      "Epoch 31/1000\n",
      "9/9 [==============================] - 0s 4ms/step - loss: 0.4648 - accuracy: 0.8374 - val_loss: 0.2128 - val_accuracy: 1.0000\n",
      "\n",
      "Epoch 00031: saving model to model/keypoint_classifier\\keypoint_classifier.hdf5\n",
      "Epoch 32/1000\n",
      "9/9 [==============================] - 0s 4ms/step - loss: 0.4711 - accuracy: 0.8433 - val_loss: 0.1948 - val_accuracy: 1.0000\n",
      "\n",
      "Epoch 00032: saving model to model/keypoint_classifier\\keypoint_classifier.hdf5\n",
      "Epoch 33/1000\n",
      "9/9 [==============================] - 0s 5ms/step - loss: 0.4219 - accuracy: 0.8614 - val_loss: 0.1794 - val_accuracy: 1.0000\n",
      "\n",
      "Epoch 00033: saving model to model/keypoint_classifier\\keypoint_classifier.hdf5\n",
      "Epoch 34/1000\n",
      "9/9 [==============================] - 0s 6ms/step - loss: 0.4078 - accuracy: 0.8938 - val_loss: 0.1665 - val_accuracy: 1.0000\n",
      "\n",
      "Epoch 00034: saving model to model/keypoint_classifier\\keypoint_classifier.hdf5\n",
      "Epoch 35/1000\n",
      "9/9 [==============================] - 0s 5ms/step - loss: 0.4138 - accuracy: 0.8639 - val_loss: 0.1563 - val_accuracy: 1.0000\n",
      "\n",
      "Epoch 00035: saving model to model/keypoint_classifier\\keypoint_classifier.hdf5\n",
      "Epoch 36/1000\n",
      "9/9 [==============================] - 0s 4ms/step - loss: 0.3855 - accuracy: 0.8970 - val_loss: 0.1453 - val_accuracy: 1.0000\n",
      "\n",
      "Epoch 00036: saving model to model/keypoint_classifier\\keypoint_classifier.hdf5\n",
      "Epoch 37/1000\n",
      "9/9 [==============================] - 0s 5ms/step - loss: 0.3799 - accuracy: 0.8819 - val_loss: 0.1350 - val_accuracy: 1.0000\n",
      "\n",
      "Epoch 00037: saving model to model/keypoint_classifier\\keypoint_classifier.hdf5\n",
      "Epoch 38/1000\n",
      "9/9 [==============================] - 0s 5ms/step - loss: 0.3492 - accuracy: 0.9110 - val_loss: 0.1258 - val_accuracy: 1.0000\n",
      "\n",
      "Epoch 00038: saving model to model/keypoint_classifier\\keypoint_classifier.hdf5\n",
      "Epoch 39/1000\n",
      "9/9 [==============================] - 0s 4ms/step - loss: 0.3566 - accuracy: 0.8980 - val_loss: 0.1165 - val_accuracy: 1.0000\n",
      "\n",
      "Epoch 00039: saving model to model/keypoint_classifier\\keypoint_classifier.hdf5\n",
      "Epoch 40/1000\n",
      "9/9 [==============================] - 0s 4ms/step - loss: 0.3655 - accuracy: 0.8808 - val_loss: 0.1090 - val_accuracy: 1.0000\n",
      "\n",
      "Epoch 00040: saving model to model/keypoint_classifier\\keypoint_classifier.hdf5\n",
      "Epoch 41/1000\n",
      "9/9 [==============================] - 0s 4ms/step - loss: 0.3231 - accuracy: 0.8952 - val_loss: 0.1022 - val_accuracy: 1.0000\n",
      "\n",
      "Epoch 00041: saving model to model/keypoint_classifier\\keypoint_classifier.hdf5\n",
      "Epoch 42/1000\n",
      "9/9 [==============================] - 0s 4ms/step - loss: 0.3354 - accuracy: 0.9001 - val_loss: 0.0956 - val_accuracy: 1.0000\n",
      "\n",
      "Epoch 00042: saving model to model/keypoint_classifier\\keypoint_classifier.hdf5\n",
      "Epoch 43/1000\n",
      "9/9 [==============================] - 0s 4ms/step - loss: 0.3189 - accuracy: 0.9040 - val_loss: 0.0897 - val_accuracy: 1.0000\n",
      "\n",
      "Epoch 00043: saving model to model/keypoint_classifier\\keypoint_classifier.hdf5\n",
      "Epoch 44/1000\n",
      "9/9 [==============================] - 0s 4ms/step - loss: 0.2993 - accuracy: 0.9083 - val_loss: 0.0843 - val_accuracy: 1.0000\n",
      "\n",
      "Epoch 00044: saving model to model/keypoint_classifier\\keypoint_classifier.hdf5\n",
      "Epoch 45/1000\n",
      "9/9 [==============================] - 0s 4ms/step - loss: 0.3123 - accuracy: 0.8965 - val_loss: 0.0808 - val_accuracy: 1.0000\n",
      "\n",
      "Epoch 00045: saving model to model/keypoint_classifier\\keypoint_classifier.hdf5\n",
      "Epoch 46/1000\n",
      "9/9 [==============================] - 0s 4ms/step - loss: 0.2974 - accuracy: 0.9060 - val_loss: 0.0771 - val_accuracy: 1.0000\n",
      "\n",
      "Epoch 00046: saving model to model/keypoint_classifier\\keypoint_classifier.hdf5\n",
      "Epoch 47/1000\n",
      "9/9 [==============================] - 0s 4ms/step - loss: 0.3020 - accuracy: 0.9014 - val_loss: 0.0740 - val_accuracy: 1.0000\n",
      "\n",
      "Epoch 00047: saving model to model/keypoint_classifier\\keypoint_classifier.hdf5\n",
      "Epoch 48/1000\n",
      "9/9 [==============================] - 0s 4ms/step - loss: 0.3230 - accuracy: 0.8992 - val_loss: 0.0692 - val_accuracy: 1.0000\n",
      "\n",
      "Epoch 00048: saving model to model/keypoint_classifier\\keypoint_classifier.hdf5\n",
      "Epoch 49/1000\n",
      "9/9 [==============================] - 0s 4ms/step - loss: 0.2735 - accuracy: 0.9149 - val_loss: 0.0642 - val_accuracy: 1.0000\n",
      "\n",
      "Epoch 00049: saving model to model/keypoint_classifier\\keypoint_classifier.hdf5\n",
      "Epoch 50/1000\n",
      "9/9 [==============================] - 0s 4ms/step - loss: 0.3030 - accuracy: 0.8986 - val_loss: 0.0626 - val_accuracy: 1.0000\n",
      "\n",
      "Epoch 00050: saving model to model/keypoint_classifier\\keypoint_classifier.hdf5\n",
      "Epoch 51/1000\n",
      "9/9 [==============================] - 0s 4ms/step - loss: 0.2443 - accuracy: 0.9263 - val_loss: 0.0593 - val_accuracy: 1.0000\n",
      "\n",
      "Epoch 00051: saving model to model/keypoint_classifier\\keypoint_classifier.hdf5\n",
      "Epoch 52/1000\n",
      "9/9 [==============================] - 0s 4ms/step - loss: 0.2577 - accuracy: 0.9165 - val_loss: 0.0552 - val_accuracy: 1.0000\n",
      "\n",
      "Epoch 00052: saving model to model/keypoint_classifier\\keypoint_classifier.hdf5\n",
      "Epoch 53/1000\n",
      "9/9 [==============================] - 0s 4ms/step - loss: 0.2255 - accuracy: 0.9318 - val_loss: 0.0509 - val_accuracy: 1.0000\n",
      "\n",
      "Epoch 00053: saving model to model/keypoint_classifier\\keypoint_classifier.hdf5\n",
      "Epoch 54/1000\n",
      "9/9 [==============================] - 0s 4ms/step - loss: 0.2365 - accuracy: 0.9185 - val_loss: 0.0475 - val_accuracy: 1.0000\n",
      "\n",
      "Epoch 00054: saving model to model/keypoint_classifier\\keypoint_classifier.hdf5\n",
      "Epoch 55/1000\n",
      "9/9 [==============================] - 0s 4ms/step - loss: 0.2799 - accuracy: 0.9050 - val_loss: 0.0476 - val_accuracy: 1.0000\n",
      "\n",
      "Epoch 00055: saving model to model/keypoint_classifier\\keypoint_classifier.hdf5\n",
      "Epoch 56/1000\n",
      "9/9 [==============================] - 0s 4ms/step - loss: 0.1972 - accuracy: 0.9415 - val_loss: 0.0462 - val_accuracy: 1.0000\n",
      "\n",
      "Epoch 00056: saving model to model/keypoint_classifier\\keypoint_classifier.hdf5\n",
      "Epoch 57/1000\n",
      "9/9 [==============================] - 0s 4ms/step - loss: 0.2271 - accuracy: 0.9325 - val_loss: 0.0440 - val_accuracy: 1.0000\n",
      "\n",
      "Epoch 00057: saving model to model/keypoint_classifier\\keypoint_classifier.hdf5\n",
      "Epoch 58/1000\n",
      "9/9 [==============================] - 0s 4ms/step - loss: 0.2624 - accuracy: 0.9068 - val_loss: 0.0425 - val_accuracy: 1.0000\n",
      "\n",
      "Epoch 00058: saving model to model/keypoint_classifier\\keypoint_classifier.hdf5\n",
      "Epoch 59/1000\n",
      "9/9 [==============================] - 0s 4ms/step - loss: 0.2065 - accuracy: 0.9368 - val_loss: 0.0405 - val_accuracy: 1.0000\n",
      "\n",
      "Epoch 00059: saving model to model/keypoint_classifier\\keypoint_classifier.hdf5\n",
      "Epoch 60/1000\n",
      "9/9 [==============================] - 0s 4ms/step - loss: 0.2345 - accuracy: 0.9172 - val_loss: 0.0393 - val_accuracy: 1.0000\n",
      "\n",
      "Epoch 00060: saving model to model/keypoint_classifier\\keypoint_classifier.hdf5\n",
      "Epoch 61/1000\n",
      "9/9 [==============================] - 0s 4ms/step - loss: 0.2122 - accuracy: 0.9330 - val_loss: 0.0386 - val_accuracy: 1.0000\n",
      "\n",
      "Epoch 00061: saving model to model/keypoint_classifier\\keypoint_classifier.hdf5\n",
      "Epoch 62/1000\n",
      "9/9 [==============================] - 0s 4ms/step - loss: 0.2271 - accuracy: 0.9184 - val_loss: 0.0380 - val_accuracy: 1.0000\n",
      "\n",
      "Epoch 00062: saving model to model/keypoint_classifier\\keypoint_classifier.hdf5\n",
      "Epoch 63/1000\n",
      "9/9 [==============================] - 0s 4ms/step - loss: 0.2137 - accuracy: 0.9249 - val_loss: 0.0375 - val_accuracy: 1.0000\n",
      "\n",
      "Epoch 00063: saving model to model/keypoint_classifier\\keypoint_classifier.hdf5\n",
      "Epoch 64/1000\n",
      "9/9 [==============================] - 0s 5ms/step - loss: 0.2115 - accuracy: 0.9364 - val_loss: 0.0370 - val_accuracy: 1.0000\n",
      "\n",
      "Epoch 00064: saving model to model/keypoint_classifier\\keypoint_classifier.hdf5\n",
      "Epoch 65/1000\n",
      "9/9 [==============================] - 0s 4ms/step - loss: 0.2104 - accuracy: 0.9294 - val_loss: 0.0364 - val_accuracy: 1.0000\n",
      "\n",
      "Epoch 00065: saving model to model/keypoint_classifier\\keypoint_classifier.hdf5\n",
      "Epoch 66/1000\n",
      "9/9 [==============================] - 0s 5ms/step - loss: 0.2126 - accuracy: 0.9226 - val_loss: 0.0362 - val_accuracy: 1.0000\n",
      "\n",
      "Epoch 00066: saving model to model/keypoint_classifier\\keypoint_classifier.hdf5\n",
      "Epoch 67/1000\n",
      "9/9 [==============================] - 0s 5ms/step - loss: 0.1968 - accuracy: 0.9294 - val_loss: 0.0351 - val_accuracy: 1.0000\n",
      "\n",
      "Epoch 00067: saving model to model/keypoint_classifier\\keypoint_classifier.hdf5\n",
      "Epoch 68/1000\n",
      "9/9 [==============================] - 0s 5ms/step - loss: 0.2038 - accuracy: 0.9327 - val_loss: 0.0334 - val_accuracy: 1.0000\n",
      "\n",
      "Epoch 00068: saving model to model/keypoint_classifier\\keypoint_classifier.hdf5\n",
      "Epoch 69/1000\n",
      "9/9 [==============================] - 0s 5ms/step - loss: 0.2173 - accuracy: 0.9207 - val_loss: 0.0317 - val_accuracy: 1.0000\n",
      "\n",
      "Epoch 00069: saving model to model/keypoint_classifier\\keypoint_classifier.hdf5\n",
      "Epoch 70/1000\n",
      "9/9 [==============================] - 0s 5ms/step - loss: 0.2093 - accuracy: 0.9334 - val_loss: 0.0311 - val_accuracy: 1.0000\n",
      "\n",
      "Epoch 00070: saving model to model/keypoint_classifier\\keypoint_classifier.hdf5\n",
      "Epoch 71/1000\n",
      "9/9 [==============================] - 0s 5ms/step - loss: 0.1869 - accuracy: 0.9334 - val_loss: 0.0294 - val_accuracy: 1.0000\n",
      "\n",
      "Epoch 00071: saving model to model/keypoint_classifier\\keypoint_classifier.hdf5\n",
      "Epoch 72/1000\n",
      "9/9 [==============================] - 0s 5ms/step - loss: 0.2279 - accuracy: 0.9086 - val_loss: 0.0294 - val_accuracy: 1.0000\n",
      "\n",
      "Epoch 00072: saving model to model/keypoint_classifier\\keypoint_classifier.hdf5\n",
      "Epoch 73/1000\n",
      "9/9 [==============================] - 0s 5ms/step - loss: 0.1980 - accuracy: 0.9316 - val_loss: 0.0288 - val_accuracy: 1.0000\n",
      "\n",
      "Epoch 00073: saving model to model/keypoint_classifier\\keypoint_classifier.hdf5\n",
      "Epoch 74/1000\n",
      "9/9 [==============================] - 0s 5ms/step - loss: 0.1655 - accuracy: 0.9392 - val_loss: 0.0279 - val_accuracy: 1.0000\n",
      "\n",
      "Epoch 00074: saving model to model/keypoint_classifier\\keypoint_classifier.hdf5\n",
      "Epoch 75/1000\n",
      "9/9 [==============================] - 0s 5ms/step - loss: 0.1733 - accuracy: 0.9393 - val_loss: 0.0267 - val_accuracy: 1.0000\n",
      "\n",
      "Epoch 00075: saving model to model/keypoint_classifier\\keypoint_classifier.hdf5\n",
      "Epoch 76/1000\n",
      "9/9 [==============================] - 0s 5ms/step - loss: 0.1715 - accuracy: 0.9466 - val_loss: 0.0253 - val_accuracy: 1.0000\n",
      "\n",
      "Epoch 00076: saving model to model/keypoint_classifier\\keypoint_classifier.hdf5\n",
      "Epoch 77/1000\n",
      "9/9 [==============================] - 0s 5ms/step - loss: 0.1855 - accuracy: 0.9308 - val_loss: 0.0240 - val_accuracy: 1.0000\n",
      "\n",
      "Epoch 00077: saving model to model/keypoint_classifier\\keypoint_classifier.hdf5\n",
      "Epoch 78/1000\n",
      "9/9 [==============================] - 0s 5ms/step - loss: 0.1726 - accuracy: 0.9337 - val_loss: 0.0241 - val_accuracy: 1.0000\n",
      "\n",
      "Epoch 00078: saving model to model/keypoint_classifier\\keypoint_classifier.hdf5\n",
      "Epoch 79/1000\n",
      "9/9 [==============================] - 0s 5ms/step - loss: 0.1542 - accuracy: 0.9471 - val_loss: 0.0240 - val_accuracy: 1.0000\n",
      "\n",
      "Epoch 00079: saving model to model/keypoint_classifier\\keypoint_classifier.hdf5\n",
      "Epoch 80/1000\n",
      "9/9 [==============================] - 0s 4ms/step - loss: 0.1737 - accuracy: 0.9349 - val_loss: 0.0232 - val_accuracy: 1.0000\n",
      "\n",
      "Epoch 00080: saving model to model/keypoint_classifier\\keypoint_classifier.hdf5\n",
      "Epoch 81/1000\n",
      "9/9 [==============================] - 0s 4ms/step - loss: 0.1815 - accuracy: 0.9291 - val_loss: 0.0225 - val_accuracy: 1.0000\n",
      "\n",
      "Epoch 00081: saving model to model/keypoint_classifier\\keypoint_classifier.hdf5\n",
      "Epoch 82/1000\n",
      "9/9 [==============================] - 0s 4ms/step - loss: 0.1750 - accuracy: 0.9397 - val_loss: 0.0216 - val_accuracy: 1.0000\n",
      "\n",
      "Epoch 00082: saving model to model/keypoint_classifier\\keypoint_classifier.hdf5\n",
      "Epoch 83/1000\n",
      "9/9 [==============================] - 0s 5ms/step - loss: 0.1963 - accuracy: 0.9088 - val_loss: 0.0209 - val_accuracy: 1.0000\n",
      "\n",
      "Epoch 00083: saving model to model/keypoint_classifier\\keypoint_classifier.hdf5\n",
      "Epoch 84/1000\n",
      "9/9 [==============================] - 0s 4ms/step - loss: 0.1878 - accuracy: 0.9242 - val_loss: 0.0208 - val_accuracy: 1.0000\n",
      "\n",
      "Epoch 00084: saving model to model/keypoint_classifier\\keypoint_classifier.hdf5\n",
      "Epoch 85/1000\n",
      "9/9 [==============================] - 0s 4ms/step - loss: 0.1475 - accuracy: 0.9462 - val_loss: 0.0205 - val_accuracy: 1.0000\n",
      "\n",
      "Epoch 00085: saving model to model/keypoint_classifier\\keypoint_classifier.hdf5\n",
      "Epoch 86/1000\n",
      "9/9 [==============================] - 0s 5ms/step - loss: 0.1540 - accuracy: 0.9437 - val_loss: 0.0200 - val_accuracy: 1.0000\n",
      "\n",
      "Epoch 00086: saving model to model/keypoint_classifier\\keypoint_classifier.hdf5\n",
      "Epoch 87/1000\n",
      "9/9 [==============================] - 0s 4ms/step - loss: 0.1705 - accuracy: 0.9350 - val_loss: 0.0192 - val_accuracy: 1.0000\n",
      "\n",
      "Epoch 00087: saving model to model/keypoint_classifier\\keypoint_classifier.hdf5\n",
      "Epoch 88/1000\n",
      "9/9 [==============================] - 0s 4ms/step - loss: 0.1526 - accuracy: 0.9504 - val_loss: 0.0189 - val_accuracy: 1.0000\n",
      "\n",
      "Epoch 00088: saving model to model/keypoint_classifier\\keypoint_classifier.hdf5\n",
      "Epoch 89/1000\n",
      "9/9 [==============================] - 0s 4ms/step - loss: 0.1487 - accuracy: 0.9495 - val_loss: 0.0190 - val_accuracy: 1.0000\n",
      "\n",
      "Epoch 00089: saving model to model/keypoint_classifier\\keypoint_classifier.hdf5\n",
      "Epoch 90/1000\n",
      "9/9 [==============================] - 0s 4ms/step - loss: 0.1668 - accuracy: 0.9470 - val_loss: 0.0183 - val_accuracy: 1.0000\n",
      "\n",
      "Epoch 00090: saving model to model/keypoint_classifier\\keypoint_classifier.hdf5\n",
      "Epoch 91/1000\n",
      "9/9 [==============================] - 0s 7ms/step - loss: 0.1390 - accuracy: 0.9540 - val_loss: 0.0178 - val_accuracy: 1.0000\n",
      "\n",
      "Epoch 00091: saving model to model/keypoint_classifier\\keypoint_classifier.hdf5\n",
      "Epoch 92/1000\n",
      "9/9 [==============================] - 0s 4ms/step - loss: 0.1562 - accuracy: 0.9514 - val_loss: 0.0178 - val_accuracy: 1.0000\n",
      "\n",
      "Epoch 00092: saving model to model/keypoint_classifier\\keypoint_classifier.hdf5\n",
      "Epoch 93/1000\n",
      "9/9 [==============================] - 0s 4ms/step - loss: 0.1559 - accuracy: 0.9483 - val_loss: 0.0170 - val_accuracy: 1.0000\n",
      "\n",
      "Epoch 00093: saving model to model/keypoint_classifier\\keypoint_classifier.hdf5\n",
      "Epoch 94/1000\n",
      "9/9 [==============================] - 0s 4ms/step - loss: 0.1549 - accuracy: 0.9477 - val_loss: 0.0164 - val_accuracy: 1.0000\n",
      "\n",
      "Epoch 00094: saving model to model/keypoint_classifier\\keypoint_classifier.hdf5\n",
      "Epoch 95/1000\n",
      "9/9 [==============================] - 0s 5ms/step - loss: 0.1187 - accuracy: 0.9640 - val_loss: 0.0151 - val_accuracy: 1.0000\n",
      "\n",
      "Epoch 00095: saving model to model/keypoint_classifier\\keypoint_classifier.hdf5\n",
      "Epoch 96/1000\n",
      "9/9 [==============================] - 0s 4ms/step - loss: 0.1315 - accuracy: 0.9515 - val_loss: 0.0144 - val_accuracy: 1.0000\n",
      "\n",
      "Epoch 00096: saving model to model/keypoint_classifier\\keypoint_classifier.hdf5\n",
      "Epoch 97/1000\n",
      "9/9 [==============================] - 0s 4ms/step - loss: 0.1575 - accuracy: 0.9422 - val_loss: 0.0149 - val_accuracy: 1.0000\n",
      "\n",
      "Epoch 00097: saving model to model/keypoint_classifier\\keypoint_classifier.hdf5\n",
      "Epoch 98/1000\n",
      "9/9 [==============================] - 0s 4ms/step - loss: 0.1143 - accuracy: 0.9651 - val_loss: 0.0148 - val_accuracy: 1.0000\n",
      "\n",
      "Epoch 00098: saving model to model/keypoint_classifier\\keypoint_classifier.hdf5\n",
      "Epoch 99/1000\n",
      "9/9 [==============================] - 0s 4ms/step - loss: 0.1474 - accuracy: 0.9510 - val_loss: 0.0151 - val_accuracy: 1.0000\n",
      "\n",
      "Epoch 00099: saving model to model/keypoint_classifier\\keypoint_classifier.hdf5\n",
      "Epoch 100/1000\n",
      "9/9 [==============================] - 0s 4ms/step - loss: 0.1260 - accuracy: 0.9603 - val_loss: 0.0148 - val_accuracy: 1.0000\n",
      "\n",
      "Epoch 00100: saving model to model/keypoint_classifier\\keypoint_classifier.hdf5\n",
      "Epoch 101/1000\n",
      "9/9 [==============================] - 0s 4ms/step - loss: 0.1230 - accuracy: 0.9650 - val_loss: 0.0137 - val_accuracy: 1.0000\n",
      "\n",
      "Epoch 00101: saving model to model/keypoint_classifier\\keypoint_classifier.hdf5\n",
      "Epoch 102/1000\n",
      "9/9 [==============================] - 0s 4ms/step - loss: 0.1105 - accuracy: 0.9702 - val_loss: 0.0123 - val_accuracy: 1.0000\n",
      "\n",
      "Epoch 00102: saving model to model/keypoint_classifier\\keypoint_classifier.hdf5\n",
      "Epoch 103/1000\n",
      "9/9 [==============================] - 0s 5ms/step - loss: 0.1231 - accuracy: 0.9557 - val_loss: 0.0114 - val_accuracy: 1.0000\n",
      "\n",
      "Epoch 00103: saving model to model/keypoint_classifier\\keypoint_classifier.hdf5\n",
      "Epoch 104/1000\n",
      "9/9 [==============================] - 0s 5ms/step - loss: 0.1249 - accuracy: 0.9588 - val_loss: 0.0113 - val_accuracy: 1.0000\n",
      "\n",
      "Epoch 00104: saving model to model/keypoint_classifier\\keypoint_classifier.hdf5\n",
      "Epoch 105/1000\n",
      "9/9 [==============================] - 0s 4ms/step - loss: 0.1225 - accuracy: 0.9586 - val_loss: 0.0108 - val_accuracy: 1.0000\n",
      "\n",
      "Epoch 00105: saving model to model/keypoint_classifier\\keypoint_classifier.hdf5\n",
      "Epoch 106/1000\n",
      "9/9 [==============================] - 0s 5ms/step - loss: 0.1107 - accuracy: 0.9612 - val_loss: 0.0104 - val_accuracy: 1.0000\n",
      "\n",
      "Epoch 00106: saving model to model/keypoint_classifier\\keypoint_classifier.hdf5\n",
      "Epoch 107/1000\n",
      "9/9 [==============================] - 0s 5ms/step - loss: 0.1133 - accuracy: 0.9648 - val_loss: 0.0098 - val_accuracy: 1.0000\n",
      "\n",
      "Epoch 00107: saving model to model/keypoint_classifier\\keypoint_classifier.hdf5\n",
      "Epoch 108/1000\n",
      "9/9 [==============================] - 0s 4ms/step - loss: 0.1366 - accuracy: 0.9534 - val_loss: 0.0100 - val_accuracy: 1.0000\n",
      "\n",
      "Epoch 00108: saving model to model/keypoint_classifier\\keypoint_classifier.hdf5\n",
      "Epoch 109/1000\n",
      "9/9 [==============================] - 0s 5ms/step - loss: 0.1192 - accuracy: 0.9694 - val_loss: 0.0102 - val_accuracy: 1.0000\n",
      "\n",
      "Epoch 00109: saving model to model/keypoint_classifier\\keypoint_classifier.hdf5\n",
      "Epoch 110/1000\n",
      "9/9 [==============================] - 0s 4ms/step - loss: 0.1125 - accuracy: 0.9609 - val_loss: 0.0104 - val_accuracy: 1.0000\n",
      "\n",
      "Epoch 00110: saving model to model/keypoint_classifier\\keypoint_classifier.hdf5\n",
      "Epoch 111/1000\n",
      "9/9 [==============================] - 0s 4ms/step - loss: 0.1309 - accuracy: 0.9590 - val_loss: 0.0108 - val_accuracy: 1.0000\n",
      "\n",
      "Epoch 00111: saving model to model/keypoint_classifier\\keypoint_classifier.hdf5\n",
      "Epoch 112/1000\n",
      "9/9 [==============================] - 0s 4ms/step - loss: 0.1361 - accuracy: 0.9494 - val_loss: 0.0110 - val_accuracy: 1.0000\n",
      "\n",
      "Epoch 00112: saving model to model/keypoint_classifier\\keypoint_classifier.hdf5\n",
      "Epoch 113/1000\n",
      "9/9 [==============================] - 0s 4ms/step - loss: 0.1193 - accuracy: 0.9613 - val_loss: 0.0110 - val_accuracy: 1.0000\n",
      "\n",
      "Epoch 00113: saving model to model/keypoint_classifier\\keypoint_classifier.hdf5\n",
      "Epoch 114/1000\n",
      "9/9 [==============================] - 0s 4ms/step - loss: 0.0961 - accuracy: 0.9679 - val_loss: 0.0107 - val_accuracy: 1.0000\n",
      "\n",
      "Epoch 00114: saving model to model/keypoint_classifier\\keypoint_classifier.hdf5\n",
      "Epoch 115/1000\n",
      "9/9 [==============================] - 0s 4ms/step - loss: 0.1407 - accuracy: 0.9577 - val_loss: 0.0111 - val_accuracy: 1.0000\n",
      "\n",
      "Epoch 00115: saving model to model/keypoint_classifier\\keypoint_classifier.hdf5\n",
      "Epoch 116/1000\n",
      "9/9 [==============================] - 0s 6ms/step - loss: 0.1399 - accuracy: 0.9496 - val_loss: 0.0110 - val_accuracy: 1.0000\n",
      "\n",
      "Epoch 00116: saving model to model/keypoint_classifier\\keypoint_classifier.hdf5\n",
      "Epoch 117/1000\n",
      "9/9 [==============================] - 0s 4ms/step - loss: 0.1126 - accuracy: 0.9676 - val_loss: 0.0108 - val_accuracy: 1.0000\n",
      "\n",
      "Epoch 00117: saving model to model/keypoint_classifier\\keypoint_classifier.hdf5\n",
      "Epoch 118/1000\n",
      "9/9 [==============================] - 0s 4ms/step - loss: 0.1113 - accuracy: 0.9594 - val_loss: 0.0107 - val_accuracy: 1.0000\n",
      "\n",
      "Epoch 00118: saving model to model/keypoint_classifier\\keypoint_classifier.hdf5\n",
      "Epoch 119/1000\n",
      "9/9 [==============================] - 0s 4ms/step - loss: 0.1032 - accuracy: 0.9657 - val_loss: 0.0106 - val_accuracy: 1.0000\n",
      "\n",
      "Epoch 00119: saving model to model/keypoint_classifier\\keypoint_classifier.hdf5\n",
      "Epoch 120/1000\n",
      "9/9 [==============================] - 0s 4ms/step - loss: 0.1139 - accuracy: 0.9558 - val_loss: 0.0102 - val_accuracy: 1.0000\n",
      "\n",
      "Epoch 00120: saving model to model/keypoint_classifier\\keypoint_classifier.hdf5\n",
      "Epoch 121/1000\n",
      "9/9 [==============================] - 0s 4ms/step - loss: 0.0938 - accuracy: 0.9686 - val_loss: 0.0098 - val_accuracy: 1.0000\n",
      "\n",
      "Epoch 00121: saving model to model/keypoint_classifier\\keypoint_classifier.hdf5\n",
      "Epoch 122/1000\n",
      "9/9 [==============================] - 0s 5ms/step - loss: 0.1038 - accuracy: 0.9625 - val_loss: 0.0097 - val_accuracy: 1.0000\n",
      "\n",
      "Epoch 00122: saving model to model/keypoint_classifier\\keypoint_classifier.hdf5\n",
      "Epoch 123/1000\n",
      "9/9 [==============================] - 0s 5ms/step - loss: 0.1075 - accuracy: 0.9574 - val_loss: 0.0094 - val_accuracy: 1.0000\n",
      "\n",
      "Epoch 00123: saving model to model/keypoint_classifier\\keypoint_classifier.hdf5\n",
      "Epoch 124/1000\n",
      "9/9 [==============================] - 0s 5ms/step - loss: 0.1427 - accuracy: 0.9455 - val_loss: 0.0092 - val_accuracy: 1.0000\n",
      "\n",
      "Epoch 00124: saving model to model/keypoint_classifier\\keypoint_classifier.hdf5\n",
      "Epoch 125/1000\n",
      "9/9 [==============================] - 0s 4ms/step - loss: 0.0922 - accuracy: 0.9680 - val_loss: 0.0089 - val_accuracy: 1.0000\n",
      "\n",
      "Epoch 00125: saving model to model/keypoint_classifier\\keypoint_classifier.hdf5\n",
      "Epoch 126/1000\n",
      "9/9 [==============================] - 0s 4ms/step - loss: 0.1330 - accuracy: 0.9524 - val_loss: 0.0093 - val_accuracy: 1.0000\n",
      "\n",
      "Epoch 00126: saving model to model/keypoint_classifier\\keypoint_classifier.hdf5\n",
      "Epoch 127/1000\n",
      "9/9 [==============================] - 0s 4ms/step - loss: 0.0967 - accuracy: 0.9718 - val_loss: 0.0096 - val_accuracy: 1.0000\n",
      "\n",
      "Epoch 00127: saving model to model/keypoint_classifier\\keypoint_classifier.hdf5\n",
      "Epoch 128/1000\n",
      "9/9 [==============================] - 0s 4ms/step - loss: 0.0939 - accuracy: 0.9722 - val_loss: 0.0098 - val_accuracy: 1.0000\n",
      "\n",
      "Epoch 00128: saving model to model/keypoint_classifier\\keypoint_classifier.hdf5\n",
      "Epoch 129/1000\n",
      "9/9 [==============================] - 0s 4ms/step - loss: 0.1016 - accuracy: 0.9645 - val_loss: 0.0099 - val_accuracy: 1.0000\n",
      "\n",
      "Epoch 00129: saving model to model/keypoint_classifier\\keypoint_classifier.hdf5\n",
      "Epoch 130/1000\n",
      "9/9 [==============================] - 0s 4ms/step - loss: 0.0939 - accuracy: 0.9677 - val_loss: 0.0098 - val_accuracy: 1.0000\n",
      "\n",
      "Epoch 00130: saving model to model/keypoint_classifier\\keypoint_classifier.hdf5\n",
      "Epoch 131/1000\n",
      "9/9 [==============================] - 0s 4ms/step - loss: 0.1235 - accuracy: 0.9644 - val_loss: 0.0096 - val_accuracy: 1.0000\n",
      "\n",
      "Epoch 00131: saving model to model/keypoint_classifier\\keypoint_classifier.hdf5\n",
      "Epoch 132/1000\n",
      "9/9 [==============================] - 0s 4ms/step - loss: 0.1133 - accuracy: 0.9589 - val_loss: 0.0095 - val_accuracy: 1.0000\n",
      "\n",
      "Epoch 00132: saving model to model/keypoint_classifier\\keypoint_classifier.hdf5\n",
      "Epoch 133/1000\n",
      "9/9 [==============================] - 0s 5ms/step - loss: 0.0872 - accuracy: 0.9710 - val_loss: 0.0091 - val_accuracy: 1.0000\n",
      "\n",
      "Epoch 00133: saving model to model/keypoint_classifier\\keypoint_classifier.hdf5\n",
      "Epoch 134/1000\n",
      "9/9 [==============================] - 0s 4ms/step - loss: 0.0761 - accuracy: 0.9705 - val_loss: 0.0084 - val_accuracy: 1.0000\n",
      "\n",
      "Epoch 00134: saving model to model/keypoint_classifier\\keypoint_classifier.hdf5\n",
      "Epoch 135/1000\n",
      "9/9 [==============================] - 0s 4ms/step - loss: 0.1089 - accuracy: 0.9696 - val_loss: 0.0088 - val_accuracy: 1.0000\n",
      "\n",
      "Epoch 00135: saving model to model/keypoint_classifier\\keypoint_classifier.hdf5\n",
      "Epoch 136/1000\n",
      "9/9 [==============================] - 0s 4ms/step - loss: 0.0946 - accuracy: 0.9699 - val_loss: 0.0090 - val_accuracy: 1.0000\n",
      "\n",
      "Epoch 00136: saving model to model/keypoint_classifier\\keypoint_classifier.hdf5\n",
      "Epoch 137/1000\n",
      "9/9 [==============================] - 0s 6ms/step - loss: 0.1173 - accuracy: 0.9549 - val_loss: 0.0090 - val_accuracy: 1.0000\n",
      "\n",
      "Epoch 00137: saving model to model/keypoint_classifier\\keypoint_classifier.hdf5\n",
      "Epoch 138/1000\n",
      "9/9 [==============================] - 0s 4ms/step - loss: 0.1105 - accuracy: 0.9653 - val_loss: 0.0092 - val_accuracy: 1.0000\n",
      "\n",
      "Epoch 00138: saving model to model/keypoint_classifier\\keypoint_classifier.hdf5\n",
      "Epoch 139/1000\n",
      "9/9 [==============================] - 0s 5ms/step - loss: 0.0852 - accuracy: 0.9695 - val_loss: 0.0088 - val_accuracy: 1.0000\n",
      "\n",
      "Epoch 00139: saving model to model/keypoint_classifier\\keypoint_classifier.hdf5\n",
      "Epoch 140/1000\n",
      "9/9 [==============================] - 0s 4ms/step - loss: 0.0797 - accuracy: 0.9678 - val_loss: 0.0083 - val_accuracy: 1.0000\n",
      "\n",
      "Epoch 00140: saving model to model/keypoint_classifier\\keypoint_classifier.hdf5\n",
      "Epoch 141/1000\n",
      "9/9 [==============================] - 0s 4ms/step - loss: 0.0979 - accuracy: 0.9629 - val_loss: 0.0081 - val_accuracy: 1.0000\n",
      "\n",
      "Epoch 00141: saving model to model/keypoint_classifier\\keypoint_classifier.hdf5\n",
      "Epoch 142/1000\n",
      "9/9 [==============================] - 0s 4ms/step - loss: 0.1227 - accuracy: 0.9510 - val_loss: 0.0085 - val_accuracy: 1.0000\n",
      "\n",
      "Epoch 00142: saving model to model/keypoint_classifier\\keypoint_classifier.hdf5\n",
      "Epoch 143/1000\n",
      "9/9 [==============================] - 0s 4ms/step - loss: 0.0899 - accuracy: 0.9713 - val_loss: 0.0091 - val_accuracy: 1.0000\n",
      "\n",
      "Epoch 00143: saving model to model/keypoint_classifier\\keypoint_classifier.hdf5\n",
      "Epoch 144/1000\n",
      "9/9 [==============================] - 0s 4ms/step - loss: 0.1094 - accuracy: 0.9623 - val_loss: 0.0092 - val_accuracy: 1.0000\n",
      "\n",
      "Epoch 00144: saving model to model/keypoint_classifier\\keypoint_classifier.hdf5\n",
      "Epoch 145/1000\n",
      "9/9 [==============================] - 0s 4ms/step - loss: 0.0904 - accuracy: 0.9682 - val_loss: 0.0091 - val_accuracy: 1.0000\n",
      "\n",
      "Epoch 00145: saving model to model/keypoint_classifier\\keypoint_classifier.hdf5\n",
      "Epoch 146/1000\n",
      "9/9 [==============================] - 0s 5ms/step - loss: 0.1157 - accuracy: 0.9544 - val_loss: 0.0094 - val_accuracy: 1.0000\n",
      "\n",
      "Epoch 00146: saving model to model/keypoint_classifier\\keypoint_classifier.hdf5\n",
      "Epoch 147/1000\n",
      "9/9 [==============================] - 0s 5ms/step - loss: 0.1192 - accuracy: 0.9634 - val_loss: 0.0093 - val_accuracy: 1.0000\n",
      "\n",
      "Epoch 00147: saving model to model/keypoint_classifier\\keypoint_classifier.hdf5\n",
      "Epoch 148/1000\n",
      "9/9 [==============================] - 0s 5ms/step - loss: 0.1170 - accuracy: 0.9522 - val_loss: 0.0089 - val_accuracy: 1.0000\n",
      "\n",
      "Epoch 00148: saving model to model/keypoint_classifier\\keypoint_classifier.hdf5\n",
      "Epoch 149/1000\n",
      "9/9 [==============================] - 0s 4ms/step - loss: 0.1152 - accuracy: 0.9645 - val_loss: 0.0090 - val_accuracy: 1.0000\n",
      "\n",
      "Epoch 00149: saving model to model/keypoint_classifier\\keypoint_classifier.hdf5\n",
      "Epoch 150/1000\n",
      "9/9 [==============================] - 0s 4ms/step - loss: 0.1041 - accuracy: 0.9678 - val_loss: 0.0092 - val_accuracy: 1.0000\n",
      "\n",
      "Epoch 00150: saving model to model/keypoint_classifier\\keypoint_classifier.hdf5\n",
      "Epoch 151/1000\n",
      "9/9 [==============================] - 0s 6ms/step - loss: 0.1175 - accuracy: 0.9606 - val_loss: 0.0094 - val_accuracy: 1.0000\n",
      "\n",
      "Epoch 00151: saving model to model/keypoint_classifier\\keypoint_classifier.hdf5\n",
      "Epoch 152/1000\n",
      "9/9 [==============================] - 0s 5ms/step - loss: 0.0857 - accuracy: 0.9691 - val_loss: 0.0092 - val_accuracy: 1.0000\n",
      "\n",
      "Epoch 00152: saving model to model/keypoint_classifier\\keypoint_classifier.hdf5\n",
      "Epoch 153/1000\n",
      "9/9 [==============================] - 0s 5ms/step - loss: 0.1116 - accuracy: 0.9553 - val_loss: 0.0088 - val_accuracy: 1.0000\n",
      "\n",
      "Epoch 00153: saving model to model/keypoint_classifier\\keypoint_classifier.hdf5\n",
      "Epoch 154/1000\n",
      "9/9 [==============================] - 0s 6ms/step - loss: 0.0933 - accuracy: 0.9652 - val_loss: 0.0086 - val_accuracy: 1.0000\n",
      "\n",
      "Epoch 00154: saving model to model/keypoint_classifier\\keypoint_classifier.hdf5\n",
      "Epoch 155/1000\n",
      "9/9 [==============================] - 0s 4ms/step - loss: 0.1117 - accuracy: 0.9595 - val_loss: 0.0082 - val_accuracy: 1.0000\n",
      "\n",
      "Epoch 00155: saving model to model/keypoint_classifier\\keypoint_classifier.hdf5\n",
      "Epoch 156/1000\n",
      "9/9 [==============================] - 0s 5ms/step - loss: 0.0940 - accuracy: 0.9697 - val_loss: 0.0087 - val_accuracy: 1.0000\n",
      "\n",
      "Epoch 00156: saving model to model/keypoint_classifier\\keypoint_classifier.hdf5\n",
      "Epoch 157/1000\n",
      "9/9 [==============================] - 0s 5ms/step - loss: 0.0949 - accuracy: 0.9657 - val_loss: 0.0091 - val_accuracy: 1.0000\n",
      "\n",
      "Epoch 00157: saving model to model/keypoint_classifier\\keypoint_classifier.hdf5\n",
      "Epoch 158/1000\n",
      "9/9 [==============================] - 0s 4ms/step - loss: 0.0995 - accuracy: 0.9536 - val_loss: 0.0094 - val_accuracy: 1.0000\n",
      "\n",
      "Epoch 00158: saving model to model/keypoint_classifier\\keypoint_classifier.hdf5\n",
      "Epoch 159/1000\n",
      "9/9 [==============================] - 0s 6ms/step - loss: 0.1002 - accuracy: 0.9623 - val_loss: 0.0093 - val_accuracy: 1.0000\n",
      "\n",
      "Epoch 00159: saving model to model/keypoint_classifier\\keypoint_classifier.hdf5\n",
      "Epoch 160/1000\n",
      "9/9 [==============================] - 0s 5ms/step - loss: 0.1291 - accuracy: 0.9559 - val_loss: 0.0091 - val_accuracy: 1.0000\n",
      "\n",
      "Epoch 00160: saving model to model/keypoint_classifier\\keypoint_classifier.hdf5\n",
      "Epoch 161/1000\n",
      "9/9 [==============================] - 0s 4ms/step - loss: 0.0950 - accuracy: 0.9673 - val_loss: 0.0088 - val_accuracy: 1.0000\n",
      "\n",
      "Epoch 00161: saving model to model/keypoint_classifier\\keypoint_classifier.hdf5\n",
      "Epoch 00161: early stopping\n"
     ]
    },
    {
     "data": {
      "text/plain": [
       "<tensorflow.python.keras.callbacks.History at 0x1355314cec8>"
      ]
     },
     "execution_count": 11,
     "metadata": {},
     "output_type": "execute_result"
    }
   ],
   "source": [
    "model.fit(\n",
    "    X_train,\n",
    "    y_train,\n",
    "    epochs=1000,\n",
    "    batch_size=128,\n",
    "    validation_data=(X_test, y_test),\n",
    "    callbacks=[cp_callback, es_callback]\n",
    ")"
   ]
  },
  {
   "cell_type": "code",
   "execution_count": 12,
   "metadata": {
    "colab": {
     "base_uri": "https://localhost:8080/"
    },
    "id": "pxvb2Y299hE3",
    "outputId": "59eb3185-2e37-4b9e-bc9d-ab1b8ac29b7f"
   },
   "outputs": [
    {
     "name": "stdout",
     "output_type": "stream",
     "text": [
      "3/3 [==============================] - 0s 1ms/step - loss: 0.0088 - accuracy: 1.0000\n"
     ]
    }
   ],
   "source": [
    "# Model evaluation\n",
    "val_loss, val_acc = model.evaluate(X_test, y_test, batch_size=128)"
   ]
  },
  {
   "cell_type": "code",
   "execution_count": 13,
   "metadata": {
    "id": "RBkmDeUW9hE4"
   },
   "outputs": [],
   "source": [
    "# Loading the saved model\n",
    "model = tf.keras.models.load_model(model_save_path)"
   ]
  },
  {
   "cell_type": "code",
   "execution_count": 17,
   "metadata": {
    "colab": {
     "base_uri": "https://localhost:8080/"
    },
    "id": "tFz9Tb0I9hE4",
    "outputId": "1c3b3528-54ae-4ee2-ab04-77429211cbef"
   },
   "outputs": [
    {
     "name": "stdout",
     "output_type": "stream",
     "text": [
      "[0.00409894 0.98479754 0.01110358]\n",
      "1\n"
     ]
    }
   ],
   "source": [
    "# Inference test\n",
    "predict_result = model.predict(np.array([X_test[0]]))\n",
    "print(np.squeeze(predict_result))\n",
    "print(np.argmax(np.squeeze(predict_result)))"
   ]
  },
  {
   "cell_type": "markdown",
   "metadata": {
    "id": "S3U4yNWx9hE4"
   },
   "source": [
    "# Confusion matrix"
   ]
  },
  {
   "cell_type": "code",
   "execution_count": 20,
   "metadata": {
    "colab": {
     "base_uri": "https://localhost:8080/",
     "height": 582
    },
    "id": "AP1V6SCk9hE5",
    "outputId": "08e41a80-7a4a-4619-8125-ecc371368d19"
   },
   "outputs": [
    {
     "data": {
      "image/png": "[encoded data removed]",
      "text/plain": [
       "<Figure size 504x432 with 2 Axes>"
      ]
     },
     "metadata": {
      "needs_background": "light"
     },
     "output_type": "display_data"
    },
    {
     "name": "stdout",
     "output_type": "stream",
     "text": [
      "Classification Report\n",
      "              precision    recall  f1-score   support\n",
      "\n",
      "           0       1.00      1.00      1.00       127\n",
      "           1       1.00      1.00      1.00       113\n",
      "           2       1.00      1.00      1.00       138\n",
      "\n",
      "    accuracy                           1.00       378\n",
      "   macro avg       1.00      1.00      1.00       378\n",
      "weighted avg       1.00      1.00      1.00       378\n",
      "\n"
     ]
    }
   ],
   "source": [
    "import pandas as pd\n",
    "import seaborn as sns\n",
    "import matplotlib.pyplot as plt\n",
    "from sklearn.metrics import confusion_matrix, classification_report\n",
    "\n",
    "def print_confusion_matrix(y_true, y_pred, report=True):\n",
    "    labels = sorted(list(set(y_true)))\n",
    "    cmx_data = confusion_matrix(y_true, y_pred, labels=labels)\n",
    "    \n",
    "    df_cmx = pd.DataFrame(cmx_data, index=labels, columns=labels)\n",
    " \n",
    "    fig, ax = plt.subplots(figsize=(7, 6))\n",
    "    sns.heatmap(df_cmx, annot=True, fmt='g' ,square=False)\n",
    "    ax.set_ylim(len(set(y_true)), 0)\n",
    "    plt.show()\n",
    "    \n",
    "    if report:\n",
    "        print('Classification Report')\n",
    "        print(classification_report(y_test, y_pred))\n",
    "\n",
    "Y_pred = model.predict(X_test)\n",
    "y_pred = np.argmax(Y_pred, axis=1)\n",
    "\n",
    "print_confusion_matrix(y_test, y_pred)"
   ]
  },
  {
   "cell_type": "markdown",
   "metadata": {
    "id": "FNP6aqzc9hE5"
   },
   "source": [
    "# Convert to model for Tensorflow-Lite"
   ]
  },
  {
   "cell_type": "code",
   "execution_count": 21,
   "metadata": {
    "id": "ODjnYyld9hE6"
   },
   "outputs": [],
   "source": [
    "# Save as a model dedicated to inference\n",
    "model.save(model_save_path, include_optimizer=False)"
   ]
  },
  {
   "cell_type": "code",
   "execution_count": 22,
   "metadata": {
    "colab": {
     "base_uri": "https://localhost:8080/"
    },
    "id": "zRfuK8Y59hE6",
    "outputId": "a4ca585c-b5d5-4244-8291-8674063209bb"
   },
   "outputs": [
    {
     "name": "stdout",
     "output_type": "stream",
     "text": [
      "INFO:tensorflow:Assets written to: C:\\Users\\Lucas\\AppData\\Local\\Temp\\tmplsyp8vmj\\assets\n"
     ]
    },
    {
     "data": {
      "text/plain": [
       "6320"
      ]
     },
     "execution_count": 22,
     "metadata": {},
     "output_type": "execute_result"
    }
   ],
   "source": [
    "# Transform model (quantization)\n",
    "\n",
    "converter = tf.lite.TFLiteConverter.from_keras_model(model)\n",
    "converter.optimizations = [tf.lite.Optimize.DEFAULT]\n",
    "tflite_quantized_model = converter.convert()\n",
    "\n",
    "open(tflite_save_path, 'wb').write(tflite_quantized_model)"
   ]
  },
  {
   "cell_type": "markdown",
   "metadata": {
    "id": "CHBPBXdx9hE6"
   },
   "source": [
    "# Inference test"
   ]
  },
  {
   "cell_type": "code",
   "execution_count": 23,
   "metadata": {
    "id": "mGAzLocO9hE7"
   },
   "outputs": [],
   "source": [
    "interpreter = tf.lite.Interpreter(model_path=tflite_save_path)\n",
    "interpreter.allocate_tensors()"
   ]
  },
  {
   "cell_type": "code",
   "execution_count": 24,
   "metadata": {
    "id": "oQuDK8YS9hE7"
   },
   "outputs": [],
   "source": [
    "# Get I / O tensor\n",
    "input_details = interpreter.get_input_details()\n",
    "output_details = interpreter.get_output_details()"
   ]
  },
  {
   "cell_type": "code",
   "execution_count": 25,
   "metadata": {
    "id": "2_ixAf_l9hE7"
   },
   "outputs": [],
   "source": [
    "interpreter.set_tensor(input_details[0]['index'], np.array([X_test[0]]))"
   ]
  },
  {
   "cell_type": "code",
   "execution_count": 26,
   "metadata": {
    "colab": {
     "base_uri": "https://localhost:8080/"
    },
    "id": "s4FoAnuc9hE7",
    "outputId": "91f18257-8d8b-4ef3-c558-e9b5f94fabbf",
    "scrolled": true
   },
   "outputs": [
    {
     "name": "stdout",
     "output_type": "stream",
     "text": [
      "Wall time: 6.95 ms\n"
     ]
    }
   ],
   "source": [
    "%%time\n",
    "# Inference implementation\n",
    "interpreter.invoke()\n",
    "tflite_results = interpreter.get_tensor(output_details[0]['index'])"
   ]
  },
  {
   "cell_type": "code",
   "execution_count": 27,
   "metadata": {
    "colab": {
     "base_uri": "https://localhost:8080/"
    },
    "id": "vONjp19J9hE8",
    "outputId": "77205e24-fd00-42c4-f7b6-e06e527c2cba"
   },
   "outputs": [
    {
     "name": "stdout",
     "output_type": "stream",
     "text": [
      "[0.00409894 0.98479754 0.01110358]\n",
      "1\n"
     ]
    }
   ],
   "source": [
    "print(np.squeeze(tflite_results))\n",
    "print(np.argmax(np.squeeze(tflite_results)))"
   ]
  },
  {
   "cell_type": "code",
   "execution_count": null,
   "metadata": {},
   "outputs": [],
   "source": []
  }
 ],
 "metadata": {
  "accelerator": "GPU",
  "colab": {
   "collapsed_sections": [],
   "name": "keypoint_classification_EN.ipynb",
   "provenance": [],
   "toc_visible": true
  },
  "kernelspec": {
   "display_name": "Python 3 (ipykernel)",
   "language": "python",
   "name": "python3"
  },
  "language_info": {
   "codemirror_mode": {
    "name": "ipython",
    "version": 3
   },
   "file_extension": ".py",
   "mimetype": "text/x-python",
   "name": "python",
   "nbconvert_exporter": "python",
   "pygments_lexer": "ipython3",
   "version": "3.7.11"
  }
 },
 "nbformat": 4,
 "nbformat_minor": 4
}
