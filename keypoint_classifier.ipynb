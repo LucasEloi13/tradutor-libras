{
 "cells": [
  {
   "cell_type": "code",
   "execution_count": 1,
   "metadata": {
    "id": "igMyGnjE9hEp"
   },
   "outputs": [],
   "source": [
    "import csv\n",
    "\n",
    "import numpy as np\n",
    "import tensorflow as tf\n",
    "from sklearn.model_selection import train_test_split\n",
    "\n",
    "RANDOM_SEED = 42"
   ]
  },
  {
   "cell_type": "markdown",
   "metadata": {
    "id": "t2HDvhIu9hEr",
    "tags": []
   },
   "source": [
    "# Specify each path"
   ]
  },
  {
   "cell_type": "code",
   "execution_count": 2,
   "metadata": {
    "id": "9NvZP2Zn9hEy"
   },
   "outputs": [],
   "source": [
    "dataset = 'model/keypoint_classifier/keypoint.csv'\n",
    "model_save_path = 'model/keypoint_classifier/keypoint_classifier.hdf5'\n",
    "tflite_save_path = 'model/keypoint_classifier/keypoint_classifier.tflite'"
   ]
  },
  {
   "cell_type": "markdown",
   "metadata": {
    "id": "s5oMH7x19hEz"
   },
   "source": [
    "# Set number of classes"
   ]
  },
  {
   "cell_type": "code",
   "execution_count": 3,
   "metadata": {
    "id": "du4kodXL9hEz"
   },
   "outputs": [],
   "source": [
    "NUM_CLASSES = 25"
   ]
  },
  {
   "cell_type": "markdown",
   "metadata": {
    "id": "XjnL0uso9hEz"
   },
   "source": [
    "# Dataset reading"
   ]
  },
  {
   "cell_type": "code",
   "execution_count": 4,
   "metadata": {
    "id": "QT5ZqtEz9hE0"
   },
   "outputs": [],
   "source": [
    "X_dataset = np.loadtxt(dataset, delimiter=',', dtype='float32', usecols=list(range(1, (21 * 2) + 1)))"
   ]
  },
  {
   "cell_type": "code",
   "execution_count": 5,
   "metadata": {
    "id": "QmoKFsp49hE0"
   },
   "outputs": [],
   "source": [
    "y_dataset = np.loadtxt(dataset, delimiter=',', dtype='int32', usecols=(0))"
   ]
  },
  {
   "cell_type": "code",
   "execution_count": 6,
   "metadata": {
    "id": "xQU7JTZ_9hE0"
   },
   "outputs": [],
   "source": [
    "X_train, X_test, y_train, y_test = train_test_split(X_dataset, y_dataset, train_size=0.75, random_state=RANDOM_SEED)"
   ]
  },
  {
   "cell_type": "markdown",
   "metadata": {
    "id": "mxK_lETT9hE0"
   },
   "source": [
    "# Model building"
   ]
  },
  {
   "cell_type": "code",
   "execution_count": 7,
   "metadata": {
    "id": "vHBmUf1t9hE1"
   },
   "outputs": [],
   "source": [
    "model = tf.keras.models.Sequential([\n",
    "    tf.keras.layers.Input((21 * 2, )),\n",
    "    tf.keras.layers.Dropout(0.1),\n",
    "    tf.keras.layers.Dense(40, activation='relu'),\n",
    "    tf.keras.layers.Dropout(0.2),\n",
    "    tf.keras.layers.Dense(20, activation='relu'),\n",
    "    tf.keras.layers.Dropout(0.2),\n",
    "    tf.keras.layers.Dense(10, activation='relu'),\n",
    "    tf.keras.layers.Dense(NUM_CLASSES, activation='softmax')\n",
    "])"
   ]
  },
  {
   "cell_type": "code",
   "execution_count": 8,
   "metadata": {
    "colab": {
     "base_uri": "https://localhost:8080/"
    },
    "id": "ypqky9tc9hE1",
    "outputId": "5db082bb-30e3-4110-bf63-a1ee777ecd46"
   },
   "outputs": [
    {
     "name": "stdout",
     "output_type": "stream",
     "text": [
      "Model: \"sequential\"\n",
      "_________________________________________________________________\n",
      "Layer (type)                 Output Shape              Param #   \n",
      "=================================================================\n",
      "dropout (Dropout)            (None, 42)                0         \n",
      "_________________________________________________________________\n",
      "dense (Dense)                (None, 40)                1720      \n",
      "_________________________________________________________________\n",
      "dropout_1 (Dropout)          (None, 40)                0         \n",
      "_________________________________________________________________\n",
      "dense_1 (Dense)              (None, 20)                820       \n",
      "_________________________________________________________________\n",
      "dropout_2 (Dropout)          (None, 20)                0         \n",
      "_________________________________________________________________\n",
      "dense_2 (Dense)              (None, 10)                210       \n",
      "_________________________________________________________________\n",
      "dense_3 (Dense)              (None, 25)                275       \n",
      "=================================================================\n",
      "Total params: 3,025\n",
      "Trainable params: 3,025\n",
      "Non-trainable params: 0\n",
      "_________________________________________________________________\n"
     ]
    }
   ],
   "source": [
    "model.summary()  # tf.keras.utils.plot_model(model, show_shapes=True)"
   ]
  },
  {
   "cell_type": "code",
   "execution_count": 9,
   "metadata": {
    "id": "MbMjOflQ9hE1"
   },
   "outputs": [],
   "source": [
    "# Model checkpoint callback\n",
    "cp_callback = tf.keras.callbacks.ModelCheckpoint(\n",
    "    model_save_path, verbose=1, save_weights_only=False)\n",
    "# Callback for early stopping\n",
    "es_callback = tf.keras.callbacks.EarlyStopping(patience=20, verbose=1)"
   ]
  },
  {
   "cell_type": "code",
   "execution_count": 10,
   "metadata": {
    "id": "c3Dac0M_9hE2"
   },
   "outputs": [],
   "source": [
    "# Model compilation\n",
    "model.compile(\n",
    "    optimizer='adam',\n",
    "    loss='sparse_categorical_crossentropy',\n",
    "    metrics=['accuracy']\n",
    ")"
   ]
  },
  {
   "cell_type": "markdown",
   "metadata": {
    "id": "7XI0j1Iu9hE2"
   },
   "source": [
    "# Model training"
   ]
  },
  {
   "cell_type": "code",
   "execution_count": 11,
   "metadata": {
    "colab": {
     "base_uri": "https://localhost:8080/"
    },
    "id": "WirBl-JE9hE3",
    "jupyter": {
     "outputs_hidden": true
    },
    "outputId": "71b30ca2-8294-4d9d-8aa2-800d90d399de",
    "scrolled": true,
    "tags": []
   },
   "outputs": [
    {
     "name": "stdout",
     "output_type": "stream",
     "text": [
      "Epoch 1/1000\n",
      "126/126 [==============================] - 1s 4ms/step - loss: 3.1719 - accuracy: 0.0649 - val_loss: 2.7693 - val_accuracy: 0.1550\n",
      "\n",
      "Epoch 00001: saving model to model/keypoint_classifier\\keypoint_classifier.hdf5\n",
      "Epoch 2/1000\n",
      "126/126 [==============================] - 0s 1ms/step - loss: 2.7001 - accuracy: 0.1643 - val_loss: 2.0891 - val_accuracy: 0.3669\n",
      "\n",
      "Epoch 00002: saving model to model/keypoint_classifier\\keypoint_classifier.hdf5\n",
      "Epoch 3/1000\n",
      "126/126 [==============================] - 0s 1ms/step - loss: 2.1825 - accuracy: 0.2706 - val_loss: 1.5713 - val_accuracy: 0.5268\n",
      "\n",
      "Epoch 00003: saving model to model/keypoint_classifier\\keypoint_classifier.hdf5\n",
      "Epoch 4/1000\n",
      "126/126 [==============================] - 0s 1ms/step - loss: 1.8201 - accuracy: 0.3566 - val_loss: 1.2749 - val_accuracy: 0.6019\n",
      "\n",
      "Epoch 00004: saving model to model/keypoint_classifier\\keypoint_classifier.hdf5\n",
      "Epoch 5/1000\n",
      "126/126 [==============================] - 0s 1ms/step - loss: 1.6198 - accuracy: 0.4071 - val_loss: 1.1184 - val_accuracy: 0.6139\n",
      "\n",
      "Epoch 00005: saving model to model/keypoint_classifier\\keypoint_classifier.hdf5\n",
      "Epoch 6/1000\n",
      "126/126 [==============================] - 0s 1ms/step - loss: 1.5301 - accuracy: 0.4396 - val_loss: 1.0056 - val_accuracy: 0.7063\n",
      "\n",
      "Epoch 00006: saving model to model/keypoint_classifier\\keypoint_classifier.hdf5\n",
      "Epoch 7/1000\n",
      "126/126 [==============================] - 0s 1ms/step - loss: 1.4373 - accuracy: 0.4663 - val_loss: 0.9077 - val_accuracy: 0.7880\n",
      "\n",
      "Epoch 00007: saving model to model/keypoint_classifier\\keypoint_classifier.hdf5\n",
      "Epoch 8/1000\n",
      "126/126 [==============================] - 0s 1ms/step - loss: 1.3614 - accuracy: 0.4982 - val_loss: 0.8523 - val_accuracy: 0.8210\n",
      "\n",
      "Epoch 00008: saving model to model/keypoint_classifier\\keypoint_classifier.hdf5\n",
      "Epoch 9/1000\n",
      "126/126 [==============================] - 0s 1ms/step - loss: 1.2865 - accuracy: 0.5219 - val_loss: 0.7882 - val_accuracy: 0.8268\n",
      "\n",
      "Epoch 00009: saving model to model/keypoint_classifier\\keypoint_classifier.hdf5\n",
      "Epoch 10/1000\n",
      "126/126 [==============================] - 0s 1ms/step - loss: 1.2584 - accuracy: 0.5401 - val_loss: 0.7394 - val_accuracy: 0.8639\n",
      "\n",
      "Epoch 00010: saving model to model/keypoint_classifier\\keypoint_classifier.hdf5\n",
      "Epoch 11/1000\n",
      "126/126 [==============================] - 0s 1ms/step - loss: 1.2246 - accuracy: 0.5462 - val_loss: 0.6930 - val_accuracy: 0.8578\n",
      "\n",
      "Epoch 00011: saving model to model/keypoint_classifier\\keypoint_classifier.hdf5\n",
      "Epoch 12/1000\n",
      "126/126 [==============================] - 0s 1ms/step - loss: 1.1596 - accuracy: 0.5733 - val_loss: 0.6527 - val_accuracy: 0.8743\n",
      "\n",
      "Epoch 00012: saving model to model/keypoint_classifier\\keypoint_classifier.hdf5\n",
      "Epoch 13/1000\n",
      "126/126 [==============================] - 0s 1ms/step - loss: 1.1359 - accuracy: 0.5783 - val_loss: 0.6324 - val_accuracy: 0.8609\n",
      "\n",
      "Epoch 00013: saving model to model/keypoint_classifier\\keypoint_classifier.hdf5\n",
      "Epoch 14/1000\n",
      "126/126 [==============================] - 0s 1ms/step - loss: 1.1132 - accuracy: 0.5899 - val_loss: 0.6150 - val_accuracy: 0.8662\n",
      "\n",
      "Epoch 00014: saving model to model/keypoint_classifier\\keypoint_classifier.hdf5\n",
      "Epoch 15/1000\n",
      "126/126 [==============================] - 0s 1ms/step - loss: 1.0882 - accuracy: 0.5943 - val_loss: 0.5873 - val_accuracy: 0.8628\n",
      "\n",
      "Epoch 00015: saving model to model/keypoint_classifier\\keypoint_classifier.hdf5\n",
      "Epoch 16/1000\n",
      "126/126 [==============================] - 0s 1ms/step - loss: 1.0545 - accuracy: 0.6085 - val_loss: 0.5627 - val_accuracy: 0.8851\n",
      "\n",
      "Epoch 00016: saving model to model/keypoint_classifier\\keypoint_classifier.hdf5\n",
      "Epoch 17/1000\n",
      "126/126 [==============================] - 0s 1ms/step - loss: 1.0417 - accuracy: 0.6166 - val_loss: 0.5505 - val_accuracy: 0.8739\n",
      "\n",
      "Epoch 00017: saving model to model/keypoint_classifier\\keypoint_classifier.hdf5\n",
      "Epoch 18/1000\n",
      "126/126 [==============================] - 0s 1ms/step - loss: 1.0225 - accuracy: 0.6178 - val_loss: 0.5334 - val_accuracy: 0.8787\n",
      "\n",
      "Epoch 00018: saving model to model/keypoint_classifier\\keypoint_classifier.hdf5\n",
      "Epoch 19/1000\n",
      "126/126 [==============================] - 0s 1ms/step - loss: 1.0162 - accuracy: 0.6246 - val_loss: 0.5210 - val_accuracy: 0.8810\n",
      "\n",
      "Epoch 00019: saving model to model/keypoint_classifier\\keypoint_classifier.hdf5\n",
      "Epoch 20/1000\n",
      "126/126 [==============================] - 0s 1ms/step - loss: 1.0024 - accuracy: 0.6319 - val_loss: 0.4926 - val_accuracy: 0.8960\n",
      "\n",
      "Epoch 00020: saving model to model/keypoint_classifier\\keypoint_classifier.hdf5\n",
      "Epoch 21/1000\n",
      "126/126 [==============================] - 0s 1ms/step - loss: 0.9700 - accuracy: 0.6476 - val_loss: 0.4806 - val_accuracy: 0.9037\n",
      "\n",
      "Epoch 00021: saving model to model/keypoint_classifier\\keypoint_classifier.hdf5\n",
      "Epoch 22/1000\n",
      "126/126 [==============================] - 0s 1ms/step - loss: 0.9470 - accuracy: 0.6479 - val_loss: 0.4606 - val_accuracy: 0.9067\n",
      "\n",
      "Epoch 00022: saving model to model/keypoint_classifier\\keypoint_classifier.hdf5\n",
      "Epoch 23/1000\n",
      "126/126 [==============================] - 0s 1ms/step - loss: 0.9236 - accuracy: 0.6630 - val_loss: 0.4513 - val_accuracy: 0.9070\n",
      "\n",
      "Epoch 00023: saving model to model/keypoint_classifier\\keypoint_classifier.hdf5\n",
      "Epoch 24/1000\n",
      "126/126 [==============================] - 0s 1ms/step - loss: 0.9438 - accuracy: 0.6566 - val_loss: 0.4362 - val_accuracy: 0.9142\n",
      "\n",
      "Epoch 00024: saving model to model/keypoint_classifier\\keypoint_classifier.hdf5\n",
      "Epoch 25/1000\n",
      "126/126 [==============================] - 0s 1ms/step - loss: 0.9214 - accuracy: 0.6716 - val_loss: 0.4181 - val_accuracy: 0.9155\n",
      "\n",
      "Epoch 00025: saving model to model/keypoint_classifier\\keypoint_classifier.hdf5\n",
      "Epoch 26/1000\n",
      "126/126 [==============================] - 0s 1ms/step - loss: 0.8981 - accuracy: 0.6723 - val_loss: 0.4155 - val_accuracy: 0.9183\n",
      "\n",
      "Epoch 00026: saving model to model/keypoint_classifier\\keypoint_classifier.hdf5\n",
      "Epoch 27/1000\n",
      "126/126 [==============================] - 0s 1ms/step - loss: 0.8940 - accuracy: 0.6762 - val_loss: 0.4066 - val_accuracy: 0.9020\n",
      "\n",
      "Epoch 00027: saving model to model/keypoint_classifier\\keypoint_classifier.hdf5\n",
      "Epoch 28/1000\n",
      "126/126 [==============================] - 0s 1ms/step - loss: 0.8822 - accuracy: 0.6857 - val_loss: 0.4038 - val_accuracy: 0.9228\n",
      "\n",
      "Epoch 00028: saving model to model/keypoint_classifier\\keypoint_classifier.hdf5\n",
      "Epoch 29/1000\n",
      "126/126 [==============================] - 0s 1ms/step - loss: 0.8579 - accuracy: 0.6921 - val_loss: 0.3888 - val_accuracy: 0.9273\n",
      "\n",
      "Epoch 00029: saving model to model/keypoint_classifier\\keypoint_classifier.hdf5\n",
      "Epoch 30/1000\n",
      "126/126 [==============================] - 0s 1ms/step - loss: 0.8310 - accuracy: 0.7056 - val_loss: 0.3818 - val_accuracy: 0.9198\n",
      "\n",
      "Epoch 00030: saving model to model/keypoint_classifier\\keypoint_classifier.hdf5\n",
      "Epoch 31/1000\n",
      "126/126 [==============================] - 0s 1ms/step - loss: 0.8284 - accuracy: 0.7033 - val_loss: 0.3713 - val_accuracy: 0.9226\n",
      "\n",
      "Epoch 00031: saving model to model/keypoint_classifier\\keypoint_classifier.hdf5\n",
      "Epoch 32/1000\n",
      "126/126 [==============================] - 0s 1ms/step - loss: 0.8461 - accuracy: 0.6922 - val_loss: 0.3723 - val_accuracy: 0.9190\n",
      "\n",
      "Epoch 00032: saving model to model/keypoint_classifier\\keypoint_classifier.hdf5\n",
      "Epoch 33/1000\n",
      "126/126 [==============================] - 0s 1ms/step - loss: 0.8092 - accuracy: 0.7096 - val_loss: 0.3540 - val_accuracy: 0.9222\n",
      "\n",
      "Epoch 00033: saving model to model/keypoint_classifier\\keypoint_classifier.hdf5\n",
      "Epoch 34/1000\n",
      "126/126 [==============================] - 0s 1ms/step - loss: 0.7818 - accuracy: 0.7208 - val_loss: 0.3518 - val_accuracy: 0.9230\n",
      "\n",
      "Epoch 00034: saving model to model/keypoint_classifier\\keypoint_classifier.hdf5\n",
      "Epoch 35/1000\n",
      "126/126 [==============================] - 0s 1ms/step - loss: 0.7720 - accuracy: 0.7244 - val_loss: 0.3471 - val_accuracy: 0.9155\n",
      "\n",
      "Epoch 00035: saving model to model/keypoint_classifier\\keypoint_classifier.hdf5\n",
      "Epoch 36/1000\n",
      "126/126 [==============================] - 0s 1ms/step - loss: 0.7886 - accuracy: 0.7093 - val_loss: 0.3362 - val_accuracy: 0.9323\n",
      "\n",
      "Epoch 00036: saving model to model/keypoint_classifier\\keypoint_classifier.hdf5\n",
      "Epoch 37/1000\n"
     ]
    },
    {
     "name": "stdout",
     "output_type": "stream",
     "text": [
      "126/126 [==============================] - 0s 1ms/step - loss: 0.7692 - accuracy: 0.7229 - val_loss: 0.3307 - val_accuracy: 0.9323\n",
      "\n",
      "Epoch 00037: saving model to model/keypoint_classifier\\keypoint_classifier.hdf5\n",
      "Epoch 38/1000\n",
      "126/126 [==============================] - 0s 1ms/step - loss: 0.7638 - accuracy: 0.7227 - val_loss: 0.3226 - val_accuracy: 0.9398\n",
      "\n",
      "Epoch 00038: saving model to model/keypoint_classifier\\keypoint_classifier.hdf5\n",
      "Epoch 39/1000\n",
      "126/126 [==============================] - 0s 1ms/step - loss: 0.7726 - accuracy: 0.7226 - val_loss: 0.3300 - val_accuracy: 0.9162\n",
      "\n",
      "Epoch 00039: saving model to model/keypoint_classifier\\keypoint_classifier.hdf5\n",
      "Epoch 40/1000\n",
      "126/126 [==============================] - 0s 1ms/step - loss: 0.7513 - accuracy: 0.7277 - val_loss: 0.3189 - val_accuracy: 0.9286\n",
      "\n",
      "Epoch 00040: saving model to model/keypoint_classifier\\keypoint_classifier.hdf5\n",
      "Epoch 41/1000\n",
      "126/126 [==============================] - 0s 1ms/step - loss: 0.7210 - accuracy: 0.7430 - val_loss: 0.3159 - val_accuracy: 0.9269\n",
      "\n",
      "Epoch 00041: saving model to model/keypoint_classifier\\keypoint_classifier.hdf5\n",
      "Epoch 42/1000\n",
      "126/126 [==============================] - 0s 1ms/step - loss: 0.7308 - accuracy: 0.7444 - val_loss: 0.3150 - val_accuracy: 0.9329\n",
      "\n",
      "Epoch 00042: saving model to model/keypoint_classifier\\keypoint_classifier.hdf5\n",
      "Epoch 43/1000\n",
      "126/126 [==============================] - 0s 1ms/step - loss: 0.7256 - accuracy: 0.7427 - val_loss: 0.2983 - val_accuracy: 0.9353\n",
      "\n",
      "Epoch 00043: saving model to model/keypoint_classifier\\keypoint_classifier.hdf5\n",
      "Epoch 44/1000\n",
      "126/126 [==============================] - 0s 1ms/step - loss: 0.6942 - accuracy: 0.7443 - val_loss: 0.2970 - val_accuracy: 0.9348\n",
      "\n",
      "Epoch 00044: saving model to model/keypoint_classifier\\keypoint_classifier.hdf5\n",
      "Epoch 45/1000\n",
      "126/126 [==============================] - 0s 1ms/step - loss: 0.6918 - accuracy: 0.7578 - val_loss: 0.2919 - val_accuracy: 0.9310\n",
      "\n",
      "Epoch 00045: saving model to model/keypoint_classifier\\keypoint_classifier.hdf5\n",
      "Epoch 46/1000\n",
      "126/126 [==============================] - 0s 1ms/step - loss: 0.7082 - accuracy: 0.7486 - val_loss: 0.2801 - val_accuracy: 0.9503\n",
      "\n",
      "Epoch 00046: saving model to model/keypoint_classifier\\keypoint_classifier.hdf5\n",
      "Epoch 47/1000\n",
      "126/126 [==============================] - 0s 1ms/step - loss: 0.7081 - accuracy: 0.7474 - val_loss: 0.2801 - val_accuracy: 0.9344\n",
      "\n",
      "Epoch 00047: saving model to model/keypoint_classifier\\keypoint_classifier.hdf5\n",
      "Epoch 48/1000\n",
      "126/126 [==============================] - 0s 1ms/step - loss: 0.6849 - accuracy: 0.7572 - val_loss: 0.2753 - val_accuracy: 0.9415\n",
      "\n",
      "Epoch 00048: saving model to model/keypoint_classifier\\keypoint_classifier.hdf5\n",
      "Epoch 49/1000\n",
      "126/126 [==============================] - 0s 1ms/step - loss: 0.6636 - accuracy: 0.7590 - val_loss: 0.2677 - val_accuracy: 0.9518\n",
      "\n",
      "Epoch 00049: saving model to model/keypoint_classifier\\keypoint_classifier.hdf5\n",
      "Epoch 50/1000\n",
      "126/126 [==============================] - 0s 1ms/step - loss: 0.6845 - accuracy: 0.7546 - val_loss: 0.2813 - val_accuracy: 0.9438\n",
      "\n",
      "Epoch 00050: saving model to model/keypoint_classifier\\keypoint_classifier.hdf5\n",
      "Epoch 51/1000\n",
      "126/126 [==============================] - 0s 1ms/step - loss: 0.6576 - accuracy: 0.7668 - val_loss: 0.2566 - val_accuracy: 0.9558\n",
      "\n",
      "Epoch 00051: saving model to model/keypoint_classifier\\keypoint_classifier.hdf5\n",
      "Epoch 52/1000\n",
      "126/126 [==============================] - 0s 1ms/step - loss: 0.6523 - accuracy: 0.7734 - val_loss: 0.2642 - val_accuracy: 0.9483\n",
      "\n",
      "Epoch 00052: saving model to model/keypoint_classifier\\keypoint_classifier.hdf5\n",
      "Epoch 53/1000\n",
      "126/126 [==============================] - 0s 1ms/step - loss: 0.6566 - accuracy: 0.7650 - val_loss: 0.2605 - val_accuracy: 0.9516\n",
      "\n",
      "Epoch 00053: saving model to model/keypoint_classifier\\keypoint_classifier.hdf5\n",
      "Epoch 54/1000\n",
      "126/126 [==============================] - 0s 1ms/step - loss: 0.6515 - accuracy: 0.7712 - val_loss: 0.2480 - val_accuracy: 0.9546\n",
      "\n",
      "Epoch 00054: saving model to model/keypoint_classifier\\keypoint_classifier.hdf5\n",
      "Epoch 55/1000\n",
      "126/126 [==============================] - 0s 1ms/step - loss: 0.6311 - accuracy: 0.7767 - val_loss: 0.2586 - val_accuracy: 0.9393\n",
      "\n",
      "Epoch 00055: saving model to model/keypoint_classifier\\keypoint_classifier.hdf5\n",
      "Epoch 56/1000\n",
      "126/126 [==============================] - 0s 1ms/step - loss: 0.6350 - accuracy: 0.7785 - val_loss: 0.2407 - val_accuracy: 0.9580\n",
      "\n",
      "Epoch 00056: saving model to model/keypoint_classifier\\keypoint_classifier.hdf5\n",
      "Epoch 57/1000\n",
      "126/126 [==============================] - 0s 1ms/step - loss: 0.6323 - accuracy: 0.7729 - val_loss: 0.2472 - val_accuracy: 0.9479\n",
      "\n",
      "Epoch 00057: saving model to model/keypoint_classifier\\keypoint_classifier.hdf5\n",
      "Epoch 58/1000\n",
      "126/126 [==============================] - 0s 1ms/step - loss: 0.6254 - accuracy: 0.7817 - val_loss: 0.2420 - val_accuracy: 0.9560\n",
      "\n",
      "Epoch 00058: saving model to model/keypoint_classifier\\keypoint_classifier.hdf5\n",
      "Epoch 59/1000\n",
      "126/126 [==============================] - 0s 1ms/step - loss: 0.6307 - accuracy: 0.7726 - val_loss: 0.2383 - val_accuracy: 0.9554\n",
      "\n",
      "Epoch 00059: saving model to model/keypoint_classifier\\keypoint_classifier.hdf5\n",
      "Epoch 60/1000\n",
      "126/126 [==============================] - 0s 1ms/step - loss: 0.6269 - accuracy: 0.7784 - val_loss: 0.2483 - val_accuracy: 0.9535\n",
      "\n",
      "Epoch 00060: saving model to model/keypoint_classifier\\keypoint_classifier.hdf5\n",
      "Epoch 61/1000\n",
      "126/126 [==============================] - 0s 1ms/step - loss: 0.5969 - accuracy: 0.7915 - val_loss: 0.2383 - val_accuracy: 0.9531\n",
      "\n",
      "Epoch 00061: saving model to model/keypoint_classifier\\keypoint_classifier.hdf5\n",
      "Epoch 62/1000\n",
      "126/126 [==============================] - 0s 1ms/step - loss: 0.6115 - accuracy: 0.7868 - val_loss: 0.2338 - val_accuracy: 0.9548\n",
      "\n",
      "Epoch 00062: saving model to model/keypoint_classifier\\keypoint_classifier.hdf5\n",
      "Epoch 63/1000\n",
      "126/126 [==============================] - 0s 1ms/step - loss: 0.5936 - accuracy: 0.7906 - val_loss: 0.2366 - val_accuracy: 0.9548\n",
      "\n",
      "Epoch 00063: saving model to model/keypoint_classifier\\keypoint_classifier.hdf5\n",
      "Epoch 64/1000\n",
      "126/126 [==============================] - 0s 1ms/step - loss: 0.5994 - accuracy: 0.7974 - val_loss: 0.2353 - val_accuracy: 0.9531\n",
      "\n",
      "Epoch 00064: saving model to model/keypoint_classifier\\keypoint_classifier.hdf5\n",
      "Epoch 65/1000\n",
      "126/126 [==============================] - 0s 1ms/step - loss: 0.6116 - accuracy: 0.7801 - val_loss: 0.2282 - val_accuracy: 0.9548\n",
      "\n",
      "Epoch 00065: saving model to model/keypoint_classifier\\keypoint_classifier.hdf5\n",
      "Epoch 66/1000\n",
      "126/126 [==============================] - 0s 1ms/step - loss: 0.5822 - accuracy: 0.7967 - val_loss: 0.2183 - val_accuracy: 0.9573\n",
      "\n",
      "Epoch 00066: saving model to model/keypoint_classifier\\keypoint_classifier.hdf5\n",
      "Epoch 67/1000\n",
      "126/126 [==============================] - 0s 1ms/step - loss: 0.5869 - accuracy: 0.7909 - val_loss: 0.2173 - val_accuracy: 0.9606\n",
      "\n",
      "Epoch 00067: saving model to model/keypoint_classifier\\keypoint_classifier.hdf5\n",
      "Epoch 68/1000\n",
      "126/126 [==============================] - 0s 1ms/step - loss: 0.5783 - accuracy: 0.7938 - val_loss: 0.2328 - val_accuracy: 0.9509\n",
      "\n",
      "Epoch 00068: saving model to model/keypoint_classifier\\keypoint_classifier.hdf5\n",
      "Epoch 69/1000\n",
      "126/126 [==============================] - 0s 1ms/step - loss: 0.5823 - accuracy: 0.7957 - val_loss: 0.2157 - val_accuracy: 0.9590\n",
      "\n",
      "Epoch 00069: saving model to model/keypoint_classifier\\keypoint_classifier.hdf5\n",
      "Epoch 70/1000\n",
      "126/126 [==============================] - 0s 1ms/step - loss: 0.5914 - accuracy: 0.7952 - val_loss: 0.2181 - val_accuracy: 0.9608\n",
      "\n",
      "Epoch 00070: saving model to model/keypoint_classifier\\keypoint_classifier.hdf5\n",
      "Epoch 71/1000\n",
      "126/126 [==============================] - 0s 1ms/step - loss: 0.5923 - accuracy: 0.7934 - val_loss: 0.2218 - val_accuracy: 0.9554\n",
      "\n",
      "Epoch 00071: saving model to model/keypoint_classifier\\keypoint_classifier.hdf5\n",
      "Epoch 72/1000\n",
      "126/126 [==============================] - 0s 1ms/step - loss: 0.5598 - accuracy: 0.8098 - val_loss: 0.2188 - val_accuracy: 0.9563\n",
      "\n",
      "Epoch 00072: saving model to model/keypoint_classifier\\keypoint_classifier.hdf5\n",
      "Epoch 73/1000\n"
     ]
    },
    {
     "name": "stdout",
     "output_type": "stream",
     "text": [
      "126/126 [==============================] - 0s 1ms/step - loss: 0.5652 - accuracy: 0.8045 - val_loss: 0.2245 - val_accuracy: 0.9528\n",
      "\n",
      "Epoch 00073: saving model to model/keypoint_classifier\\keypoint_classifier.hdf5\n",
      "Epoch 74/1000\n",
      "126/126 [==============================] - 0s 1ms/step - loss: 0.5631 - accuracy: 0.8076 - val_loss: 0.2230 - val_accuracy: 0.9541\n",
      "\n",
      "Epoch 00074: saving model to model/keypoint_classifier\\keypoint_classifier.hdf5\n",
      "Epoch 75/1000\n",
      "126/126 [==============================] - 0s 1ms/step - loss: 0.5689 - accuracy: 0.8088 - val_loss: 0.2216 - val_accuracy: 0.9503\n",
      "\n",
      "Epoch 00075: saving model to model/keypoint_classifier\\keypoint_classifier.hdf5\n",
      "Epoch 76/1000\n",
      "126/126 [==============================] - 0s 1ms/step - loss: 0.5590 - accuracy: 0.8086 - val_loss: 0.2197 - val_accuracy: 0.9533\n",
      "\n",
      "Epoch 00076: saving model to model/keypoint_classifier\\keypoint_classifier.hdf5\n",
      "Epoch 77/1000\n",
      "126/126 [==============================] - 0s 1ms/step - loss: 0.5451 - accuracy: 0.8105 - val_loss: 0.2177 - val_accuracy: 0.9565\n",
      "\n",
      "Epoch 00077: saving model to model/keypoint_classifier\\keypoint_classifier.hdf5\n",
      "Epoch 78/1000\n",
      "126/126 [==============================] - 0s 1ms/step - loss: 0.5488 - accuracy: 0.8091 - val_loss: 0.2217 - val_accuracy: 0.9556\n",
      "\n",
      "Epoch 00078: saving model to model/keypoint_classifier\\keypoint_classifier.hdf5\n",
      "Epoch 79/1000\n",
      "126/126 [==============================] - 0s 1ms/step - loss: 0.5583 - accuracy: 0.8058 - val_loss: 0.2042 - val_accuracy: 0.9582\n",
      "\n",
      "Epoch 00079: saving model to model/keypoint_classifier\\keypoint_classifier.hdf5\n",
      "Epoch 80/1000\n",
      "126/126 [==============================] - 0s 1ms/step - loss: 0.5291 - accuracy: 0.8173 - val_loss: 0.2142 - val_accuracy: 0.9535\n",
      "\n",
      "Epoch 00080: saving model to model/keypoint_classifier\\keypoint_classifier.hdf5\n",
      "Epoch 81/1000\n",
      "126/126 [==============================] - 0s 1ms/step - loss: 0.5411 - accuracy: 0.8146 - val_loss: 0.2064 - val_accuracy: 0.9580\n",
      "\n",
      "Epoch 00081: saving model to model/keypoint_classifier\\keypoint_classifier.hdf5\n",
      "Epoch 82/1000\n",
      "126/126 [==============================] - 0s 1ms/step - loss: 0.5299 - accuracy: 0.8173 - val_loss: 0.2032 - val_accuracy: 0.9576\n",
      "\n",
      "Epoch 00082: saving model to model/keypoint_classifier\\keypoint_classifier.hdf5\n",
      "Epoch 83/1000\n",
      "126/126 [==============================] - 0s 1ms/step - loss: 0.5472 - accuracy: 0.8105 - val_loss: 0.2140 - val_accuracy: 0.9496\n",
      "\n",
      "Epoch 00083: saving model to model/keypoint_classifier\\keypoint_classifier.hdf5\n",
      "Epoch 84/1000\n",
      "126/126 [==============================] - 0s 1ms/step - loss: 0.5213 - accuracy: 0.8167 - val_loss: 0.2240 - val_accuracy: 0.9483\n",
      "\n",
      "Epoch 00084: saving model to model/keypoint_classifier\\keypoint_classifier.hdf5\n",
      "Epoch 85/1000\n",
      "126/126 [==============================] - 0s 1ms/step - loss: 0.5156 - accuracy: 0.8259 - val_loss: 0.2138 - val_accuracy: 0.9503\n",
      "\n",
      "Epoch 00085: saving model to model/keypoint_classifier\\keypoint_classifier.hdf5\n",
      "Epoch 86/1000\n",
      "126/126 [==============================] - 0s 1ms/step - loss: 0.5199 - accuracy: 0.8219 - val_loss: 0.2000 - val_accuracy: 0.9621\n",
      "\n",
      "Epoch 00086: saving model to model/keypoint_classifier\\keypoint_classifier.hdf5\n",
      "Epoch 87/1000\n",
      "126/126 [==============================] - 0s 1ms/step - loss: 0.5281 - accuracy: 0.8167 - val_loss: 0.1962 - val_accuracy: 0.9595\n",
      "\n",
      "Epoch 00087: saving model to model/keypoint_classifier\\keypoint_classifier.hdf5\n",
      "Epoch 88/1000\n",
      "126/126 [==============================] - 0s 1ms/step - loss: 0.5397 - accuracy: 0.8208 - val_loss: 0.2047 - val_accuracy: 0.9578\n",
      "\n",
      "Epoch 00088: saving model to model/keypoint_classifier\\keypoint_classifier.hdf5\n",
      "Epoch 89/1000\n",
      "126/126 [==============================] - 0s 1ms/step - loss: 0.5224 - accuracy: 0.8188 - val_loss: 0.1926 - val_accuracy: 0.9606\n",
      "\n",
      "Epoch 00089: saving model to model/keypoint_classifier\\keypoint_classifier.hdf5\n",
      "Epoch 90/1000\n",
      "126/126 [==============================] - 0s 1ms/step - loss: 0.5340 - accuracy: 0.8170 - val_loss: 0.2001 - val_accuracy: 0.9603\n",
      "\n",
      "Epoch 00090: saving model to model/keypoint_classifier\\keypoint_classifier.hdf5\n",
      "Epoch 91/1000\n",
      "126/126 [==============================] - 0s 1ms/step - loss: 0.5208 - accuracy: 0.8267 - val_loss: 0.2011 - val_accuracy: 0.9509\n",
      "\n",
      "Epoch 00091: saving model to model/keypoint_classifier\\keypoint_classifier.hdf5\n",
      "Epoch 92/1000\n",
      "126/126 [==============================] - 0s 1ms/step - loss: 0.5166 - accuracy: 0.8244 - val_loss: 0.2083 - val_accuracy: 0.9516\n",
      "\n",
      "Epoch 00092: saving model to model/keypoint_classifier\\keypoint_classifier.hdf5\n",
      "Epoch 93/1000\n",
      "126/126 [==============================] - 0s 1ms/step - loss: 0.5034 - accuracy: 0.8342 - val_loss: 0.2184 - val_accuracy: 0.9483\n",
      "\n",
      "Epoch 00093: saving model to model/keypoint_classifier\\keypoint_classifier.hdf5\n",
      "Epoch 94/1000\n",
      "126/126 [==============================] - 0s 1ms/step - loss: 0.5010 - accuracy: 0.8292 - val_loss: 0.2006 - val_accuracy: 0.9541\n",
      "\n",
      "Epoch 00094: saving model to model/keypoint_classifier\\keypoint_classifier.hdf5\n",
      "Epoch 95/1000\n",
      "126/126 [==============================] - 0s 1ms/step - loss: 0.5204 - accuracy: 0.8248 - val_loss: 0.1965 - val_accuracy: 0.9528\n",
      "\n",
      "Epoch 00095: saving model to model/keypoint_classifier\\keypoint_classifier.hdf5\n",
      "Epoch 96/1000\n",
      "126/126 [==============================] - 0s 1ms/step - loss: 0.5050 - accuracy: 0.8299 - val_loss: 0.1960 - val_accuracy: 0.9537\n",
      "\n",
      "Epoch 00096: saving model to model/keypoint_classifier\\keypoint_classifier.hdf5\n",
      "Epoch 97/1000\n",
      "126/126 [==============================] - 0s 1ms/step - loss: 0.5064 - accuracy: 0.8270 - val_loss: 0.1847 - val_accuracy: 0.9593\n",
      "\n",
      "Epoch 00097: saving model to model/keypoint_classifier\\keypoint_classifier.hdf5\n",
      "Epoch 98/1000\n",
      "126/126 [==============================] - 0s 1ms/step - loss: 0.4990 - accuracy: 0.8302 - val_loss: 0.2072 - val_accuracy: 0.9479\n",
      "\n",
      "Epoch 00098: saving model to model/keypoint_classifier\\keypoint_classifier.hdf5\n",
      "Epoch 99/1000\n",
      "126/126 [==============================] - 0s 1ms/step - loss: 0.4893 - accuracy: 0.8357 - val_loss: 0.1947 - val_accuracy: 0.9522\n",
      "\n",
      "Epoch 00099: saving model to model/keypoint_classifier\\keypoint_classifier.hdf5\n",
      "Epoch 100/1000\n",
      "126/126 [==============================] - 0s 1ms/step - loss: 0.4939 - accuracy: 0.8284 - val_loss: 0.1922 - val_accuracy: 0.9513\n",
      "\n",
      "Epoch 00100: saving model to model/keypoint_classifier\\keypoint_classifier.hdf5\n",
      "Epoch 101/1000\n",
      "126/126 [==============================] - 0s 1ms/step - loss: 0.4808 - accuracy: 0.8337 - val_loss: 0.2078 - val_accuracy: 0.9460\n",
      "\n",
      "Epoch 00101: saving model to model/keypoint_classifier\\keypoint_classifier.hdf5\n",
      "Epoch 102/1000\n",
      "126/126 [==============================] - 0s 1ms/step - loss: 0.4989 - accuracy: 0.8345 - val_loss: 0.2012 - val_accuracy: 0.9488\n",
      "\n",
      "Epoch 00102: saving model to model/keypoint_classifier\\keypoint_classifier.hdf5\n",
      "Epoch 103/1000\n",
      "126/126 [==============================] - 0s 1ms/step - loss: 0.5010 - accuracy: 0.8230 - val_loss: 0.2042 - val_accuracy: 0.9432\n",
      "\n",
      "Epoch 00103: saving model to model/keypoint_classifier\\keypoint_classifier.hdf5\n",
      "Epoch 104/1000\n",
      "126/126 [==============================] - 0s 1ms/step - loss: 0.4838 - accuracy: 0.8334 - val_loss: 0.1729 - val_accuracy: 0.9633\n",
      "\n",
      "Epoch 00104: saving model to model/keypoint_classifier\\keypoint_classifier.hdf5\n",
      "Epoch 105/1000\n",
      "126/126 [==============================] - 0s 1ms/step - loss: 0.4886 - accuracy: 0.8286 - val_loss: 0.2003 - val_accuracy: 0.9466\n",
      "\n",
      "Epoch 00105: saving model to model/keypoint_classifier\\keypoint_classifier.hdf5\n",
      "Epoch 106/1000\n",
      "126/126 [==============================] - 0s 1ms/step - loss: 0.4823 - accuracy: 0.8354 - val_loss: 0.1876 - val_accuracy: 0.9561\n",
      "\n",
      "Epoch 00106: saving model to model/keypoint_classifier\\keypoint_classifier.hdf5\n",
      "Epoch 107/1000\n",
      "126/126 [==============================] - 0s 1ms/step - loss: 0.4941 - accuracy: 0.8342 - val_loss: 0.2001 - val_accuracy: 0.9524\n",
      "\n",
      "Epoch 00107: saving model to model/keypoint_classifier\\keypoint_classifier.hdf5\n",
      "Epoch 108/1000\n",
      "126/126 [==============================] - 0s 1ms/step - loss: 0.4753 - accuracy: 0.8348 - val_loss: 0.1889 - val_accuracy: 0.9558\n",
      "\n",
      "Epoch 00108: saving model to model/keypoint_classifier\\keypoint_classifier.hdf5\n",
      "Epoch 109/1000\n"
     ]
    },
    {
     "name": "stdout",
     "output_type": "stream",
     "text": [
      "126/126 [==============================] - 0s 1ms/step - loss: 0.4745 - accuracy: 0.8338 - val_loss: 0.1879 - val_accuracy: 0.9554\n",
      "\n",
      "Epoch 00109: saving model to model/keypoint_classifier\\keypoint_classifier.hdf5\n",
      "Epoch 110/1000\n",
      "126/126 [==============================] - 0s 1ms/step - loss: 0.4761 - accuracy: 0.8419 - val_loss: 0.1975 - val_accuracy: 0.9483\n",
      "\n",
      "Epoch 00110: saving model to model/keypoint_classifier\\keypoint_classifier.hdf5\n",
      "Epoch 111/1000\n",
      "126/126 [==============================] - 0s 1ms/step - loss: 0.4604 - accuracy: 0.8440 - val_loss: 0.1893 - val_accuracy: 0.9520\n",
      "\n",
      "Epoch 00111: saving model to model/keypoint_classifier\\keypoint_classifier.hdf5\n",
      "Epoch 112/1000\n",
      "126/126 [==============================] - 0s 1ms/step - loss: 0.4888 - accuracy: 0.8355 - val_loss: 0.1891 - val_accuracy: 0.9552\n",
      "\n",
      "Epoch 00112: saving model to model/keypoint_classifier\\keypoint_classifier.hdf5\n",
      "Epoch 113/1000\n",
      "126/126 [==============================] - 0s 1ms/step - loss: 0.4677 - accuracy: 0.8427 - val_loss: 0.1890 - val_accuracy: 0.9539\n",
      "\n",
      "Epoch 00113: saving model to model/keypoint_classifier\\keypoint_classifier.hdf5\n",
      "Epoch 114/1000\n",
      "126/126 [==============================] - 0s 1ms/step - loss: 0.4727 - accuracy: 0.8378 - val_loss: 0.2026 - val_accuracy: 0.9432\n",
      "\n",
      "Epoch 00114: saving model to model/keypoint_classifier\\keypoint_classifier.hdf5\n",
      "Epoch 115/1000\n",
      "126/126 [==============================] - 0s 1ms/step - loss: 0.4571 - accuracy: 0.8463 - val_loss: 0.2024 - val_accuracy: 0.9445\n",
      "\n",
      "Epoch 00115: saving model to model/keypoint_classifier\\keypoint_classifier.hdf5\n",
      "Epoch 116/1000\n",
      "126/126 [==============================] - 0s 1ms/step - loss: 0.4818 - accuracy: 0.8407 - val_loss: 0.1996 - val_accuracy: 0.9477\n",
      "\n",
      "Epoch 00116: saving model to model/keypoint_classifier\\keypoint_classifier.hdf5\n",
      "Epoch 117/1000\n",
      "126/126 [==============================] - 0s 1ms/step - loss: 0.4696 - accuracy: 0.8384 - val_loss: 0.2017 - val_accuracy: 0.9376\n",
      "\n",
      "Epoch 00117: saving model to model/keypoint_classifier\\keypoint_classifier.hdf5\n",
      "Epoch 118/1000\n",
      "126/126 [==============================] - 0s 1ms/step - loss: 0.4702 - accuracy: 0.8412 - val_loss: 0.1945 - val_accuracy: 0.9522\n",
      "\n",
      "Epoch 00118: saving model to model/keypoint_classifier\\keypoint_classifier.hdf5\n",
      "Epoch 119/1000\n",
      "126/126 [==============================] - 0s 1ms/step - loss: 0.4609 - accuracy: 0.8480 - val_loss: 0.1921 - val_accuracy: 0.9543\n",
      "\n",
      "Epoch 00119: saving model to model/keypoint_classifier\\keypoint_classifier.hdf5\n",
      "Epoch 120/1000\n",
      "126/126 [==============================] - 0s 1ms/step - loss: 0.4653 - accuracy: 0.8446 - val_loss: 0.1890 - val_accuracy: 0.9475\n",
      "\n",
      "Epoch 00120: saving model to model/keypoint_classifier\\keypoint_classifier.hdf5\n",
      "Epoch 121/1000\n",
      "126/126 [==============================] - 0s 1ms/step - loss: 0.4646 - accuracy: 0.8399 - val_loss: 0.1816 - val_accuracy: 0.9586\n",
      "\n",
      "Epoch 00121: saving model to model/keypoint_classifier\\keypoint_classifier.hdf5\n",
      "Epoch 122/1000\n",
      "126/126 [==============================] - 0s 1ms/step - loss: 0.4754 - accuracy: 0.8383 - val_loss: 0.1897 - val_accuracy: 0.9472\n",
      "\n",
      "Epoch 00122: saving model to model/keypoint_classifier\\keypoint_classifier.hdf5\n",
      "Epoch 123/1000\n",
      "126/126 [==============================] - 0s 1ms/step - loss: 0.4390 - accuracy: 0.8577 - val_loss: 0.1970 - val_accuracy: 0.9453\n",
      "\n",
      "Epoch 00123: saving model to model/keypoint_classifier\\keypoint_classifier.hdf5\n",
      "Epoch 124/1000\n",
      "126/126 [==============================] - 0s 1ms/step - loss: 0.4612 - accuracy: 0.8441 - val_loss: 0.1894 - val_accuracy: 0.9531\n",
      "\n",
      "Epoch 00124: saving model to model/keypoint_classifier\\keypoint_classifier.hdf5\n",
      "Epoch 00124: early stopping\n"
     ]
    }
   ],
   "source": [
    "hist = model.fit(\n",
    "    X_train,\n",
    "    y_train,\n",
    "    epochs=1000,\n",
    "    batch_size=128,\n",
    "    validation_data=(X_test, y_test),\n",
    "    callbacks=[cp_callback, es_callback]\n",
    ")"
   ]
  },
  {
   "cell_type": "code",
   "execution_count": 12,
   "metadata": {
    "colab": {
     "base_uri": "https://localhost:8080/"
    },
    "id": "pxvb2Y299hE3",
    "outputId": "59eb3185-2e37-4b9e-bc9d-ab1b8ac29b7f"
   },
   "outputs": [
    {
     "name": "stdout",
     "output_type": "stream",
     "text": [
      "42/42 [==============================] - 0s 487us/step - loss: 0.1894 - accuracy: 0.9531\n"
     ]
    }
   ],
   "source": [
    "# Model evaluation\n",
    "val_loss, val_acc = model.evaluate(X_test, y_test, batch_size=128)"
   ]
  },
  {
   "cell_type": "code",
   "execution_count": 32,
   "metadata": {},
   "outputs": [
    {
     "data": {
      "text/plain": [
       "0.9531484246253967"
      ]
     },
     "execution_count": 32,
     "metadata": {},
     "output_type": "execute_result"
    }
   ],
   "source": [
    "val_acc"
   ]
  },
  {
   "cell_type": "code",
   "execution_count": 13,
   "metadata": {
    "id": "RBkmDeUW9hE4"
   },
   "outputs": [],
   "source": [
    "# Loading the saved model\n",
    "model = tf.keras.models.load_model(model_save_path)"
   ]
  },
  {
   "cell_type": "code",
   "execution_count": 14,
   "metadata": {
    "colab": {
     "base_uri": "https://localhost:8080/"
    },
    "id": "tFz9Tb0I9hE4",
    "outputId": "1c3b3528-54ae-4ee2-ab04-77429211cbef",
    "scrolled": false
   },
   "outputs": [
    {
     "name": "stdout",
     "output_type": "stream",
     "text": [
      "[2.3162829e-09 4.3097503e-13 1.6394586e-04 4.5236640e-29 1.5711847e-16\n",
      " 2.9053745e-13 2.8144668e-31 1.9513502e-13 1.2552929e-13 9.9192518e-01\n",
      " 1.0023561e-13 5.6371846e-21 8.7166787e-18 2.3693065e-22 7.6053026e-03\n",
      " 2.0807480e-19 7.9322441e-24 1.2427615e-25 6.1805665e-11 9.7027225e-07\n",
      " 5.3595334e-31 2.1109775e-26 1.6518931e-36 5.0748450e-09 3.0468943e-04]\n",
      "9\n"
     ]
    }
   ],
   "source": [
    "# Inference test\n",
    "predict_result = model.predict(np.array([X_test[0]]))\n",
    "print(np.squeeze(predict_result))\n",
    "print(np.argmax(np.squeeze(predict_result)))"
   ]
  },
  {
   "cell_type": "markdown",
   "metadata": {},
   "source": [
    "# Plot the results"
   ]
  },
  {
   "cell_type": "code",
   "execution_count": 43,
   "metadata": {},
   "outputs": [],
   "source": [
    "train_loss=hist.history['loss']\n",
    "val_loss=hist.history['val_loss']\n",
    "train_acc=hist.history['accuracy']\n",
    "val_acc=hist.history['val_accuracy']\n",
    "xc=range(124)\n"
   ]
  },
  {
   "cell_type": "code",
   "execution_count": 44,
   "metadata": {},
   "outputs": [],
   "source": [
    "import matplotlib.pyplot as plt"
   ]
  },
  {
   "cell_type": "code",
   "execution_count": 52,
   "metadata": {},
   "outputs": [
    {
     "data": {
      "image/png": "[encoded data removed]",
      "text/plain": [
       "<Figure size 560x400 with 1 Axes>"
      ]
     },
     "metadata": {},
     "output_type": "display_data"
    }
   ],
   "source": [
    "plt.figure(1,figsize=(7,5))\n",
    "plt.plot(xc,train_loss)\n",
    "plt.plot(xc,val_loss)\n",
    "plt.xlabel('num of Epochs')\n",
    "plt.ylabel('loss')\n",
    "plt.title('Training and validation loss')\n",
    "plt.grid(True)\n",
    "plt.legend(['train','val'])\n",
    "plt.style.use(['classic'])"
   ]
  },
  {
   "cell_type": "code",
   "execution_count": 53,
   "metadata": {},
   "outputs": [
    {
     "data": {
      "image/png": "[encoded data removed]",
      "text/plain": [
       "<Figure size 560x400 with 1 Axes>"
      ]
     },
     "metadata": {},
     "output_type": "display_data"
    }
   ],
   "source": [
    "plt.figure(2,figsize=(7,5))\n",
    "plt.plot(xc,train_acc)\n",
    "plt.plot(xc,val_acc)\n",
    "plt.xlabel('num of Epochs')\n",
    "plt.ylabel('accuracy')\n",
    "plt.title('Training and validation acurracy')\n",
    "plt.grid(True)\n",
    "plt.legend(['train','val'],loc=4)\n",
    "#print plt.style.available # use bmh, classic,ggplot for big pictures\n",
    "plt.style.use(['classic'])"
   ]
  },
  {
   "cell_type": "markdown",
   "metadata": {
    "id": "S3U4yNWx9hE4"
   },
   "source": [
    "# Confusion matrix"
   ]
  },
  {
   "cell_type": "code",
   "execution_count": 54,
   "metadata": {
    "colab": {
     "base_uri": "https://localhost:8080/",
     "height": 582
    },
    "id": "AP1V6SCk9hE5",
    "outputId": "08e41a80-7a4a-4619-8125-ecc371368d19",
    "tags": []
   },
   "outputs": [
    {
     "data": {
      "image/png": "[encoded data removed]",
      "text/plain": [
       "<Figure size 560x480 with 2 Axes>"
      ]
     },
     "metadata": {},
     "output_type": "display_data"
    },
    {
     "name": "stdout",
     "output_type": "stream",
     "text": [
      "Classification Report\n",
      "              precision    recall  f1-score   support\n",
      "\n",
      "           0       0.99      0.97      0.98       181\n",
      "           1       0.92      1.00      0.96       221\n",
      "           2       0.99      0.94      0.97       209\n",
      "           3       1.00      1.00      1.00       217\n",
      "           4       1.00      0.99      1.00       215\n",
      "           5       0.88      0.99      0.94       198\n",
      "           6       0.79      0.98      0.88       193\n",
      "           7       0.94      1.00      0.97       235\n",
      "           8       0.99      1.00      0.99       209\n",
      "           9       0.98      0.95      0.97       273\n",
      "          10       1.00      0.94      0.97       200\n",
      "          11       0.98      0.81      0.89       272\n",
      "          12       0.99      1.00      1.00       229\n",
      "          13       0.99      0.99      0.99       214\n",
      "          14       0.94      0.98      0.96       203\n",
      "          15       0.99      1.00      1.00       217\n",
      "          16       1.00      0.99      0.99       203\n",
      "          17       1.00      0.61      0.76       220\n",
      "          18       0.97      1.00      0.99       206\n",
      "          19       1.00      0.80      0.89       225\n",
      "          20       0.71      1.00      0.83       214\n",
      "          21       0.97      0.97      0.97       193\n",
      "          22       1.00      1.00      1.00       199\n",
      "          23       0.99      1.00      0.99       187\n",
      "          24       0.98      1.00      0.99       203\n",
      "\n",
      "    accuracy                           0.95      5336\n",
      "   macro avg       0.96      0.96      0.95      5336\n",
      "weighted avg       0.96      0.95      0.95      5336\n",
      "\n"
     ]
    }
   ],
   "source": [
    "import pandas as pd\n",
    "import seaborn as sns\n",
    "import matplotlib.pyplot as plt\n",
    "from sklearn.metrics import confusion_matrix, classification_report\n",
    "\n",
    "def print_confusion_matrix(y_true, y_pred, report=True):\n",
    "    labels = sorted(list(set(y_true)))\n",
    "    cmx_data = confusion_matrix(y_true, y_pred, labels=labels)\n",
    "    \n",
    "    df_cmx = pd.DataFrame(cmx_data, index=labels, columns=labels)\n",
    " \n",
    "    fig, ax = plt.subplots(figsize=(7, 6))\n",
    "    sns.heatmap(df_cmx, annot=True, fmt='g' ,square=False)\n",
    "    ax.set_ylim(len(set(y_true)), 0)\n",
    "    plt.show()\n",
    "    \n",
    "    if report:\n",
    "        print('Classification Report')\n",
    "        print(classification_report(y_test, y_pred))\n",
    "\n",
    "Y_pred = model.predict(X_test)\n",
    "y_pred = np.argmax(Y_pred, axis=1)\n",
    "\n",
    "print_confusion_matrix(y_test, y_pred)"
   ]
  },
  {
   "cell_type": "markdown",
   "metadata": {
    "id": "FNP6aqzc9hE5"
   },
   "source": [
    "# Convert to model for Tensorflow-Lite"
   ]
  },
  {
   "cell_type": "code",
   "execution_count": 55,
   "metadata": {
    "id": "ODjnYyld9hE6"
   },
   "outputs": [],
   "source": [
    "# Save as a model dedicated to inference\n",
    "model.save(model_save_path, include_optimizer=False)"
   ]
  },
  {
   "cell_type": "code",
   "execution_count": 56,
   "metadata": {
    "colab": {
     "base_uri": "https://localhost:8080/"
    },
    "id": "zRfuK8Y59hE6",
    "outputId": "a4ca585c-b5d5-4244-8291-8674063209bb"
   },
   "outputs": [
    {
     "name": "stdout",
     "output_type": "stream",
     "text": [
      "INFO:tensorflow:Assets written to: C:\\Users\\Lucas\\AppData\\Local\\Temp\\tmpdsx7kkb_\\assets\n"
     ]
    },
    {
     "data": {
      "text/plain": [
       "9456"
      ]
     },
     "execution_count": 56,
     "metadata": {},
     "output_type": "execute_result"
    }
   ],
   "source": [
    "# Transform model (quantization)\n",
    "\n",
    "converter = tf.lite.TFLiteConverter.from_keras_model(model)\n",
    "converter.optimizations = [tf.lite.Optimize.DEFAULT]\n",
    "tflite_quantized_model = converter.convert()\n",
    "\n",
    "open(tflite_save_path, 'wb').write(tflite_quantized_model)"
   ]
  },
  {
   "cell_type": "markdown",
   "metadata": {
    "id": "CHBPBXdx9hE6"
   },
   "source": [
    "# Inference test"
   ]
  },
  {
   "cell_type": "code",
   "execution_count": 57,
   "metadata": {
    "id": "mGAzLocO9hE7"
   },
   "outputs": [],
   "source": [
    "interpreter = tf.lite.Interpreter(model_path=tflite_save_path)\n",
    "interpreter.allocate_tensors()"
   ]
  },
  {
   "cell_type": "code",
   "execution_count": 58,
   "metadata": {
    "id": "oQuDK8YS9hE7"
   },
   "outputs": [],
   "source": [
    "# Get I / O tensor\n",
    "input_details = interpreter.get_input_details()\n",
    "output_details = interpreter.get_output_details()"
   ]
  },
  {
   "cell_type": "code",
   "execution_count": 59,
   "metadata": {
    "id": "2_ixAf_l9hE7"
   },
   "outputs": [],
   "source": [
    "interpreter.set_tensor(input_details[0]['index'], np.array([X_test[0]]))"
   ]
  },
  {
   "cell_type": "code",
   "execution_count": 60,
   "metadata": {
    "colab": {
     "base_uri": "https://localhost:8080/"
    },
    "id": "s4FoAnuc9hE7",
    "outputId": "91f18257-8d8b-4ef3-c558-e9b5f94fabbf",
    "scrolled": true
   },
   "outputs": [
    {
     "name": "stdout",
     "output_type": "stream",
     "text": [
      "Wall time: 2.02 ms\n"
     ]
    }
   ],
   "source": [
    "%%time\n",
    "# Inference implementation\n",
    "interpreter.invoke()\n",
    "tflite_results = interpreter.get_tensor(output_details[0]['index'])"
   ]
  },
  {
   "cell_type": "code",
   "execution_count": 61,
   "metadata": {
    "colab": {
     "base_uri": "https://localhost:8080/"
    },
    "id": "vONjp19J9hE8",
    "outputId": "77205e24-fd00-42c4-f7b6-e06e527c2cba"
   },
   "outputs": [
    {
     "name": "stdout",
     "output_type": "stream",
     "text": [
      "[2.12038453e-09 3.02574562e-13 1.43798359e-04 1.83889973e-29\n",
      " 1.08556973e-16 2.59176225e-13 1.71443371e-31 1.10842542e-13\n",
      " 1.18493973e-13 9.92833018e-01 7.41864388e-14 4.13863825e-21\n",
      " 7.22411571e-18 1.71073739e-22 6.67488435e-03 1.39538132e-19\n",
      " 5.70993419e-24 4.71355176e-26 4.38616192e-11 9.50985793e-07\n",
      " 1.79234359e-31 1.15038276e-26 7.83639463e-37 3.93258892e-09\n",
      " 3.47387395e-04]\n",
      "9\n"
     ]
    }
   ],
   "source": [
    "print(np.squeeze(tflite_results))\n",
    "print(np.argmax(np.squeeze(tflite_results)))"
   ]
  },
  {
   "cell_type": "code",
   "execution_count": null,
   "metadata": {},
   "outputs": [],
   "source": []
  },
  {
   "cell_type": "code",
   "execution_count": null,
   "metadata": {},
   "outputs": [],
   "source": []
  }
 ],
 "metadata": {
  "accelerator": "GPU",
  "colab": {
   "collapsed_sections": [],
   "name": "keypoint_classification_EN.ipynb",
   "provenance": [],
   "toc_visible": true
  },
  "kernelspec": {
   "display_name": "Python 3 (ipykernel)",
   "language": "python",
   "name": "python3"
  },
  "language_info": {
   "codemirror_mode": {
    "name": "ipython",
    "version": 3
   },
   "file_extension": ".py",
   "mimetype": "text/x-python",
   "name": "python",
   "nbconvert_exporter": "python",
   "pygments_lexer": "ipython3",
   "version": "3.7.11"
  }
 },
 "nbformat": 4,
 "nbformat_minor": 4
}
