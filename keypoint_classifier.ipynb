{
 "cells": [
  {
   "cell_type": "code",
   "execution_count": 4,
   "metadata": {
    "id": "igMyGnjE9hEp"
   },
   "outputs": [],
   "source": [
    "import csv\n",
    "\n",
    "import numpy as np\n",
    "import tensorflow as tf\n",
    "from sklearn.model_selection import train_test_split\n",
    "\n",
    "RANDOM_SEED = 42"
   ]
  },
  {
   "cell_type": "markdown",
   "metadata": {
    "id": "t2HDvhIu9hEr",
    "tags": []
   },
   "source": [
    "# Specify each path"
   ]
  },
  {
   "cell_type": "code",
   "execution_count": 5,
   "metadata": {
    "id": "9NvZP2Zn9hEy"
   },
   "outputs": [],
   "source": [
    "dataset = 'model/keypoint_classifier/keypoint.csv'\n",
    "model_save_path = 'model/keypoint_classifier/keypoint_classifier.hdf5'\n",
    "tflite_save_path = 'model/keypoint_classifier/keypoint_classifier.tflite'"
   ]
  },
  {
   "cell_type": "markdown",
   "metadata": {
    "id": "s5oMH7x19hEz"
   },
   "source": [
    "# Set number of classes"
   ]
  },
  {
   "cell_type": "code",
   "execution_count": 6,
   "metadata": {
    "id": "du4kodXL9hEz"
   },
   "outputs": [],
   "source": [
    "NUM_CLASSES = 25"
   ]
  },
  {
   "cell_type": "markdown",
   "metadata": {
    "id": "XjnL0uso9hEz"
   },
   "source": [
    "# Dataset reading"
   ]
  },
  {
   "cell_type": "code",
   "execution_count": 7,
   "metadata": {
    "id": "QT5ZqtEz9hE0"
   },
   "outputs": [],
   "source": [
    "X_dataset = np.loadtxt(dataset, delimiter=',', dtype='float32', usecols=list(range(1, (21 * 2) + 1)))"
   ]
  },
  {
   "cell_type": "code",
   "execution_count": 8,
   "metadata": {
    "id": "QmoKFsp49hE0"
   },
   "outputs": [],
   "source": [
    "y_dataset = np.loadtxt(dataset, delimiter=',', dtype='int32', usecols=(0))"
   ]
  },
  {
   "cell_type": "code",
   "execution_count": 9,
   "metadata": {
    "id": "xQU7JTZ_9hE0"
   },
   "outputs": [],
   "source": [
    "X_train, X_test, y_train, y_test = train_test_split(X_dataset, y_dataset, train_size=0.75, random_state=RANDOM_SEED)"
   ]
  },
  {
   "cell_type": "markdown",
   "metadata": {
    "id": "mxK_lETT9hE0"
   },
   "source": [
    "# Model building"
   ]
  },
  {
   "cell_type": "code",
   "execution_count": 10,
   "metadata": {
    "id": "vHBmUf1t9hE1"
   },
   "outputs": [],
   "source": [
    "model = tf.keras.models.Sequential([\n",
    "    tf.keras.layers.Input((21 * 2, )),\n",
    "    tf.keras.layers.Dropout(0.1),\n",
    "    tf.keras.layers.Dense(40, activation='relu'),\n",
    "    tf.keras.layers.Dropout(0.1),\n",
    "    tf.keras.layers.Dense(20, activation='relu'),\n",
    "    tf.keras.layers.Dropout(0.1),\n",
    "    tf.keras.layers.Dense(10, activation='relu'),\n",
    "    tf.keras.layers.Dense(NUM_CLASSES, activation='softmax')\n",
    "])"
   ]
  },
  {
   "cell_type": "code",
   "execution_count": 11,
   "metadata": {
    "colab": {
     "base_uri": "https://localhost:8080/"
    },
    "id": "ypqky9tc9hE1",
    "outputId": "5db082bb-30e3-4110-bf63-a1ee777ecd46"
   },
   "outputs": [
    {
     "name": "stdout",
     "output_type": "stream",
     "text": [
      "Model: \"sequential\"\n",
      "_________________________________________________________________\n",
      "Layer (type)                 Output Shape              Param #   \n",
      "=================================================================\n",
      "dense (Dense)                (None, 40)                1720      \n",
      "_________________________________________________________________\n",
      "dropout (Dropout)            (None, 40)                0         \n",
      "_________________________________________________________________\n",
      "dense_1 (Dense)              (None, 20)                820       \n",
      "_________________________________________________________________\n",
      "dropout_1 (Dropout)          (None, 20)                0         \n",
      "_________________________________________________________________\n",
      "dense_2 (Dense)              (None, 10)                210       \n",
      "_________________________________________________________________\n",
      "dense_3 (Dense)              (None, 25)                275       \n",
      "=================================================================\n",
      "Total params: 3,025\n",
      "Trainable params: 3,025\n",
      "Non-trainable params: 0\n",
      "_________________________________________________________________\n"
     ]
    }
   ],
   "source": [
    "model.summary()  # tf.keras.utils.plot_model(model, show_shapes=True)"
   ]
  },
  {
   "cell_type": "code",
   "execution_count": 12,
   "metadata": {
    "id": "MbMjOflQ9hE1"
   },
   "outputs": [],
   "source": [
    "# Model checkpoint callback\n",
    "cp_callback = tf.keras.callbacks.ModelCheckpoint(\n",
    "    model_save_path, verbose=1, save_weights_only=False)\n",
    "# Callback for early stopping\n",
    "es_callback = tf.keras.callbacks.EarlyStopping(patience=20, verbose=1)"
   ]
  },
  {
   "cell_type": "code",
   "execution_count": 13,
   "metadata": {
    "id": "c3Dac0M_9hE2"
   },
   "outputs": [],
   "source": [
    "# Model compilation\n",
    "model.compile(\n",
    "    optimizer='adam',\n",
    "    loss='sparse_categorical_crossentropy',\n",
    "    metrics=['accuracy']\n",
    ")"
   ]
  },
  {
   "cell_type": "markdown",
   "metadata": {
    "id": "7XI0j1Iu9hE2"
   },
   "source": [
    "# Model training"
   ]
  },
  {
   "cell_type": "code",
   "execution_count": 14,
   "metadata": {
    "colab": {
     "base_uri": "https://localhost:8080/"
    },
    "id": "WirBl-JE9hE3",
    "jupyter": {
     "outputs_hidden": true
    },
    "outputId": "71b30ca2-8294-4d9d-8aa2-800d90d399de",
    "scrolled": true,
    "tags": []
   },
   "outputs": [
    {
     "name": "stdout",
     "output_type": "stream",
     "text": [
      "Epoch 1/1000\n",
      "126/126 [==============================] - 2s 9ms/step - loss: 3.1390 - accuracy: 0.0722 - val_loss: 2.6215 - val_accuracy: 0.2217\n",
      "\n",
      "Epoch 00001: saving model to model/keypoint_classifier\\keypoint_classifier.hdf5\n",
      "Epoch 2/1000\n",
      "126/126 [==============================] - 0s 4ms/step - loss: 2.4558 - accuracy: 0.2361 - val_loss: 1.6850 - val_accuracy: 0.4723\n",
      "\n",
      "Epoch 00002: saving model to model/keypoint_classifier\\keypoint_classifier.hdf5\n",
      "Epoch 3/1000\n",
      "126/126 [==============================] - 1s 5ms/step - loss: 1.7122 - accuracy: 0.4101 - val_loss: 1.2066 - val_accuracy: 0.6550\n",
      "\n",
      "Epoch 00003: saving model to model/keypoint_classifier\\keypoint_classifier.hdf5\n",
      "Epoch 4/1000\n",
      "126/126 [==============================] - 1s 5ms/step - loss: 1.3507 - accuracy: 0.5281 - val_loss: 0.9128 - val_accuracy: 0.7569\n",
      "\n",
      "Epoch 00004: saving model to model/keypoint_classifier\\keypoint_classifier.hdf5\n",
      "Epoch 5/1000\n",
      "126/126 [==============================] - 1s 5ms/step - loss: 1.0916 - accuracy: 0.6199 - val_loss: 0.6894 - val_accuracy: 0.8786\n",
      "\n",
      "Epoch 00005: saving model to model/keypoint_classifier\\keypoint_classifier.hdf5\n",
      "Epoch 6/1000\n",
      "126/126 [==============================] - 1s 6ms/step - loss: 0.8863 - accuracy: 0.7035 - val_loss: 0.5245 - val_accuracy: 0.9115\n",
      "\n",
      "Epoch 00006: saving model to model/keypoint_classifier\\keypoint_classifier.hdf5\n",
      "Epoch 7/1000\n",
      "126/126 [==============================] - 1s 5ms/step - loss: 0.7499 - accuracy: 0.7515 - val_loss: 0.4153 - val_accuracy: 0.9209\n",
      "\n",
      "Epoch 00007: saving model to model/keypoint_classifier\\keypoint_classifier.hdf5\n",
      "Epoch 8/1000\n",
      "126/126 [==============================] - 0s 3ms/step - loss: 0.6352 - accuracy: 0.7833 - val_loss: 0.3464 - val_accuracy: 0.9305\n",
      "\n",
      "Epoch 00008: saving model to model/keypoint_classifier\\keypoint_classifier.hdf5\n",
      "Epoch 9/1000\n",
      "126/126 [==============================] - 0s 3ms/step - loss: 0.5607 - accuracy: 0.8102 - val_loss: 0.2898 - val_accuracy: 0.9460\n",
      "\n",
      "Epoch 00009: saving model to model/keypoint_classifier\\keypoint_classifier.hdf5\n",
      "Epoch 10/1000\n",
      "126/126 [==============================] - 0s 3ms/step - loss: 0.5200 - accuracy: 0.8253 - val_loss: 0.2544 - val_accuracy: 0.9473\n",
      "\n",
      "Epoch 00010: saving model to model/keypoint_classifier\\keypoint_classifier.hdf5\n",
      "Epoch 11/1000\n",
      "126/126 [==============================] - 0s 3ms/step - loss: 0.4680 - accuracy: 0.8458 - val_loss: 0.2256 - val_accuracy: 0.9584\n",
      "\n",
      "Epoch 00011: saving model to model/keypoint_classifier\\keypoint_classifier.hdf5\n",
      "Epoch 12/1000\n",
      "126/126 [==============================] - 0s 3ms/step - loss: 0.4281 - accuracy: 0.8595 - val_loss: 0.2007 - val_accuracy: 0.9651\n",
      "\n",
      "Epoch 00012: saving model to model/keypoint_classifier\\keypoint_classifier.hdf5\n",
      "Epoch 13/1000\n",
      "126/126 [==============================] - 0s 3ms/step - loss: 0.3894 - accuracy: 0.8675 - val_loss: 0.1853 - val_accuracy: 0.9636\n",
      "\n",
      "Epoch 00013: saving model to model/keypoint_classifier\\keypoint_classifier.hdf5\n",
      "Epoch 14/1000\n",
      "126/126 [==============================] - 1s 4ms/step - loss: 0.3606 - accuracy: 0.8784 - val_loss: 0.1661 - val_accuracy: 0.9698\n",
      "\n",
      "Epoch 00014: saving model to model/keypoint_classifier\\keypoint_classifier.hdf5\n",
      "Epoch 15/1000\n",
      "126/126 [==============================] - 1s 4ms/step - loss: 0.3495 - accuracy: 0.8869 - val_loss: 0.1602 - val_accuracy: 0.9663\n",
      "\n",
      "Epoch 00015: saving model to model/keypoint_classifier\\keypoint_classifier.hdf5\n",
      "Epoch 16/1000\n",
      "126/126 [==============================] - 1s 4ms/step - loss: 0.3292 - accuracy: 0.8958 - val_loss: 0.1502 - val_accuracy: 0.9691\n",
      "\n",
      "Epoch 00016: saving model to model/keypoint_classifier\\keypoint_classifier.hdf5\n",
      "Epoch 17/1000\n",
      "126/126 [==============================] - 0s 3ms/step - loss: 0.3065 - accuracy: 0.9044 - val_loss: 0.1399 - val_accuracy: 0.9721\n",
      "\n",
      "Epoch 00017: saving model to model/keypoint_classifier\\keypoint_classifier.hdf5\n",
      "Epoch 18/1000\n",
      "126/126 [==============================] - 0s 3ms/step - loss: 0.2858 - accuracy: 0.9066 - val_loss: 0.1328 - val_accuracy: 0.9732\n",
      "\n",
      "Epoch 00018: saving model to model/keypoint_classifier\\keypoint_classifier.hdf5\n",
      "Epoch 19/1000\n",
      "126/126 [==============================] - 1s 4ms/step - loss: 0.2810 - accuracy: 0.9115 - val_loss: 0.1214 - val_accuracy: 0.9760\n",
      "\n",
      "Epoch 00019: saving model to model/keypoint_classifier\\keypoint_classifier.hdf5\n",
      "Epoch 20/1000\n",
      "126/126 [==============================] - 0s 4ms/step - loss: 0.2701 - accuracy: 0.9137 - val_loss: 0.1166 - val_accuracy: 0.9771\n",
      "\n",
      "Epoch 00020: saving model to model/keypoint_classifier\\keypoint_classifier.hdf5\n",
      "Epoch 21/1000\n",
      "126/126 [==============================] - 0s 3ms/step - loss: 0.2519 - accuracy: 0.9189 - val_loss: 0.1086 - val_accuracy: 0.9766\n",
      "\n",
      "Epoch 00021: saving model to model/keypoint_classifier\\keypoint_classifier.hdf5\n",
      "Epoch 22/1000\n",
      "126/126 [==============================] - 0s 4ms/step - loss: 0.2443 - accuracy: 0.9247 - val_loss: 0.1078 - val_accuracy: 0.9790\n",
      "\n",
      "Epoch 00022: saving model to model/keypoint_classifier\\keypoint_classifier.hdf5\n",
      "Epoch 23/1000\n",
      "126/126 [==============================] - 1s 5ms/step - loss: 0.2258 - accuracy: 0.9280 - val_loss: 0.1025 - val_accuracy: 0.9790\n",
      "\n",
      "Epoch 00023: saving model to model/keypoint_classifier\\keypoint_classifier.hdf5\n",
      "Epoch 24/1000\n",
      "126/126 [==============================] - 1s 4ms/step - loss: 0.2257 - accuracy: 0.9256 - val_loss: 0.0960 - val_accuracy: 0.9783\n",
      "\n",
      "Epoch 00024: saving model to model/keypoint_classifier\\keypoint_classifier.hdf5\n",
      "Epoch 25/1000\n",
      "126/126 [==============================] - 0s 3ms/step - loss: 0.2018 - accuracy: 0.9356 - val_loss: 0.0959 - val_accuracy: 0.9773\n",
      "\n",
      "Epoch 00025: saving model to model/keypoint_classifier\\keypoint_classifier.hdf5\n",
      "Epoch 26/1000\n",
      "126/126 [==============================] - 0s 3ms/step - loss: 0.2123 - accuracy: 0.9313 - val_loss: 0.0889 - val_accuracy: 0.9816\n",
      "\n",
      "Epoch 00026: saving model to model/keypoint_classifier\\keypoint_classifier.hdf5\n",
      "Epoch 27/1000\n",
      "126/126 [==============================] - 0s 4ms/step - loss: 0.2052 - accuracy: 0.9385 - val_loss: 0.0872 - val_accuracy: 0.9831\n",
      "\n",
      "Epoch 00027: saving model to model/keypoint_classifier\\keypoint_classifier.hdf5\n",
      "Epoch 28/1000\n",
      "126/126 [==============================] - 0s 3ms/step - loss: 0.1921 - accuracy: 0.9401 - val_loss: 0.0768 - val_accuracy: 0.9863\n",
      "\n",
      "Epoch 00028: saving model to model/keypoint_classifier\\keypoint_classifier.hdf5\n",
      "Epoch 29/1000\n",
      "126/126 [==============================] - 0s 3ms/step - loss: 0.1906 - accuracy: 0.9412 - val_loss: 0.0741 - val_accuracy: 0.9854\n",
      "\n",
      "Epoch 00029: saving model to model/keypoint_classifier\\keypoint_classifier.hdf5\n",
      "Epoch 30/1000\n",
      "126/126 [==============================] - 0s 3ms/step - loss: 0.1811 - accuracy: 0.9469 - val_loss: 0.0771 - val_accuracy: 0.9843\n",
      "\n",
      "Epoch 00030: saving model to model/keypoint_classifier\\keypoint_classifier.hdf5\n",
      "Epoch 31/1000\n",
      "126/126 [==============================] - 0s 3ms/step - loss: 0.1785 - accuracy: 0.9466 - val_loss: 0.0713 - val_accuracy: 0.9856\n",
      "\n",
      "Epoch 00031: saving model to model/keypoint_classifier\\keypoint_classifier.hdf5\n",
      "Epoch 32/1000\n",
      "126/126 [==============================] - 0s 4ms/step - loss: 0.1610 - accuracy: 0.9525 - val_loss: 0.0676 - val_accuracy: 0.9878\n",
      "\n",
      "Epoch 00032: saving model to model/keypoint_classifier\\keypoint_classifier.hdf5\n",
      "Epoch 33/1000\n",
      "126/126 [==============================] - 0s 3ms/step - loss: 0.1550 - accuracy: 0.9535 - val_loss: 0.0631 - val_accuracy: 0.9888\n",
      "\n",
      "Epoch 00033: saving model to model/keypoint_classifier\\keypoint_classifier.hdf5\n",
      "Epoch 34/1000\n",
      "126/126 [==============================] - 0s 3ms/step - loss: 0.1533 - accuracy: 0.9528 - val_loss: 0.0609 - val_accuracy: 0.9895\n",
      "\n",
      "Epoch 00034: saving model to model/keypoint_classifier\\keypoint_classifier.hdf5\n",
      "Epoch 35/1000\n",
      "126/126 [==============================] - 1s 4ms/step - loss: 0.1544 - accuracy: 0.9539 - val_loss: 0.0612 - val_accuracy: 0.9891\n",
      "\n",
      "Epoch 00035: saving model to model/keypoint_classifier\\keypoint_classifier.hdf5\n",
      "Epoch 36/1000\n",
      "126/126 [==============================] - 1s 6ms/step - loss: 0.1562 - accuracy: 0.9543 - val_loss: 0.0586 - val_accuracy: 0.9901\n",
      "\n",
      "Epoch 00036: saving model to model/keypoint_classifier\\keypoint_classifier.hdf5\n",
      "Epoch 37/1000\n"
     ]
    },
    {
     "name": "stdout",
     "output_type": "stream",
     "text": [
      "126/126 [==============================] - 1s 6ms/step - loss: 0.1394 - accuracy: 0.9581 - val_loss: 0.0587 - val_accuracy: 0.9884\n",
      "\n",
      "Epoch 00037: saving model to model/keypoint_classifier\\keypoint_classifier.hdf5\n",
      "Epoch 38/1000\n",
      "126/126 [==============================] - 1s 4ms/step - loss: 0.1366 - accuracy: 0.9588 - val_loss: 0.0563 - val_accuracy: 0.9891\n",
      "\n",
      "Epoch 00038: saving model to model/keypoint_classifier\\keypoint_classifier.hdf5\n",
      "Epoch 39/1000\n",
      "126/126 [==============================] - 0s 3ms/step - loss: 0.1482 - accuracy: 0.9561 - val_loss: 0.0543 - val_accuracy: 0.9899\n",
      "\n",
      "Epoch 00039: saving model to model/keypoint_classifier\\keypoint_classifier.hdf5\n",
      "Epoch 40/1000\n",
      "126/126 [==============================] - 0s 3ms/step - loss: 0.1335 - accuracy: 0.9624 - val_loss: 0.0557 - val_accuracy: 0.9901\n",
      "\n",
      "Epoch 00040: saving model to model/keypoint_classifier\\keypoint_classifier.hdf5\n",
      "Epoch 41/1000\n",
      "126/126 [==============================] - 0s 4ms/step - loss: 0.1306 - accuracy: 0.9635 - val_loss: 0.0510 - val_accuracy: 0.9889\n",
      "\n",
      "Epoch 00041: saving model to model/keypoint_classifier\\keypoint_classifier.hdf5\n",
      "Epoch 42/1000\n",
      "126/126 [==============================] - 0s 3ms/step - loss: 0.1290 - accuracy: 0.9616 - val_loss: 0.0539 - val_accuracy: 0.9901\n",
      "\n",
      "Epoch 00042: saving model to model/keypoint_classifier\\keypoint_classifier.hdf5\n",
      "Epoch 43/1000\n",
      "126/126 [==============================] - 0s 3ms/step - loss: 0.1201 - accuracy: 0.9632 - val_loss: 0.0506 - val_accuracy: 0.9904\n",
      "\n",
      "Epoch 00043: saving model to model/keypoint_classifier\\keypoint_classifier.hdf5\n",
      "Epoch 44/1000\n",
      "126/126 [==============================] - 0s 3ms/step - loss: 0.1221 - accuracy: 0.9651 - val_loss: 0.0517 - val_accuracy: 0.9899\n",
      "\n",
      "Epoch 00044: saving model to model/keypoint_classifier\\keypoint_classifier.hdf5\n",
      "Epoch 45/1000\n",
      "126/126 [==============================] - 1s 5ms/step - loss: 0.1194 - accuracy: 0.9612 - val_loss: 0.0494 - val_accuracy: 0.9904\n",
      "\n",
      "Epoch 00045: saving model to model/keypoint_classifier\\keypoint_classifier.hdf5\n",
      "Epoch 46/1000\n",
      "126/126 [==============================] - 1s 5ms/step - loss: 0.1216 - accuracy: 0.9642 - val_loss: 0.0447 - val_accuracy: 0.9910\n",
      "\n",
      "Epoch 00046: saving model to model/keypoint_classifier\\keypoint_classifier.hdf5\n",
      "Epoch 47/1000\n",
      "126/126 [==============================] - 1s 5ms/step - loss: 0.1233 - accuracy: 0.9614 - val_loss: 0.0493 - val_accuracy: 0.9912\n",
      "\n",
      "Epoch 00047: saving model to model/keypoint_classifier\\keypoint_classifier.hdf5\n",
      "Epoch 48/1000\n",
      "126/126 [==============================] - 1s 5ms/step - loss: 0.1173 - accuracy: 0.9668 - val_loss: 0.0452 - val_accuracy: 0.9916\n",
      "\n",
      "Epoch 00048: saving model to model/keypoint_classifier\\keypoint_classifier.hdf5\n",
      "Epoch 49/1000\n",
      "126/126 [==============================] - 1s 5ms/step - loss: 0.1113 - accuracy: 0.9666 - val_loss: 0.0428 - val_accuracy: 0.9910\n",
      "\n",
      "Epoch 00049: saving model to model/keypoint_classifier\\keypoint_classifier.hdf5\n",
      "Epoch 50/1000\n",
      "126/126 [==============================] - 1s 5ms/step - loss: 0.1098 - accuracy: 0.9668 - val_loss: 0.0419 - val_accuracy: 0.9916\n",
      "\n",
      "Epoch 00050: saving model to model/keypoint_classifier\\keypoint_classifier.hdf5\n",
      "Epoch 51/1000\n",
      "126/126 [==============================] - 1s 5ms/step - loss: 0.1053 - accuracy: 0.9698 - val_loss: 0.0429 - val_accuracy: 0.9914\n",
      "\n",
      "Epoch 00051: saving model to model/keypoint_classifier\\keypoint_classifier.hdf5\n",
      "Epoch 52/1000\n",
      "126/126 [==============================] - 0s 3ms/step - loss: 0.1040 - accuracy: 0.9712 - val_loss: 0.0408 - val_accuracy: 0.9927\n",
      "\n",
      "Epoch 00052: saving model to model/keypoint_classifier\\keypoint_classifier.hdf5\n",
      "Epoch 53/1000\n",
      "126/126 [==============================] - 0s 3ms/step - loss: 0.1072 - accuracy: 0.9686 - val_loss: 0.0416 - val_accuracy: 0.9921\n",
      "\n",
      "Epoch 00053: saving model to model/keypoint_classifier\\keypoint_classifier.hdf5\n",
      "Epoch 54/1000\n",
      "126/126 [==============================] - 0s 3ms/step - loss: 0.0988 - accuracy: 0.9713 - val_loss: 0.0428 - val_accuracy: 0.9916\n",
      "\n",
      "Epoch 00054: saving model to model/keypoint_classifier\\keypoint_classifier.hdf5\n",
      "Epoch 55/1000\n",
      "126/126 [==============================] - 1s 5ms/step - loss: 0.0947 - accuracy: 0.9713 - val_loss: 0.0433 - val_accuracy: 0.9925\n",
      "\n",
      "Epoch 00055: saving model to model/keypoint_classifier\\keypoint_classifier.hdf5\n",
      "Epoch 56/1000\n",
      "126/126 [==============================] - 0s 4ms/step - loss: 0.0983 - accuracy: 0.9719 - val_loss: 0.0414 - val_accuracy: 0.9916\n",
      "\n",
      "Epoch 00056: saving model to model/keypoint_classifier\\keypoint_classifier.hdf5\n",
      "Epoch 57/1000\n",
      "126/126 [==============================] - 1s 5ms/step - loss: 0.0855 - accuracy: 0.9761 - val_loss: 0.0389 - val_accuracy: 0.9916\n",
      "\n",
      "Epoch 00057: saving model to model/keypoint_classifier\\keypoint_classifier.hdf5\n",
      "Epoch 58/1000\n",
      "126/126 [==============================] - 1s 5ms/step - loss: 0.1033 - accuracy: 0.9696 - val_loss: 0.0400 - val_accuracy: 0.9914\n",
      "\n",
      "Epoch 00058: saving model to model/keypoint_classifier\\keypoint_classifier.hdf5\n",
      "Epoch 59/1000\n",
      "126/126 [==============================] - 1s 5ms/step - loss: 0.0783 - accuracy: 0.9772 - val_loss: 0.0374 - val_accuracy: 0.9929\n",
      "\n",
      "Epoch 00059: saving model to model/keypoint_classifier\\keypoint_classifier.hdf5\n",
      "Epoch 60/1000\n",
      "126/126 [==============================] - 0s 3ms/step - loss: 0.0906 - accuracy: 0.9733 - val_loss: 0.0386 - val_accuracy: 0.9927\n",
      "\n",
      "Epoch 00060: saving model to model/keypoint_classifier\\keypoint_classifier.hdf5\n",
      "Epoch 61/1000\n",
      "126/126 [==============================] - 1s 5ms/step - loss: 0.0916 - accuracy: 0.9732 - val_loss: 0.0361 - val_accuracy: 0.9936\n",
      "\n",
      "Epoch 00061: saving model to model/keypoint_classifier\\keypoint_classifier.hdf5\n",
      "Epoch 62/1000\n",
      "126/126 [==============================] - 1s 5ms/step - loss: 0.0868 - accuracy: 0.9754 - val_loss: 0.0369 - val_accuracy: 0.9925\n",
      "\n",
      "Epoch 00062: saving model to model/keypoint_classifier\\keypoint_classifier.hdf5\n",
      "Epoch 63/1000\n",
      "126/126 [==============================] - 1s 5ms/step - loss: 0.0842 - accuracy: 0.9763 - val_loss: 0.0344 - val_accuracy: 0.9931\n",
      "\n",
      "Epoch 00063: saving model to model/keypoint_classifier\\keypoint_classifier.hdf5\n",
      "Epoch 64/1000\n",
      "126/126 [==============================] - 0s 3ms/step - loss: 0.0869 - accuracy: 0.9761 - val_loss: 0.0379 - val_accuracy: 0.9923\n",
      "\n",
      "Epoch 00064: saving model to model/keypoint_classifier\\keypoint_classifier.hdf5\n",
      "Epoch 65/1000\n",
      "126/126 [==============================] - 0s 3ms/step - loss: 0.0770 - accuracy: 0.9778 - val_loss: 0.0341 - val_accuracy: 0.9933\n",
      "\n",
      "Epoch 00065: saving model to model/keypoint_classifier\\keypoint_classifier.hdf5\n",
      "Epoch 66/1000\n",
      "126/126 [==============================] - 0s 3ms/step - loss: 0.0842 - accuracy: 0.9752 - val_loss: 0.0371 - val_accuracy: 0.9933\n",
      "\n",
      "Epoch 00066: saving model to model/keypoint_classifier\\keypoint_classifier.hdf5\n",
      "Epoch 67/1000\n",
      "126/126 [==============================] - 0s 3ms/step - loss: 0.0787 - accuracy: 0.9772 - val_loss: 0.0346 - val_accuracy: 0.9927\n",
      "\n",
      "Epoch 00067: saving model to model/keypoint_classifier\\keypoint_classifier.hdf5\n",
      "Epoch 68/1000\n",
      "126/126 [==============================] - 0s 3ms/step - loss: 0.0801 - accuracy: 0.9753 - val_loss: 0.0349 - val_accuracy: 0.9938\n",
      "\n",
      "Epoch 00068: saving model to model/keypoint_classifier\\keypoint_classifier.hdf5\n",
      "Epoch 69/1000\n",
      "126/126 [==============================] - 0s 3ms/step - loss: 0.0786 - accuracy: 0.9767 - val_loss: 0.0336 - val_accuracy: 0.9942\n",
      "\n",
      "Epoch 00069: saving model to model/keypoint_classifier\\keypoint_classifier.hdf5\n",
      "Epoch 70/1000\n",
      "126/126 [==============================] - 0s 3ms/step - loss: 0.0871 - accuracy: 0.9761 - val_loss: 0.0342 - val_accuracy: 0.9942\n",
      "\n",
      "Epoch 00070: saving model to model/keypoint_classifier\\keypoint_classifier.hdf5\n",
      "Epoch 71/1000\n",
      "126/126 [==============================] - 0s 3ms/step - loss: 0.0745 - accuracy: 0.9786 - val_loss: 0.0325 - val_accuracy: 0.9938\n",
      "\n",
      "Epoch 00071: saving model to model/keypoint_classifier\\keypoint_classifier.hdf5\n",
      "Epoch 72/1000\n",
      "126/126 [==============================] - 0s 3ms/step - loss: 0.0735 - accuracy: 0.9792 - val_loss: 0.0343 - val_accuracy: 0.9933\n",
      "\n",
      "Epoch 00072: saving model to model/keypoint_classifier\\keypoint_classifier.hdf5\n",
      "Epoch 73/1000\n"
     ]
    },
    {
     "name": "stdout",
     "output_type": "stream",
     "text": [
      "126/126 [==============================] - 1s 5ms/step - loss: 0.0777 - accuracy: 0.9769 - val_loss: 0.0344 - val_accuracy: 0.9940\n",
      "\n",
      "Epoch 00073: saving model to model/keypoint_classifier\\keypoint_classifier.hdf5\n",
      "Epoch 74/1000\n",
      "126/126 [==============================] - 1s 5ms/step - loss: 0.0672 - accuracy: 0.9815 - val_loss: 0.0330 - val_accuracy: 0.9944\n",
      "\n",
      "Epoch 00074: saving model to model/keypoint_classifier\\keypoint_classifier.hdf5\n",
      "Epoch 75/1000\n",
      "126/126 [==============================] - 1s 5ms/step - loss: 0.0699 - accuracy: 0.9787 - val_loss: 0.0339 - val_accuracy: 0.9942\n",
      "\n",
      "Epoch 00075: saving model to model/keypoint_classifier\\keypoint_classifier.hdf5\n",
      "Epoch 76/1000\n",
      "126/126 [==============================] - 0s 4ms/step - loss: 0.0688 - accuracy: 0.9792 - val_loss: 0.0324 - val_accuracy: 0.9942\n",
      "\n",
      "Epoch 00076: saving model to model/keypoint_classifier\\keypoint_classifier.hdf5\n",
      "Epoch 77/1000\n",
      "126/126 [==============================] - 1s 5ms/step - loss: 0.0712 - accuracy: 0.9806 - val_loss: 0.0330 - val_accuracy: 0.9944\n",
      "\n",
      "Epoch 00077: saving model to model/keypoint_classifier\\keypoint_classifier.hdf5\n",
      "Epoch 78/1000\n",
      "126/126 [==============================] - 0s 4ms/step - loss: 0.0673 - accuracy: 0.9800 - val_loss: 0.0327 - val_accuracy: 0.9940\n",
      "\n",
      "Epoch 00078: saving model to model/keypoint_classifier\\keypoint_classifier.hdf5\n",
      "Epoch 79/1000\n",
      "126/126 [==============================] - 0s 3ms/step - loss: 0.0719 - accuracy: 0.9788 - val_loss: 0.0319 - val_accuracy: 0.9944\n",
      "\n",
      "Epoch 00079: saving model to model/keypoint_classifier\\keypoint_classifier.hdf5\n",
      "Epoch 80/1000\n",
      "126/126 [==============================] - 0s 3ms/step - loss: 0.0720 - accuracy: 0.9816 - val_loss: 0.0317 - val_accuracy: 0.9953\n",
      "\n",
      "Epoch 00080: saving model to model/keypoint_classifier\\keypoint_classifier.hdf5\n",
      "Epoch 81/1000\n",
      "126/126 [==============================] - 1s 5ms/step - loss: 0.0655 - accuracy: 0.9795 - val_loss: 0.0314 - val_accuracy: 0.9953\n",
      "\n",
      "Epoch 00081: saving model to model/keypoint_classifier\\keypoint_classifier.hdf5\n",
      "Epoch 82/1000\n",
      "126/126 [==============================] - 1s 5ms/step - loss: 0.0607 - accuracy: 0.9824 - val_loss: 0.0310 - val_accuracy: 0.9948\n",
      "\n",
      "Epoch 00082: saving model to model/keypoint_classifier\\keypoint_classifier.hdf5\n",
      "Epoch 83/1000\n",
      "126/126 [==============================] - 1s 4ms/step - loss: 0.0644 - accuracy: 0.9818 - val_loss: 0.0296 - val_accuracy: 0.9949\n",
      "\n",
      "Epoch 00083: saving model to model/keypoint_classifier\\keypoint_classifier.hdf5\n",
      "Epoch 84/1000\n",
      "126/126 [==============================] - 0s 4ms/step - loss: 0.0644 - accuracy: 0.9813 - val_loss: 0.0309 - val_accuracy: 0.9951\n",
      "\n",
      "Epoch 00084: saving model to model/keypoint_classifier\\keypoint_classifier.hdf5\n",
      "Epoch 85/1000\n",
      "126/126 [==============================] - 0s 4ms/step - loss: 0.0649 - accuracy: 0.9797 - val_loss: 0.0309 - val_accuracy: 0.9951\n",
      "\n",
      "Epoch 00085: saving model to model/keypoint_classifier\\keypoint_classifier.hdf5\n",
      "Epoch 86/1000\n",
      "126/126 [==============================] - 1s 4ms/step - loss: 0.0637 - accuracy: 0.9793 - val_loss: 0.0302 - val_accuracy: 0.9951\n",
      "\n",
      "Epoch 00086: saving model to model/keypoint_classifier\\keypoint_classifier.hdf5\n",
      "Epoch 87/1000\n",
      "126/126 [==============================] - 0s 3ms/step - loss: 0.0628 - accuracy: 0.9823 - val_loss: 0.0303 - val_accuracy: 0.9946\n",
      "\n",
      "Epoch 00087: saving model to model/keypoint_classifier\\keypoint_classifier.hdf5\n",
      "Epoch 88/1000\n",
      "126/126 [==============================] - 0s 4ms/step - loss: 0.0622 - accuracy: 0.9812 - val_loss: 0.0287 - val_accuracy: 0.9961\n",
      "\n",
      "Epoch 00088: saving model to model/keypoint_classifier\\keypoint_classifier.hdf5\n",
      "Epoch 89/1000\n",
      "126/126 [==============================] - 0s 4ms/step - loss: 0.0612 - accuracy: 0.9794 - val_loss: 0.0318 - val_accuracy: 0.9944\n",
      "\n",
      "Epoch 00089: saving model to model/keypoint_classifier\\keypoint_classifier.hdf5\n",
      "Epoch 90/1000\n",
      "126/126 [==============================] - 0s 3ms/step - loss: 0.0537 - accuracy: 0.9848 - val_loss: 0.0296 - val_accuracy: 0.9955\n",
      "\n",
      "Epoch 00090: saving model to model/keypoint_classifier\\keypoint_classifier.hdf5\n",
      "Epoch 91/1000\n",
      "126/126 [==============================] - 0s 3ms/step - loss: 0.0563 - accuracy: 0.9832 - val_loss: 0.0338 - val_accuracy: 0.9942\n",
      "\n",
      "Epoch 00091: saving model to model/keypoint_classifier\\keypoint_classifier.hdf5\n",
      "Epoch 92/1000\n",
      "126/126 [==============================] - 0s 3ms/step - loss: 0.0608 - accuracy: 0.9832 - val_loss: 0.0302 - val_accuracy: 0.9959\n",
      "\n",
      "Epoch 00092: saving model to model/keypoint_classifier\\keypoint_classifier.hdf5\n",
      "Epoch 93/1000\n",
      "126/126 [==============================] - 0s 3ms/step - loss: 0.0568 - accuracy: 0.9842 - val_loss: 0.0286 - val_accuracy: 0.9955\n",
      "\n",
      "Epoch 00093: saving model to model/keypoint_classifier\\keypoint_classifier.hdf5\n",
      "Epoch 94/1000\n",
      "126/126 [==============================] - 0s 3ms/step - loss: 0.0537 - accuracy: 0.9836 - val_loss: 0.0291 - val_accuracy: 0.9959\n",
      "\n",
      "Epoch 00094: saving model to model/keypoint_classifier\\keypoint_classifier.hdf5\n",
      "Epoch 95/1000\n",
      "126/126 [==============================] - 0s 3ms/step - loss: 0.0542 - accuracy: 0.9857 - val_loss: 0.0291 - val_accuracy: 0.9940\n",
      "\n",
      "Epoch 00095: saving model to model/keypoint_classifier\\keypoint_classifier.hdf5\n",
      "Epoch 96/1000\n",
      "126/126 [==============================] - 0s 3ms/step - loss: 0.0500 - accuracy: 0.9859 - val_loss: 0.0287 - val_accuracy: 0.9959\n",
      "\n",
      "Epoch 00096: saving model to model/keypoint_classifier\\keypoint_classifier.hdf5\n",
      "Epoch 97/1000\n",
      "126/126 [==============================] - 0s 3ms/step - loss: 0.0524 - accuracy: 0.9852 - val_loss: 0.0307 - val_accuracy: 0.9957\n",
      "\n",
      "Epoch 00097: saving model to model/keypoint_classifier\\keypoint_classifier.hdf5\n",
      "Epoch 98/1000\n",
      "126/126 [==============================] - 0s 3ms/step - loss: 0.0680 - accuracy: 0.9792 - val_loss: 0.0275 - val_accuracy: 0.9957\n",
      "\n",
      "Epoch 00098: saving model to model/keypoint_classifier\\keypoint_classifier.hdf5\n",
      "Epoch 99/1000\n",
      "126/126 [==============================] - 0s 3ms/step - loss: 0.0520 - accuracy: 0.9844 - val_loss: 0.0297 - val_accuracy: 0.9953\n",
      "\n",
      "Epoch 00099: saving model to model/keypoint_classifier\\keypoint_classifier.hdf5\n",
      "Epoch 100/1000\n",
      "126/126 [==============================] - 0s 4ms/step - loss: 0.0565 - accuracy: 0.9835 - val_loss: 0.0285 - val_accuracy: 0.9959\n",
      "\n",
      "Epoch 00100: saving model to model/keypoint_classifier\\keypoint_classifier.hdf5\n",
      "Epoch 101/1000\n",
      "126/126 [==============================] - 0s 3ms/step - loss: 0.0513 - accuracy: 0.9846 - val_loss: 0.0273 - val_accuracy: 0.9957\n",
      "\n",
      "Epoch 00101: saving model to model/keypoint_classifier\\keypoint_classifier.hdf5\n",
      "Epoch 102/1000\n",
      "126/126 [==============================] - 0s 3ms/step - loss: 0.0524 - accuracy: 0.9854 - val_loss: 0.0263 - val_accuracy: 0.9955\n",
      "\n",
      "Epoch 00102: saving model to model/keypoint_classifier\\keypoint_classifier.hdf5\n",
      "Epoch 103/1000\n",
      "126/126 [==============================] - 0s 3ms/step - loss: 0.0560 - accuracy: 0.9845 - val_loss: 0.0289 - val_accuracy: 0.9951\n",
      "\n",
      "Epoch 00103: saving model to model/keypoint_classifier\\keypoint_classifier.hdf5\n",
      "Epoch 104/1000\n",
      "126/126 [==============================] - 0s 4ms/step - loss: 0.0537 - accuracy: 0.9842 - val_loss: 0.0280 - val_accuracy: 0.9963\n",
      "\n",
      "Epoch 00104: saving model to model/keypoint_classifier\\keypoint_classifier.hdf5\n",
      "Epoch 105/1000\n",
      "126/126 [==============================] - 0s 3ms/step - loss: 0.0562 - accuracy: 0.9848 - val_loss: 0.0273 - val_accuracy: 0.9961\n",
      "\n",
      "Epoch 00105: saving model to model/keypoint_classifier\\keypoint_classifier.hdf5\n",
      "Epoch 106/1000\n",
      "126/126 [==============================] - 1s 4ms/step - loss: 0.0511 - accuracy: 0.9854 - val_loss: 0.0277 - val_accuracy: 0.9957\n",
      "\n",
      "Epoch 00106: saving model to model/keypoint_classifier\\keypoint_classifier.hdf5\n",
      "Epoch 107/1000\n",
      "126/126 [==============================] - 1s 5ms/step - loss: 0.0486 - accuracy: 0.9862 - val_loss: 0.0290 - val_accuracy: 0.9948\n",
      "\n",
      "Epoch 00107: saving model to model/keypoint_classifier\\keypoint_classifier.hdf5\n",
      "Epoch 108/1000\n",
      "126/126 [==============================] - 1s 5ms/step - loss: 0.0537 - accuracy: 0.9843 - val_loss: 0.0272 - val_accuracy: 0.9964\n",
      "\n",
      "Epoch 00108: saving model to model/keypoint_classifier\\keypoint_classifier.hdf5\n",
      "Epoch 109/1000\n"
     ]
    },
    {
     "name": "stdout",
     "output_type": "stream",
     "text": [
      "126/126 [==============================] - 0s 4ms/step - loss: 0.0524 - accuracy: 0.9853 - val_loss: 0.0287 - val_accuracy: 0.9955\n",
      "\n",
      "Epoch 00109: saving model to model/keypoint_classifier\\keypoint_classifier.hdf5\n",
      "Epoch 110/1000\n",
      "126/126 [==============================] - 1s 5ms/step - loss: 0.0507 - accuracy: 0.9854 - val_loss: 0.0261 - val_accuracy: 0.9959\n",
      "\n",
      "Epoch 00110: saving model to model/keypoint_classifier\\keypoint_classifier.hdf5\n",
      "Epoch 111/1000\n",
      "126/126 [==============================] - 1s 4ms/step - loss: 0.0504 - accuracy: 0.9849 - val_loss: 0.0265 - val_accuracy: 0.9959\n",
      "\n",
      "Epoch 00111: saving model to model/keypoint_classifier\\keypoint_classifier.hdf5\n",
      "Epoch 112/1000\n",
      "126/126 [==============================] - 0s 4ms/step - loss: 0.0516 - accuracy: 0.9853 - val_loss: 0.0285 - val_accuracy: 0.9957\n",
      "\n",
      "Epoch 00112: saving model to model/keypoint_classifier\\keypoint_classifier.hdf5\n",
      "Epoch 113/1000\n",
      "126/126 [==============================] - 1s 4ms/step - loss: 0.0476 - accuracy: 0.9854 - val_loss: 0.0282 - val_accuracy: 0.9953\n",
      "\n",
      "Epoch 00113: saving model to model/keypoint_classifier\\keypoint_classifier.hdf5\n",
      "Epoch 114/1000\n",
      "126/126 [==============================] - 1s 5ms/step - loss: 0.0508 - accuracy: 0.9848 - val_loss: 0.0311 - val_accuracy: 0.9946\n",
      "\n",
      "Epoch 00114: saving model to model/keypoint_classifier\\keypoint_classifier.hdf5\n",
      "Epoch 115/1000\n",
      "126/126 [==============================] - 1s 5ms/step - loss: 0.0472 - accuracy: 0.9861 - val_loss: 0.0309 - val_accuracy: 0.9951\n",
      "\n",
      "Epoch 00115: saving model to model/keypoint_classifier\\keypoint_classifier.hdf5\n",
      "Epoch 116/1000\n",
      "126/126 [==============================] - 0s 3ms/step - loss: 0.0516 - accuracy: 0.9856 - val_loss: 0.0281 - val_accuracy: 0.9961\n",
      "\n",
      "Epoch 00116: saving model to model/keypoint_classifier\\keypoint_classifier.hdf5\n",
      "Epoch 117/1000\n",
      "126/126 [==============================] - 0s 3ms/step - loss: 0.0530 - accuracy: 0.9861 - val_loss: 0.0264 - val_accuracy: 0.9964\n",
      "\n",
      "Epoch 00117: saving model to model/keypoint_classifier\\keypoint_classifier.hdf5\n",
      "Epoch 118/1000\n",
      "126/126 [==============================] - 0s 3ms/step - loss: 0.0497 - accuracy: 0.9851 - val_loss: 0.0301 - val_accuracy: 0.9959\n",
      "\n",
      "Epoch 00118: saving model to model/keypoint_classifier\\keypoint_classifier.hdf5\n",
      "Epoch 119/1000\n",
      "126/126 [==============================] - 0s 3ms/step - loss: 0.0444 - accuracy: 0.9869 - val_loss: 0.0262 - val_accuracy: 0.9966\n",
      "\n",
      "Epoch 00119: saving model to model/keypoint_classifier\\keypoint_classifier.hdf5\n",
      "Epoch 120/1000\n",
      "126/126 [==============================] - 0s 3ms/step - loss: 0.0469 - accuracy: 0.9880 - val_loss: 0.0260 - val_accuracy: 0.9964\n",
      "\n",
      "Epoch 00120: saving model to model/keypoint_classifier\\keypoint_classifier.hdf5\n",
      "Epoch 121/1000\n",
      "126/126 [==============================] - 0s 3ms/step - loss: 0.0418 - accuracy: 0.9883 - val_loss: 0.0285 - val_accuracy: 0.9949\n",
      "\n",
      "Epoch 00121: saving model to model/keypoint_classifier\\keypoint_classifier.hdf5\n",
      "Epoch 122/1000\n",
      "126/126 [==============================] - 0s 4ms/step - loss: 0.0472 - accuracy: 0.9849 - val_loss: 0.0279 - val_accuracy: 0.9963\n",
      "\n",
      "Epoch 00122: saving model to model/keypoint_classifier\\keypoint_classifier.hdf5\n",
      "Epoch 123/1000\n",
      "126/126 [==============================] - 1s 4ms/step - loss: 0.0488 - accuracy: 0.9873 - val_loss: 0.0274 - val_accuracy: 0.9959\n",
      "\n",
      "Epoch 00123: saving model to model/keypoint_classifier\\keypoint_classifier.hdf5\n",
      "Epoch 124/1000\n",
      "126/126 [==============================] - 0s 4ms/step - loss: 0.0431 - accuracy: 0.9870 - val_loss: 0.0284 - val_accuracy: 0.9961\n",
      "\n",
      "Epoch 00124: saving model to model/keypoint_classifier\\keypoint_classifier.hdf5\n",
      "Epoch 125/1000\n",
      "126/126 [==============================] - 0s 3ms/step - loss: 0.0471 - accuracy: 0.9875 - val_loss: 0.0282 - val_accuracy: 0.9955\n",
      "\n",
      "Epoch 00125: saving model to model/keypoint_classifier\\keypoint_classifier.hdf5\n",
      "Epoch 126/1000\n",
      "126/126 [==============================] - 1s 4ms/step - loss: 0.0429 - accuracy: 0.9890 - val_loss: 0.0271 - val_accuracy: 0.9951\n",
      "\n",
      "Epoch 00126: saving model to model/keypoint_classifier\\keypoint_classifier.hdf5\n",
      "Epoch 127/1000\n",
      "126/126 [==============================] - 0s 3ms/step - loss: 0.0478 - accuracy: 0.9858 - val_loss: 0.0271 - val_accuracy: 0.9959\n",
      "\n",
      "Epoch 00127: saving model to model/keypoint_classifier\\keypoint_classifier.hdf5\n",
      "Epoch 128/1000\n",
      "126/126 [==============================] - 0s 4ms/step - loss: 0.0475 - accuracy: 0.9858 - val_loss: 0.0263 - val_accuracy: 0.9961\n",
      "\n",
      "Epoch 00128: saving model to model/keypoint_classifier\\keypoint_classifier.hdf5\n",
      "Epoch 129/1000\n",
      "126/126 [==============================] - 1s 4ms/step - loss: 0.0399 - accuracy: 0.9874 - val_loss: 0.0275 - val_accuracy: 0.9961\n",
      "\n",
      "Epoch 00129: saving model to model/keypoint_classifier\\keypoint_classifier.hdf5\n",
      "Epoch 130/1000\n",
      "126/126 [==============================] - 1s 5ms/step - loss: 0.0492 - accuracy: 0.9868 - val_loss: 0.0256 - val_accuracy: 0.9955\n",
      "\n",
      "Epoch 00130: saving model to model/keypoint_classifier\\keypoint_classifier.hdf5\n",
      "Epoch 131/1000\n",
      "126/126 [==============================] - 1s 4ms/step - loss: 0.0441 - accuracy: 0.9878 - val_loss: 0.0278 - val_accuracy: 0.9959\n",
      "\n",
      "Epoch 00131: saving model to model/keypoint_classifier\\keypoint_classifier.hdf5\n",
      "Epoch 132/1000\n",
      "126/126 [==============================] - 0s 3ms/step - loss: 0.0403 - accuracy: 0.9888 - val_loss: 0.0245 - val_accuracy: 0.9968\n",
      "\n",
      "Epoch 00132: saving model to model/keypoint_classifier\\keypoint_classifier.hdf5\n",
      "Epoch 133/1000\n",
      "126/126 [==============================] - 0s 3ms/step - loss: 0.0413 - accuracy: 0.9867 - val_loss: 0.0288 - val_accuracy: 0.9957\n",
      "\n",
      "Epoch 00133: saving model to model/keypoint_classifier\\keypoint_classifier.hdf5\n",
      "Epoch 134/1000\n",
      "126/126 [==============================] - 0s 4ms/step - loss: 0.0457 - accuracy: 0.9873 - val_loss: 0.0239 - val_accuracy: 0.9961\n",
      "\n",
      "Epoch 00134: saving model to model/keypoint_classifier\\keypoint_classifier.hdf5\n",
      "Epoch 135/1000\n",
      "126/126 [==============================] - 0s 4ms/step - loss: 0.0470 - accuracy: 0.9855 - val_loss: 0.0257 - val_accuracy: 0.9966\n",
      "\n",
      "Epoch 00135: saving model to model/keypoint_classifier\\keypoint_classifier.hdf5\n",
      "Epoch 136/1000\n",
      "126/126 [==============================] - 1s 4ms/step - loss: 0.0410 - accuracy: 0.9882 - val_loss: 0.0274 - val_accuracy: 0.9953\n",
      "\n",
      "Epoch 00136: saving model to model/keypoint_classifier\\keypoint_classifier.hdf5\n",
      "Epoch 137/1000\n",
      "126/126 [==============================] - 0s 4ms/step - loss: 0.0391 - accuracy: 0.9885 - val_loss: 0.0274 - val_accuracy: 0.9963\n",
      "\n",
      "Epoch 00137: saving model to model/keypoint_classifier\\keypoint_classifier.hdf5\n",
      "Epoch 138/1000\n",
      "126/126 [==============================] - 0s 3ms/step - loss: 0.0474 - accuracy: 0.9851 - val_loss: 0.0270 - val_accuracy: 0.9961\n",
      "\n",
      "Epoch 00138: saving model to model/keypoint_classifier\\keypoint_classifier.hdf5\n",
      "Epoch 139/1000\n",
      "126/126 [==============================] - 1s 6ms/step - loss: 0.0432 - accuracy: 0.9871 - val_loss: 0.0289 - val_accuracy: 0.9953\n",
      "\n",
      "Epoch 00139: saving model to model/keypoint_classifier\\keypoint_classifier.hdf5\n",
      "Epoch 140/1000\n",
      "126/126 [==============================] - 1s 4ms/step - loss: 0.0388 - accuracy: 0.9892 - val_loss: 0.0247 - val_accuracy: 0.9964\n",
      "\n",
      "Epoch 00140: saving model to model/keypoint_classifier\\keypoint_classifier.hdf5\n",
      "Epoch 141/1000\n",
      "126/126 [==============================] - 1s 4ms/step - loss: 0.0427 - accuracy: 0.9877 - val_loss: 0.0265 - val_accuracy: 0.9968\n",
      "\n",
      "Epoch 00141: saving model to model/keypoint_classifier\\keypoint_classifier.hdf5\n",
      "Epoch 142/1000\n",
      "126/126 [==============================] - 1s 5ms/step - loss: 0.0412 - accuracy: 0.9867 - val_loss: 0.0259 - val_accuracy: 0.9970\n",
      "\n",
      "Epoch 00142: saving model to model/keypoint_classifier\\keypoint_classifier.hdf5\n",
      "Epoch 143/1000\n",
      "126/126 [==============================] - 0s 4ms/step - loss: 0.0361 - accuracy: 0.9910 - val_loss: 0.0261 - val_accuracy: 0.9957\n",
      "\n",
      "Epoch 00143: saving model to model/keypoint_classifier\\keypoint_classifier.hdf5\n",
      "Epoch 144/1000\n",
      "126/126 [==============================] - 0s 4ms/step - loss: 0.0422 - accuracy: 0.9883 - val_loss: 0.0269 - val_accuracy: 0.9961\n",
      "\n",
      "Epoch 00144: saving model to model/keypoint_classifier\\keypoint_classifier.hdf5\n",
      "Epoch 145/1000\n"
     ]
    },
    {
     "name": "stdout",
     "output_type": "stream",
     "text": [
      "126/126 [==============================] - 0s 4ms/step - loss: 0.0421 - accuracy: 0.9888 - val_loss: 0.0281 - val_accuracy: 0.9961\n",
      "\n",
      "Epoch 00145: saving model to model/keypoint_classifier\\keypoint_classifier.hdf5\n",
      "Epoch 146/1000\n",
      "126/126 [==============================] - 0s 4ms/step - loss: 0.0391 - accuracy: 0.9895 - val_loss: 0.0258 - val_accuracy: 0.9963\n",
      "\n",
      "Epoch 00146: saving model to model/keypoint_classifier\\keypoint_classifier.hdf5\n",
      "Epoch 147/1000\n",
      "126/126 [==============================] - 0s 3ms/step - loss: 0.0388 - accuracy: 0.9877 - val_loss: 0.0259 - val_accuracy: 0.9970\n",
      "\n",
      "Epoch 00147: saving model to model/keypoint_classifier\\keypoint_classifier.hdf5\n",
      "Epoch 148/1000\n",
      "126/126 [==============================] - 0s 3ms/step - loss: 0.0441 - accuracy: 0.9875 - val_loss: 0.0256 - val_accuracy: 0.9961\n",
      "\n",
      "Epoch 00148: saving model to model/keypoint_classifier\\keypoint_classifier.hdf5\n",
      "Epoch 149/1000\n",
      "126/126 [==============================] - 0s 3ms/step - loss: 0.0410 - accuracy: 0.9885 - val_loss: 0.0278 - val_accuracy: 0.9964\n",
      "\n",
      "Epoch 00149: saving model to model/keypoint_classifier\\keypoint_classifier.hdf5\n",
      "Epoch 150/1000\n",
      "126/126 [==============================] - 0s 3ms/step - loss: 0.0353 - accuracy: 0.9897 - val_loss: 0.0252 - val_accuracy: 0.9972\n",
      "\n",
      "Epoch 00150: saving model to model/keypoint_classifier\\keypoint_classifier.hdf5\n",
      "Epoch 151/1000\n",
      "126/126 [==============================] - 0s 3ms/step - loss: 0.0353 - accuracy: 0.9899 - val_loss: 0.0267 - val_accuracy: 0.9966\n",
      "\n",
      "Epoch 00151: saving model to model/keypoint_classifier\\keypoint_classifier.hdf5\n",
      "Epoch 152/1000\n",
      "126/126 [==============================] - 0s 3ms/step - loss: 0.0455 - accuracy: 0.9868 - val_loss: 0.0256 - val_accuracy: 0.9966\n",
      "\n",
      "Epoch 00152: saving model to model/keypoint_classifier\\keypoint_classifier.hdf5\n",
      "Epoch 153/1000\n",
      "126/126 [==============================] - 0s 3ms/step - loss: 0.0376 - accuracy: 0.9895 - val_loss: 0.0271 - val_accuracy: 0.9966\n",
      "\n",
      "Epoch 00153: saving model to model/keypoint_classifier\\keypoint_classifier.hdf5\n",
      "Epoch 154/1000\n",
      "126/126 [==============================] - 0s 3ms/step - loss: 0.0427 - accuracy: 0.9877 - val_loss: 0.0281 - val_accuracy: 0.9964\n",
      "\n",
      "Epoch 00154: saving model to model/keypoint_classifier\\keypoint_classifier.hdf5\n",
      "Epoch 00154: early stopping\n"
     ]
    }
   ],
   "source": [
    "hist = model.fit(\n",
    "    X_train,\n",
    "    y_train,\n",
    "    epochs=1000,\n",
    "    batch_size=128,\n",
    "    validation_data=(X_test, y_test),\n",
    "    callbacks=[cp_callback, es_callback]\n",
    ")"
   ]
  },
  {
   "cell_type": "code",
   "execution_count": 15,
   "metadata": {
    "colab": {
     "base_uri": "https://localhost:8080/"
    },
    "id": "pxvb2Y299hE3",
    "outputId": "59eb3185-2e37-4b9e-bc9d-ab1b8ac29b7f"
   },
   "outputs": [
    {
     "name": "stdout",
     "output_type": "stream",
     "text": [
      "42/42 [==============================] - 0s 1ms/step - loss: 0.0281 - accuracy: 0.9964\n"
     ]
    }
   ],
   "source": [
    "# Model evaluation\n",
    "val_loss, val_acc = model.evaluate(X_test, y_test, batch_size=128)"
   ]
  },
  {
   "cell_type": "code",
   "execution_count": 16,
   "metadata": {},
   "outputs": [
    {
     "data": {
      "text/plain": [
       "0.9964392781257629"
      ]
     },
     "execution_count": 16,
     "metadata": {},
     "output_type": "execute_result"
    }
   ],
   "source": [
    "val_acc"
   ]
  },
  {
   "cell_type": "code",
   "execution_count": 17,
   "metadata": {
    "id": "RBkmDeUW9hE4"
   },
   "outputs": [],
   "source": [
    "# Loading the saved model\n",
    "model = tf.keras.models.load_model(model_save_path)"
   ]
  },
  {
   "cell_type": "code",
   "execution_count": 18,
   "metadata": {
    "colab": {
     "base_uri": "https://localhost:8080/"
    },
    "id": "tFz9Tb0I9hE4",
    "outputId": "1c3b3528-54ae-4ee2-ab04-77429211cbef",
    "scrolled": false
   },
   "outputs": [
    {
     "name": "stdout",
     "output_type": "stream",
     "text": [
      "[8.5070987e-12 5.6568688e-25 5.4729785e-19 5.3591309e-16 1.8849300e-17\n",
      " 8.6023099e-15 3.8198474e-21 8.6052132e-19 2.8503982e-07 9.9999976e-01\n",
      " 6.4208578e-12 8.4395261e-16 4.6418772e-13 4.2208825e-15 1.3326270e-09\n",
      " 7.8404918e-18 4.2345845e-18 1.5988202e-20 9.4844311e-17 4.9877677e-08\n",
      " 0.0000000e+00 4.0458880e-15 1.6340288e-26 2.3088017e-19 7.0924477e-10]\n",
      "9\n"
     ]
    }
   ],
   "source": [
    "# Inference test\n",
    "predict_result = model.predict(np.array([X_test[0]]))\n",
    "print(np.squeeze(predict_result))\n",
    "print(np.argmax(np.squeeze(predict_result)))"
   ]
  },
  {
   "cell_type": "markdown",
   "metadata": {},
   "source": [
    "# Plot the results"
   ]
  },
  {
   "cell_type": "code",
   "execution_count": 31,
   "metadata": {},
   "outputs": [],
   "source": [
    "train_loss=hist.history['loss']\n",
    "val_loss=hist.history['val_loss']\n",
    "train_acc=hist.history['accuracy']\n",
    "val_acc=hist.history['val_accuracy']\n",
    "xc=range(154)\n"
   ]
  },
  {
   "cell_type": "code",
   "execution_count": 32,
   "metadata": {},
   "outputs": [
    {
     "data": {
      "text/plain": [
       "154"
      ]
     },
     "execution_count": 32,
     "metadata": {},
     "output_type": "execute_result"
    }
   ],
   "source": [
    "len(val_loss)"
   ]
  },
  {
   "cell_type": "code",
   "execution_count": 33,
   "metadata": {},
   "outputs": [],
   "source": [
    "import matplotlib.pyplot as plt"
   ]
  },
  {
   "cell_type": "code",
   "execution_count": 34,
   "metadata": {},
   "outputs": [
    {
     "data": {
      "image/png": "[encoded data removed]",
      "text/plain": [
       "<Figure size 504x360 with 1 Axes>"
      ]
     },
     "metadata": {
      "needs_background": "light"
     },
     "output_type": "display_data"
    }
   ],
   "source": [
    "plt.figure(1,figsize=(7,5))\n",
    "plt.plot(xc,train_loss)\n",
    "plt.plot(xc,val_loss)\n",
    "plt.xlabel('num of Epochs')\n",
    "plt.ylabel('loss')\n",
    "plt.title('Training and validation loss')\n",
    "plt.grid(True)\n",
    "plt.legend(['train','val'])\n",
    "plt.style.use(['classic'])"
   ]
  },
  {
   "cell_type": "code",
   "execution_count": 36,
   "metadata": {},
   "outputs": [
    {
     "data": {
      "image/png": "[encoded data removed]",
      "text/plain": [
       "<Figure size 560x400 with 1 Axes>"
      ]
     },
     "metadata": {},
     "output_type": "display_data"
    }
   ],
   "source": [
    "plt.figure(2,figsize=(7,5))\n",
    "plt.plot(xc,train_acc)\n",
    "plt.plot(xc,val_acc)\n",
    "plt.xlabel('num of Epochs')\n",
    "plt.ylabel('accuracy')\n",
    "plt.title('Training and validation acurracy')\n",
    "plt.grid(True)\n",
    "plt.legend(['train','val'],loc=4)\n",
    "#print plt.style.available # use bmh, classic,ggplot for big pictures\n",
    "plt.style.use(['classic'])"
   ]
  },
  {
   "cell_type": "markdown",
   "metadata": {
    "id": "S3U4yNWx9hE4"
   },
   "source": [
    "# Confusion matrix"
   ]
  },
  {
   "cell_type": "code",
   "execution_count": 37,
   "metadata": {
    "colab": {
     "base_uri": "https://localhost:8080/",
     "height": 582
    },
    "id": "AP1V6SCk9hE5",
    "outputId": "08e41a80-7a4a-4619-8125-ecc371368d19",
    "tags": []
   },
   "outputs": [
    {
     "data": {
      "image/png": "[encoded data removed]",
      "text/plain": [
       "<Figure size 560x480 with 2 Axes>"
      ]
     },
     "metadata": {},
     "output_type": "display_data"
    },
    {
     "name": "stdout",
     "output_type": "stream",
     "text": [
      "Classification Report\n",
      "              precision    recall  f1-score   support\n",
      "\n",
      "           0       1.00      0.99      1.00       181\n",
      "           1       1.00      1.00      1.00       221\n",
      "           2       1.00      1.00      1.00       209\n",
      "           3       1.00      0.99      1.00       217\n",
      "           4       1.00      1.00      1.00       215\n",
      "           5       0.98      1.00      0.99       198\n",
      "           6       0.99      1.00      1.00       193\n",
      "           7       0.98      1.00      0.99       235\n",
      "           8       1.00      1.00      1.00       209\n",
      "           9       1.00      1.00      1.00       273\n",
      "          10       1.00      0.98      0.99       200\n",
      "          11       0.99      1.00      0.99       272\n",
      "          12       1.00      1.00      1.00       229\n",
      "          13       0.99      1.00      1.00       214\n",
      "          14       1.00      1.00      1.00       203\n",
      "          15       0.99      1.00      1.00       217\n",
      "          16       1.00      0.99      1.00       203\n",
      "          17       1.00      1.00      1.00       220\n",
      "          18       1.00      1.00      1.00       206\n",
      "          19       1.00      0.96      0.98       225\n",
      "          20       1.00      1.00      1.00       214\n",
      "          21       1.00      1.00      1.00       193\n",
      "          22       1.00      1.00      1.00       199\n",
      "          23       1.00      1.00      1.00       187\n",
      "          24       1.00      1.00      1.00       203\n",
      "\n",
      "    accuracy                           1.00      5336\n",
      "   macro avg       1.00      1.00      1.00      5336\n",
      "weighted avg       1.00      1.00      1.00      5336\n",
      "\n"
     ]
    }
   ],
   "source": [
    "import pandas as pd\n",
    "import seaborn as sns\n",
    "import matplotlib.pyplot as plt\n",
    "from sklearn.metrics import confusion_matrix, classification_report\n",
    "\n",
    "def print_confusion_matrix(y_true, y_pred, report=True):\n",
    "    labels = sorted(list(set(y_true)))\n",
    "    cmx_data = confusion_matrix(y_true, y_pred, labels=labels)\n",
    "    \n",
    "    df_cmx = pd.DataFrame(cmx_data, index=labels, columns=labels)\n",
    " \n",
    "    fig, ax = plt.subplots(figsize=(7, 6))\n",
    "    sns.heatmap(df_cmx, annot=True, fmt='g' ,square=False)\n",
    "    ax.set_ylim(len(set(y_true)), 0)\n",
    "    plt.show()\n",
    "    \n",
    "    if report:\n",
    "        print('Classification Report')\n",
    "        print(classification_report(y_test, y_pred))\n",
    "\n",
    "Y_pred = model.predict(X_test)\n",
    "y_pred = np.argmax(Y_pred, axis=1)\n",
    "\n",
    "print_confusion_matrix(y_test, y_pred)"
   ]
  },
  {
   "cell_type": "markdown",
   "metadata": {
    "id": "FNP6aqzc9hE5"
   },
   "source": [
    "# Convert to model for Tensorflow-Lite"
   ]
  },
  {
   "cell_type": "code",
   "execution_count": 38,
   "metadata": {
    "id": "ODjnYyld9hE6"
   },
   "outputs": [],
   "source": [
    "# Save as a model dedicated to inference\n",
    "model.save(model_save_path, include_optimizer=False)"
   ]
  },
  {
   "cell_type": "code",
   "execution_count": 39,
   "metadata": {
    "colab": {
     "base_uri": "https://localhost:8080/"
    },
    "id": "zRfuK8Y59hE6",
    "outputId": "a4ca585c-b5d5-4244-8291-8674063209bb"
   },
   "outputs": [
    {
     "name": "stdout",
     "output_type": "stream",
     "text": [
      "INFO:tensorflow:Assets written to: C:\\Users\\Lucas\\AppData\\Local\\Temp\\tmp6j4_5kwk\\assets\n"
     ]
    },
    {
     "data": {
      "text/plain": [
       "9456"
      ]
     },
     "execution_count": 39,
     "metadata": {},
     "output_type": "execute_result"
    }
   ],
   "source": [
    "# Transform model (quantization)\n",
    "\n",
    "converter = tf.lite.TFLiteConverter.from_keras_model(model)\n",
    "converter.optimizations = [tf.lite.Optimize.DEFAULT]\n",
    "tflite_quantized_model = converter.convert()\n",
    "\n",
    "open(tflite_save_path, 'wb').write(tflite_quantized_model)"
   ]
  },
  {
   "cell_type": "markdown",
   "metadata": {
    "id": "CHBPBXdx9hE6"
   },
   "source": [
    "# Inference test"
   ]
  },
  {
   "cell_type": "code",
   "execution_count": 40,
   "metadata": {
    "id": "mGAzLocO9hE7"
   },
   "outputs": [],
   "source": [
    "interpreter = tf.lite.Interpreter(model_path=tflite_save_path)\n",
    "interpreter.allocate_tensors()"
   ]
  },
  {
   "cell_type": "code",
   "execution_count": 41,
   "metadata": {
    "id": "oQuDK8YS9hE7"
   },
   "outputs": [],
   "source": [
    "# Get I / O tensor\n",
    "input_details = interpreter.get_input_details()\n",
    "output_details = interpreter.get_output_details()"
   ]
  },
  {
   "cell_type": "code",
   "execution_count": 42,
   "metadata": {
    "id": "2_ixAf_l9hE7"
   },
   "outputs": [],
   "source": [
    "interpreter.set_tensor(input_details[0]['index'], np.array([X_test[0]]))"
   ]
  },
  {
   "cell_type": "code",
   "execution_count": 43,
   "metadata": {
    "colab": {
     "base_uri": "https://localhost:8080/"
    },
    "id": "s4FoAnuc9hE7",
    "outputId": "91f18257-8d8b-4ef3-c558-e9b5f94fabbf",
    "scrolled": true
   },
   "outputs": [
    {
     "name": "stdout",
     "output_type": "stream",
     "text": [
      "Wall time: 0 ns\n"
     ]
    }
   ],
   "source": [
    "%%time\n",
    "# Inference implementation\n",
    "interpreter.invoke()\n",
    "tflite_results = interpreter.get_tensor(output_details[0]['index'])"
   ]
  },
  {
   "cell_type": "code",
   "execution_count": 44,
   "metadata": {
    "colab": {
     "base_uri": "https://localhost:8080/"
    },
    "id": "vONjp19J9hE8",
    "outputId": "77205e24-fd00-42c4-f7b6-e06e527c2cba"
   },
   "outputs": [
    {
     "name": "stdout",
     "output_type": "stream",
     "text": [
      "[7.4684824e-12 6.8355473e-25 5.8733287e-19 4.6314697e-16 1.5821862e-17\n",
      " 1.0109082e-14 3.3421041e-21 4.9213534e-19 3.3900548e-07 9.9999964e-01\n",
      " 4.5386936e-12 9.8125665e-16 4.3701815e-13 5.7923056e-15 1.1679804e-09\n",
      " 7.9475116e-18 5.3055865e-18 1.1250177e-20 7.1677768e-17 4.9045045e-08\n",
      " 0.0000000e+00 3.2553426e-15 1.1380628e-26 1.6260816e-19 7.2240197e-10]\n",
      "9\n"
     ]
    }
   ],
   "source": [
    "print(np.squeeze(tflite_results))\n",
    "print(np.argmax(np.squeeze(tflite_results)))"
   ]
  },
  {
   "cell_type": "code",
   "execution_count": null,
   "metadata": {},
   "outputs": [],
   "source": []
  },
  {
   "cell_type": "code",
   "execution_count": null,
   "metadata": {},
   "outputs": [],
   "source": []
  }
 ],
 "metadata": {
  "accelerator": "GPU",
  "colab": {
   "collapsed_sections": [],
   "name": "keypoint_classification_EN.ipynb",
   "provenance": [],
   "toc_visible": true
  },
  "kernelspec": {
   "display_name": "Python 3 (ipykernel)",
   "language": "python",
   "name": "python3"
  },
  "language_info": {
   "codemirror_mode": {
    "name": "ipython",
    "version": 3
   },
   "file_extension": ".py",
   "mimetype": "text/x-python",
   "name": "python",
   "nbconvert_exporter": "python",
   "pygments_lexer": "ipython3",
   "version": "3.7.11"
  }
 },
 "nbformat": 4,
 "nbformat_minor": 4
}
