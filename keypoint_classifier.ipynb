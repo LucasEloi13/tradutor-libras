{
 "cells": [
  {
   "cell_type": "code",
   "execution_count": 1,
   "metadata": {
    "id": "igMyGnjE9hEp"
   },
   "outputs": [],
   "source": [
    "import csv\n",
    "\n",
    "import numpy as np\n",
    "import tensorflow as tf\n",
    "from sklearn.model_selection import train_test_split\n",
    "\n",
    "RANDOM_SEED = 42"
   ]
  },
  {
   "cell_type": "markdown",
   "metadata": {
    "id": "t2HDvhIu9hEr",
    "tags": []
   },
   "source": [
    "# Specify each path"
   ]
  },
  {
   "cell_type": "code",
   "execution_count": 2,
   "metadata": {
    "id": "9NvZP2Zn9hEy"
   },
   "outputs": [],
   "source": [
    "dataset = 'model/keypoint_classifier/keypoint.csv'\n",
    "model_save_path = 'model/keypoint_classifier/keypoint_classifier.hdf5'\n",
    "tflite_save_path = 'model/keypoint_classifier/keypoint_classifier.tflite'"
   ]
  },
  {
   "cell_type": "markdown",
   "metadata": {
    "id": "s5oMH7x19hEz"
   },
   "source": [
    "# Set number of classes"
   ]
  },
  {
   "cell_type": "code",
   "execution_count": 46,
   "metadata": {
    "id": "du4kodXL9hEz"
   },
   "outputs": [],
   "source": [
    "NUM_CLASSES = 25"
   ]
  },
  {
   "cell_type": "markdown",
   "metadata": {
    "id": "XjnL0uso9hEz"
   },
   "source": [
    "# Dataset reading"
   ]
  },
  {
   "cell_type": "code",
   "execution_count": 4,
   "metadata": {
    "id": "QT5ZqtEz9hE0"
   },
   "outputs": [],
   "source": [
    "X_dataset = np.loadtxt(dataset, delimiter=',', dtype='float32', usecols=list(range(1, (21 * 2) + 1)))"
   ]
  },
  {
   "cell_type": "code",
   "execution_count": 5,
   "metadata": {
    "id": "QmoKFsp49hE0"
   },
   "outputs": [],
   "source": [
    "y_dataset = np.loadtxt(dataset, delimiter=',', dtype='int32', usecols=(0))"
   ]
  },
  {
   "cell_type": "code",
   "execution_count": 6,
   "metadata": {
    "id": "xQU7JTZ_9hE0"
   },
   "outputs": [],
   "source": [
    "X_train, X_test, y_train, y_test = train_test_split(X_dataset, y_dataset, train_size=0.75, random_state=RANDOM_SEED)"
   ]
  },
  {
   "cell_type": "markdown",
   "metadata": {
    "id": "mxK_lETT9hE0"
   },
   "source": [
    "# Model building"
   ]
  },
  {
   "cell_type": "code",
   "execution_count": 47,
   "metadata": {
    "id": "vHBmUf1t9hE1"
   },
   "outputs": [],
   "source": [
    "model = tf.keras.models.Sequential([\n",
    "    tf.keras.layers.Input((21 * 2, )),\n",
    "    tf.keras.layers.Dropout(0.1),\n",
    "    tf.keras.layers.Dense(40, activation='relu'),\n",
    "    tf.keras.layers.Dropout(0.2),\n",
    "    tf.keras.layers.Dense(20, activation='relu'),\n",
    "    tf.keras.layers.Dropout(0.4),\n",
    "    tf.keras.layers.Dense(10, activation='relu'),\n",
    "    tf.keras.layers.Dense(NUM_CLASSES, activation='softmax')\n",
    "])"
   ]
  },
  {
   "cell_type": "code",
   "execution_count": 23,
   "metadata": {
    "colab": {
     "base_uri": "https://localhost:8080/"
    },
    "id": "ypqky9tc9hE1",
    "outputId": "5db082bb-30e3-4110-bf63-a1ee777ecd46"
   },
   "outputs": [
    {
     "name": "stdout",
     "output_type": "stream",
     "text": [
      "Model: \"sequential_3\"\n",
      "_________________________________________________________________\n",
      "Layer (type)                 Output Shape              Param #   \n",
      "=================================================================\n",
      "dropout_9 (Dropout)          (None, 42)                0         \n",
      "_________________________________________________________________\n",
      "dense_12 (Dense)             (None, 40)                1720      \n",
      "_________________________________________________________________\n",
      "dropout_10 (Dropout)         (None, 40)                0         \n",
      "_________________________________________________________________\n",
      "dense_13 (Dense)             (None, 40)                1640      \n",
      "_________________________________________________________________\n",
      "dropout_11 (Dropout)         (None, 40)                0         \n",
      "_________________________________________________________________\n",
      "dense_14 (Dense)             (None, 20)                820       \n",
      "_________________________________________________________________\n",
      "dropout_12 (Dropout)         (None, 20)                0         \n",
      "_________________________________________________________________\n",
      "dense_15 (Dense)             (None, 10)                210       \n",
      "_________________________________________________________________\n",
      "dense_16 (Dense)             (None, 24)                264       \n",
      "=================================================================\n",
      "Total params: 4,654\n",
      "Trainable params: 4,654\n",
      "Non-trainable params: 0\n",
      "_________________________________________________________________\n"
     ]
    }
   ],
   "source": [
    "model.summary()  # tf.keras.utils.plot_model(model, show_shapes=True)"
   ]
  },
  {
   "cell_type": "code",
   "execution_count": 48,
   "metadata": {
    "id": "MbMjOflQ9hE1"
   },
   "outputs": [],
   "source": [
    "# Model checkpoint callback\n",
    "cp_callback = tf.keras.callbacks.ModelCheckpoint(\n",
    "    model_save_path, verbose=1, save_weights_only=False)\n",
    "# Callback for early stopping\n",
    "es_callback = tf.keras.callbacks.EarlyStopping(patience=20, verbose=1)"
   ]
  },
  {
   "cell_type": "code",
   "execution_count": 49,
   "metadata": {
    "id": "c3Dac0M_9hE2"
   },
   "outputs": [],
   "source": [
    "# Model compilation\n",
    "model.compile(\n",
    "    optimizer='adam',\n",
    "    loss='sparse_categorical_crossentropy',\n",
    "    metrics=['accuracy']\n",
    ")"
   ]
  },
  {
   "cell_type": "markdown",
   "metadata": {
    "id": "7XI0j1Iu9hE2"
   },
   "source": [
    "# Model training"
   ]
  },
  {
   "cell_type": "code",
   "execution_count": 50,
   "metadata": {
    "colab": {
     "base_uri": "https://localhost:8080/"
    },
    "id": "WirBl-JE9hE3",
    "outputId": "71b30ca2-8294-4d9d-8aa2-800d90d399de",
    "scrolled": true
   },
   "outputs": [
    {
     "name": "stdout",
     "output_type": "stream",
     "text": [
      "Epoch 1/1000\n",
      "126/126 [==============================] - 1s 3ms/step - loss: 3.1250 - accuracy: 0.0705 - val_loss: 2.8294 - val_accuracy: 0.1271\n",
      "\n",
      "Epoch 00001: saving model to model/keypoint_classifier\\keypoint_classifier.hdf5\n",
      "Epoch 2/1000\n",
      "126/126 [==============================] - 0s 1ms/step - loss: 2.8091 - accuracy: 0.1217 - val_loss: 2.4459 - val_accuracy: 0.2528\n",
      "\n",
      "Epoch 00002: saving model to model/keypoint_classifier\\keypoint_classifier.hdf5\n",
      "Epoch 3/1000\n",
      "126/126 [==============================] - 0s 1ms/step - loss: 2.4839 - accuracy: 0.2005 - val_loss: 2.0092 - val_accuracy: 0.3437\n",
      "\n",
      "Epoch 00003: saving model to model/keypoint_classifier\\keypoint_classifier.hdf5\n",
      "Epoch 4/1000\n",
      "126/126 [==============================] - 0s 1ms/step - loss: 2.1677 - accuracy: 0.2688 - val_loss: 1.7088 - val_accuracy: 0.4374\n",
      "\n",
      "Epoch 00004: saving model to model/keypoint_classifier\\keypoint_classifier.hdf5\n",
      "Epoch 5/1000\n",
      "126/126 [==============================] - 0s 1ms/step - loss: 1.9909 - accuracy: 0.3071 - val_loss: 1.5101 - val_accuracy: 0.5542\n",
      "\n",
      "Epoch 00005: saving model to model/keypoint_classifier\\keypoint_classifier.hdf5\n",
      "Epoch 6/1000\n",
      "126/126 [==============================] - 0s 1ms/step - loss: 1.8730 - accuracy: 0.3386 - val_loss: 1.3969 - val_accuracy: 0.6507\n",
      "\n",
      "Epoch 00006: saving model to model/keypoint_classifier\\keypoint_classifier.hdf5\n",
      "Epoch 7/1000\n",
      "126/126 [==============================] - 0s 1ms/step - loss: 1.7514 - accuracy: 0.3715 - val_loss: 1.2733 - val_accuracy: 0.6347\n",
      "\n",
      "Epoch 00007: saving model to model/keypoint_classifier\\keypoint_classifier.hdf5\n",
      "Epoch 8/1000\n",
      "126/126 [==============================] - 0s 1ms/step - loss: 1.6858 - accuracy: 0.3852 - val_loss: 1.1949 - val_accuracy: 0.6972\n",
      "\n",
      "Epoch 00008: saving model to model/keypoint_classifier\\keypoint_classifier.hdf5\n",
      "Epoch 9/1000\n",
      "126/126 [==============================] - 0s 1ms/step - loss: 1.6197 - accuracy: 0.4033 - val_loss: 1.1309 - val_accuracy: 0.7048\n",
      "\n",
      "Epoch 00009: saving model to model/keypoint_classifier\\keypoint_classifier.hdf5\n",
      "Epoch 10/1000\n",
      "126/126 [==============================] - 0s 1ms/step - loss: 1.5668 - accuracy: 0.4265 - val_loss: 1.0973 - val_accuracy: 0.6792\n",
      "\n",
      "Epoch 00010: saving model to model/keypoint_classifier\\keypoint_classifier.hdf5\n",
      "Epoch 11/1000\n",
      "126/126 [==============================] - 0s 1ms/step - loss: 1.5224 - accuracy: 0.4383 - val_loss: 1.0404 - val_accuracy: 0.7448\n",
      "\n",
      "Epoch 00011: saving model to model/keypoint_classifier\\keypoint_classifier.hdf5\n",
      "Epoch 12/1000\n",
      "126/126 [==============================] - 0s 1ms/step - loss: 1.4921 - accuracy: 0.4470 - val_loss: 1.0206 - val_accuracy: 0.7339\n",
      "\n",
      "Epoch 00012: saving model to model/keypoint_classifier\\keypoint_classifier.hdf5\n",
      "Epoch 13/1000\n",
      "126/126 [==============================] - 0s 1ms/step - loss: 1.4547 - accuracy: 0.4561 - val_loss: 0.9871 - val_accuracy: 0.7637\n",
      "\n",
      "Epoch 00013: saving model to model/keypoint_classifier\\keypoint_classifier.hdf5\n",
      "Epoch 14/1000\n",
      "126/126 [==============================] - 0s 1ms/step - loss: 1.4293 - accuracy: 0.4688 - val_loss: 0.9547 - val_accuracy: 0.7569\n",
      "\n",
      "Epoch 00014: saving model to model/keypoint_classifier\\keypoint_classifier.hdf5\n",
      "Epoch 15/1000\n",
      "126/126 [==============================] - 0s 1ms/step - loss: 1.4219 - accuracy: 0.4681 - val_loss: 0.9425 - val_accuracy: 0.7245\n",
      "\n",
      "Epoch 00015: saving model to model/keypoint_classifier\\keypoint_classifier.hdf5\n",
      "Epoch 16/1000\n",
      "126/126 [==============================] - 0s 1ms/step - loss: 1.3939 - accuracy: 0.4743 - val_loss: 0.9145 - val_accuracy: 0.7245\n",
      "\n",
      "Epoch 00016: saving model to model/keypoint_classifier\\keypoint_classifier.hdf5\n",
      "Epoch 17/1000\n",
      "126/126 [==============================] - 0s 1ms/step - loss: 1.3596 - accuracy: 0.4975 - val_loss: 0.8949 - val_accuracy: 0.7684\n",
      "\n",
      "Epoch 00017: saving model to model/keypoint_classifier\\keypoint_classifier.hdf5\n",
      "Epoch 18/1000\n",
      "126/126 [==============================] - 0s 1ms/step - loss: 1.3460 - accuracy: 0.4934 - val_loss: 0.8678 - val_accuracy: 0.7399\n",
      "\n",
      "Epoch 00018: saving model to model/keypoint_classifier\\keypoint_classifier.hdf5\n",
      "Epoch 19/1000\n",
      "126/126 [==============================] - 0s 1ms/step - loss: 1.3159 - accuracy: 0.5034 - val_loss: 0.8459 - val_accuracy: 0.7607\n",
      "\n",
      "Epoch 00019: saving model to model/keypoint_classifier\\keypoint_classifier.hdf5\n",
      "Epoch 20/1000\n",
      "126/126 [==============================] - 0s 1ms/step - loss: 1.3056 - accuracy: 0.5123 - val_loss: 0.8304 - val_accuracy: 0.7933\n",
      "\n",
      "Epoch 00020: saving model to model/keypoint_classifier\\keypoint_classifier.hdf5\n",
      "Epoch 21/1000\n",
      "126/126 [==============================] - 0s 1ms/step - loss: 1.2820 - accuracy: 0.5248 - val_loss: 0.8020 - val_accuracy: 0.7671\n",
      "\n",
      "Epoch 00021: saving model to model/keypoint_classifier\\keypoint_classifier.hdf5\n",
      "Epoch 22/1000\n",
      "126/126 [==============================] - 0s 1ms/step - loss: 1.2735 - accuracy: 0.5277 - val_loss: 0.7819 - val_accuracy: 0.7837\n",
      "\n",
      "Epoch 00022: saving model to model/keypoint_classifier\\keypoint_classifier.hdf5\n",
      "Epoch 23/1000\n",
      "126/126 [==============================] - 0s 1ms/step - loss: 1.2345 - accuracy: 0.5391 - val_loss: 0.7676 - val_accuracy: 0.7999\n",
      "\n",
      "Epoch 00023: saving model to model/keypoint_classifier\\keypoint_classifier.hdf5\n",
      "Epoch 24/1000\n",
      "126/126 [==============================] - 0s 1ms/step - loss: 1.2074 - accuracy: 0.5518 - val_loss: 0.7529 - val_accuracy: 0.8152\n",
      "\n",
      "Epoch 00024: saving model to model/keypoint_classifier\\keypoint_classifier.hdf5\n",
      "Epoch 25/1000\n",
      "126/126 [==============================] - 0s 1ms/step - loss: 1.2102 - accuracy: 0.5503 - val_loss: 0.7418 - val_accuracy: 0.8058\n",
      "\n",
      "Epoch 00025: saving model to model/keypoint_classifier\\keypoint_classifier.hdf5\n",
      "Epoch 26/1000\n",
      "126/126 [==============================] - 0s 1ms/step - loss: 1.1674 - accuracy: 0.5551 - val_loss: 0.7151 - val_accuracy: 0.8021\n",
      "\n",
      "Epoch 00026: saving model to model/keypoint_classifier\\keypoint_classifier.hdf5\n",
      "Epoch 27/1000\n",
      "126/126 [==============================] - 0s 1ms/step - loss: 1.1551 - accuracy: 0.5784 - val_loss: 0.6932 - val_accuracy: 0.8401\n",
      "\n",
      "Epoch 00027: saving model to model/keypoint_classifier\\keypoint_classifier.hdf5\n",
      "Epoch 28/1000\n",
      "126/126 [==============================] - 0s 1ms/step - loss: 1.1530 - accuracy: 0.5654 - val_loss: 0.6830 - val_accuracy: 0.8328\n",
      "\n",
      "Epoch 00028: saving model to model/keypoint_classifier\\keypoint_classifier.hdf5\n",
      "Epoch 29/1000\n",
      "126/126 [==============================] - 0s 1ms/step - loss: 1.1332 - accuracy: 0.5746 - val_loss: 0.6629 - val_accuracy: 0.8360\n",
      "\n",
      "Epoch 00029: saving model to model/keypoint_classifier\\keypoint_classifier.hdf5\n",
      "Epoch 30/1000\n",
      "126/126 [==============================] - 0s 1ms/step - loss: 1.0949 - accuracy: 0.5874 - val_loss: 0.6480 - val_accuracy: 0.8222\n",
      "\n",
      "Epoch 00030: saving model to model/keypoint_classifier\\keypoint_classifier.hdf5\n",
      "Epoch 31/1000\n",
      "126/126 [==============================] - 0s 1ms/step - loss: 1.1099 - accuracy: 0.5809 - val_loss: 0.6474 - val_accuracy: 0.8094\n",
      "\n",
      "Epoch 00031: saving model to model/keypoint_classifier\\keypoint_classifier.hdf5\n",
      "Epoch 32/1000\n",
      "126/126 [==============================] - 0s 1ms/step - loss: 1.1017 - accuracy: 0.5959 - val_loss: 0.6044 - val_accuracy: 0.8639\n",
      "\n",
      "Epoch 00032: saving model to model/keypoint_classifier\\keypoint_classifier.hdf5\n",
      "Epoch 33/1000\n",
      "126/126 [==============================] - 0s 1ms/step - loss: 1.0828 - accuracy: 0.5996 - val_loss: 0.6030 - val_accuracy: 0.8518\n",
      "\n",
      "Epoch 00033: saving model to model/keypoint_classifier\\keypoint_classifier.hdf5\n",
      "Epoch 34/1000\n",
      "126/126 [==============================] - 0s 1ms/step - loss: 1.0774 - accuracy: 0.6016 - val_loss: 0.6009 - val_accuracy: 0.8413\n",
      "\n",
      "Epoch 00034: saving model to model/keypoint_classifier\\keypoint_classifier.hdf5\n",
      "Epoch 35/1000\n",
      "126/126 [==============================] - 0s 1ms/step - loss: 1.0622 - accuracy: 0.6094 - val_loss: 0.5956 - val_accuracy: 0.8291\n",
      "\n",
      "Epoch 00035: saving model to model/keypoint_classifier\\keypoint_classifier.hdf5\n",
      "Epoch 36/1000\n",
      "126/126 [==============================] - 0s 1ms/step - loss: 1.0524 - accuracy: 0.6042 - val_loss: 0.5861 - val_accuracy: 0.8810\n",
      "\n",
      "Epoch 00036: saving model to model/keypoint_classifier\\keypoint_classifier.hdf5\n",
      "Epoch 37/1000\n",
      "126/126 [==============================] - 0s 1ms/step - loss: 1.0357 - accuracy: 0.6145 - val_loss: 0.5772 - val_accuracy: 0.8533\n",
      "\n",
      "Epoch 00037: saving model to model/keypoint_classifier\\keypoint_classifier.hdf5\n",
      "Epoch 38/1000\n",
      "126/126 [==============================] - 0s 1ms/step - loss: 1.0286 - accuracy: 0.6209 - val_loss: 0.5650 - val_accuracy: 0.8662\n",
      "\n",
      "Epoch 00038: saving model to model/keypoint_classifier\\keypoint_classifier.hdf5\n",
      "Epoch 39/1000\n",
      "126/126 [==============================] - 0s 1ms/step - loss: 1.0206 - accuracy: 0.6226 - val_loss: 0.5563 - val_accuracy: 0.8497\n",
      "\n",
      "Epoch 00039: saving model to model/keypoint_classifier\\keypoint_classifier.hdf5\n",
      "Epoch 40/1000\n",
      "126/126 [==============================] - 0s 1ms/step - loss: 0.9973 - accuracy: 0.6309 - val_loss: 0.5416 - val_accuracy: 0.8673\n",
      "\n",
      "Epoch 00040: saving model to model/keypoint_classifier\\keypoint_classifier.hdf5\n",
      "Epoch 41/1000\n",
      "126/126 [==============================] - 0s 1ms/step - loss: 0.9885 - accuracy: 0.6358 - val_loss: 0.5273 - val_accuracy: 0.8808\n",
      "\n",
      "Epoch 00041: saving model to model/keypoint_classifier\\keypoint_classifier.hdf5\n",
      "Epoch 42/1000\n",
      "126/126 [==============================] - 0s 1ms/step - loss: 0.9754 - accuracy: 0.6352 - val_loss: 0.5155 - val_accuracy: 0.8797\n",
      "\n",
      "Epoch 00042: saving model to model/keypoint_classifier\\keypoint_classifier.hdf5\n",
      "Epoch 43/1000\n",
      "126/126 [==============================] - 0s 1ms/step - loss: 0.9689 - accuracy: 0.6471 - val_loss: 0.5112 - val_accuracy: 0.8986\n",
      "\n",
      "Epoch 00043: saving model to model/keypoint_classifier\\keypoint_classifier.hdf5\n",
      "Epoch 44/1000\n",
      "126/126 [==============================] - 0s 1ms/step - loss: 0.9620 - accuracy: 0.6446 - val_loss: 0.5216 - val_accuracy: 0.8743\n",
      "\n",
      "Epoch 00044: saving model to model/keypoint_classifier\\keypoint_classifier.hdf5\n",
      "Epoch 45/1000\n",
      "126/126 [==============================] - 0s 1ms/step - loss: 0.9602 - accuracy: 0.6495 - val_loss: 0.5075 - val_accuracy: 0.8791\n",
      "\n",
      "Epoch 00045: saving model to model/keypoint_classifier\\keypoint_classifier.hdf5\n",
      "Epoch 46/1000\n",
      "126/126 [==============================] - 0s 2ms/step - loss: 0.9515 - accuracy: 0.6477 - val_loss: 0.4990 - val_accuracy: 0.8542\n",
      "\n",
      "Epoch 00046: saving model to model/keypoint_classifier\\keypoint_classifier.hdf5\n",
      "Epoch 47/1000\n",
      "126/126 [==============================] - 0s 2ms/step - loss: 0.9381 - accuracy: 0.6547 - val_loss: 0.4905 - val_accuracy: 0.8900\n",
      "\n",
      "Epoch 00047: saving model to model/keypoint_classifier\\keypoint_classifier.hdf5\n",
      "Epoch 48/1000\n",
      "126/126 [==============================] - 0s 1ms/step - loss: 0.9369 - accuracy: 0.6583 - val_loss: 0.4746 - val_accuracy: 0.9039\n",
      "\n",
      "Epoch 00048: saving model to model/keypoint_classifier\\keypoint_classifier.hdf5\n",
      "Epoch 49/1000\n",
      "126/126 [==============================] - 0s 1ms/step - loss: 0.9280 - accuracy: 0.6560 - val_loss: 0.4861 - val_accuracy: 0.9155\n",
      "\n",
      "Epoch 00049: saving model to model/keypoint_classifier\\keypoint_classifier.hdf5\n",
      "Epoch 50/1000\n",
      "126/126 [==============================] - 0s 1ms/step - loss: 0.9095 - accuracy: 0.6606 - val_loss: 0.4664 - val_accuracy: 0.9016\n",
      "\n",
      "Epoch 00050: saving model to model/keypoint_classifier\\keypoint_classifier.hdf5\n",
      "Epoch 51/1000\n",
      "126/126 [==============================] - 0s 1ms/step - loss: 0.9139 - accuracy: 0.6662 - val_loss: 0.4703 - val_accuracy: 0.9003\n",
      "\n",
      "Epoch 00051: saving model to model/keypoint_classifier\\keypoint_classifier.hdf5\n",
      "Epoch 52/1000\n",
      "126/126 [==============================] - 0s 1ms/step - loss: 0.8939 - accuracy: 0.6717 - val_loss: 0.4741 - val_accuracy: 0.8744\n",
      "\n",
      "Epoch 00052: saving model to model/keypoint_classifier\\keypoint_classifier.hdf5\n",
      "Epoch 53/1000\n",
      "126/126 [==============================] - 0s 1ms/step - loss: 0.8853 - accuracy: 0.6737 - val_loss: 0.4584 - val_accuracy: 0.9230\n",
      "\n",
      "Epoch 00053: saving model to model/keypoint_classifier\\keypoint_classifier.hdf5\n",
      "Epoch 54/1000\n",
      "126/126 [==============================] - 0s 1ms/step - loss: 0.8835 - accuracy: 0.6723 - val_loss: 0.4521 - val_accuracy: 0.8969\n",
      "\n",
      "Epoch 00054: saving model to model/keypoint_classifier\\keypoint_classifier.hdf5\n",
      "Epoch 55/1000\n",
      "126/126 [==============================] - 0s 1ms/step - loss: 0.8900 - accuracy: 0.6830 - val_loss: 0.4552 - val_accuracy: 0.8868\n",
      "\n",
      "Epoch 00055: saving model to model/keypoint_classifier\\keypoint_classifier.hdf5\n",
      "Epoch 56/1000\n",
      "126/126 [==============================] - 0s 1ms/step - loss: 0.8895 - accuracy: 0.6782 - val_loss: 0.4566 - val_accuracy: 0.9048\n",
      "\n",
      "Epoch 00056: saving model to model/keypoint_classifier\\keypoint_classifier.hdf5\n",
      "Epoch 57/1000\n",
      "126/126 [==============================] - 0s 1ms/step - loss: 0.8894 - accuracy: 0.6751 - val_loss: 0.4290 - val_accuracy: 0.9129\n",
      "\n",
      "Epoch 00057: saving model to model/keypoint_classifier\\keypoint_classifier.hdf5\n",
      "Epoch 58/1000\n",
      "126/126 [==============================] - 0s 1ms/step - loss: 0.8771 - accuracy: 0.6811 - val_loss: 0.4379 - val_accuracy: 0.9164\n",
      "\n",
      "Epoch 00058: saving model to model/keypoint_classifier\\keypoint_classifier.hdf5\n",
      "Epoch 59/1000\n",
      "126/126 [==============================] - 0s 1ms/step - loss: 0.8666 - accuracy: 0.6965 - val_loss: 0.4325 - val_accuracy: 0.9059\n",
      "\n",
      "Epoch 00059: saving model to model/keypoint_classifier\\keypoint_classifier.hdf5\n",
      "Epoch 60/1000\n",
      "126/126 [==============================] - 0s 1ms/step - loss: 0.8622 - accuracy: 0.6901 - val_loss: 0.4183 - val_accuracy: 0.9054\n",
      "\n",
      "Epoch 00060: saving model to model/keypoint_classifier\\keypoint_classifier.hdf5\n",
      "Epoch 61/1000\n",
      "126/126 [==============================] - 0s 1ms/step - loss: 0.8483 - accuracy: 0.6972 - val_loss: 0.4343 - val_accuracy: 0.9130\n",
      "\n",
      "Epoch 00061: saving model to model/keypoint_classifier\\keypoint_classifier.hdf5\n",
      "Epoch 62/1000\n",
      "126/126 [==============================] - 0s 1ms/step - loss: 0.8627 - accuracy: 0.6904 - val_loss: 0.4319 - val_accuracy: 0.9012\n",
      "\n",
      "Epoch 00062: saving model to model/keypoint_classifier\\keypoint_classifier.hdf5\n",
      "Epoch 63/1000\n",
      "126/126 [==============================] - 0s 1ms/step - loss: 0.8541 - accuracy: 0.6888 - val_loss: 0.4069 - val_accuracy: 0.9084\n",
      "\n",
      "Epoch 00063: saving model to model/keypoint_classifier\\keypoint_classifier.hdf5\n",
      "Epoch 64/1000\n",
      "126/126 [==============================] - 0s 1ms/step - loss: 0.8458 - accuracy: 0.6905 - val_loss: 0.4103 - val_accuracy: 0.9202\n",
      "\n",
      "Epoch 00064: saving model to model/keypoint_classifier\\keypoint_classifier.hdf5\n",
      "Epoch 65/1000\n",
      "126/126 [==============================] - 0s 1ms/step - loss: 0.8626 - accuracy: 0.6954 - val_loss: 0.4098 - val_accuracy: 0.9187\n",
      "\n",
      "Epoch 00065: saving model to model/keypoint_classifier\\keypoint_classifier.hdf5\n",
      "Epoch 66/1000\n",
      "126/126 [==============================] - 0s 1ms/step - loss: 0.8256 - accuracy: 0.6981 - val_loss: 0.4260 - val_accuracy: 0.9089\n",
      "\n",
      "Epoch 00066: saving model to model/keypoint_classifier\\keypoint_classifier.hdf5\n",
      "Epoch 67/1000\n",
      "126/126 [==============================] - 0s 1ms/step - loss: 0.8265 - accuracy: 0.7037 - val_loss: 0.4082 - val_accuracy: 0.9087\n",
      "\n",
      "Epoch 00067: saving model to model/keypoint_classifier\\keypoint_classifier.hdf5\n",
      "Epoch 68/1000\n",
      "126/126 [==============================] - 0s 1ms/step - loss: 0.8291 - accuracy: 0.6948 - val_loss: 0.4082 - val_accuracy: 0.9198\n",
      "\n",
      "Epoch 00068: saving model to model/keypoint_classifier\\keypoint_classifier.hdf5\n",
      "Epoch 69/1000\n",
      "126/126 [==============================] - 0s 1ms/step - loss: 0.8222 - accuracy: 0.7026 - val_loss: 0.4128 - val_accuracy: 0.8990\n",
      "\n",
      "Epoch 00069: saving model to model/keypoint_classifier\\keypoint_classifier.hdf5\n",
      "Epoch 70/1000\n",
      "126/126 [==============================] - 0s 1ms/step - loss: 0.8331 - accuracy: 0.6970 - val_loss: 0.4103 - val_accuracy: 0.9061\n",
      "\n",
      "Epoch 00070: saving model to model/keypoint_classifier\\keypoint_classifier.hdf5\n",
      "Epoch 71/1000\n",
      "126/126 [==============================] - 0s 1ms/step - loss: 0.8220 - accuracy: 0.7098 - val_loss: 0.4012 - val_accuracy: 0.9095\n",
      "\n",
      "Epoch 00071: saving model to model/keypoint_classifier\\keypoint_classifier.hdf5\n",
      "Epoch 72/1000\n",
      "126/126 [==============================] - 0s 1ms/step - loss: 0.8238 - accuracy: 0.7061 - val_loss: 0.3877 - val_accuracy: 0.9175\n",
      "\n",
      "Epoch 00072: saving model to model/keypoint_classifier\\keypoint_classifier.hdf5\n",
      "Epoch 73/1000\n",
      "126/126 [==============================] - 0s 1ms/step - loss: 0.7996 - accuracy: 0.7167 - val_loss: 0.3893 - val_accuracy: 0.9249\n",
      "\n",
      "Epoch 00073: saving model to model/keypoint_classifier\\keypoint_classifier.hdf5\n",
      "Epoch 74/1000\n",
      "126/126 [==============================] - 0s 1ms/step - loss: 0.8129 - accuracy: 0.7097 - val_loss: 0.4035 - val_accuracy: 0.9130\n",
      "\n",
      "Epoch 00074: saving model to model/keypoint_classifier\\keypoint_classifier.hdf5\n",
      "Epoch 75/1000\n",
      "126/126 [==============================] - 0s 1ms/step - loss: 0.8019 - accuracy: 0.7099 - val_loss: 0.3884 - val_accuracy: 0.9005\n",
      "\n",
      "Epoch 00075: saving model to model/keypoint_classifier\\keypoint_classifier.hdf5\n",
      "Epoch 76/1000\n",
      "126/126 [==============================] - 0s 1ms/step - loss: 0.7956 - accuracy: 0.7169 - val_loss: 0.3951 - val_accuracy: 0.9095\n",
      "\n",
      "Epoch 00076: saving model to model/keypoint_classifier\\keypoint_classifier.hdf5\n",
      "Epoch 77/1000\n",
      "126/126 [==============================] - 0s 1ms/step - loss: 0.7922 - accuracy: 0.7157 - val_loss: 0.3912 - val_accuracy: 0.9179\n",
      "\n",
      "Epoch 00077: saving model to model/keypoint_classifier\\keypoint_classifier.hdf5\n",
      "Epoch 78/1000\n",
      "126/126 [==============================] - 0s 1ms/step - loss: 0.7854 - accuracy: 0.7174 - val_loss: 0.3777 - val_accuracy: 0.9237\n",
      "\n",
      "Epoch 00078: saving model to model/keypoint_classifier\\keypoint_classifier.hdf5\n",
      "Epoch 79/1000\n",
      "126/126 [==============================] - 0s 1ms/step - loss: 0.8020 - accuracy: 0.7174 - val_loss: 0.3844 - val_accuracy: 0.9134\n",
      "\n",
      "Epoch 00079: saving model to model/keypoint_classifier\\keypoint_classifier.hdf5\n",
      "Epoch 80/1000\n",
      "126/126 [==============================] - 0s 1ms/step - loss: 0.8008 - accuracy: 0.7148 - val_loss: 0.3725 - val_accuracy: 0.9320\n",
      "\n",
      "Epoch 00080: saving model to model/keypoint_classifier\\keypoint_classifier.hdf5\n",
      "Epoch 81/1000\n",
      "126/126 [==============================] - 0s 1ms/step - loss: 0.7693 - accuracy: 0.7340 - val_loss: 0.3864 - val_accuracy: 0.9125\n",
      "\n",
      "Epoch 00081: saving model to model/keypoint_classifier\\keypoint_classifier.hdf5\n",
      "Epoch 82/1000\n",
      "126/126 [==============================] - 0s 1ms/step - loss: 0.7500 - accuracy: 0.7338 - val_loss: 0.3706 - val_accuracy: 0.9196\n",
      "\n",
      "Epoch 00082: saving model to model/keypoint_classifier\\keypoint_classifier.hdf5\n",
      "Epoch 83/1000\n",
      "126/126 [==============================] - 0s 2ms/step - loss: 0.7655 - accuracy: 0.7285 - val_loss: 0.3790 - val_accuracy: 0.9198\n",
      "\n",
      "Epoch 00083: saving model to model/keypoint_classifier\\keypoint_classifier.hdf5\n",
      "Epoch 84/1000\n",
      "126/126 [==============================] - 0s 1ms/step - loss: 0.7625 - accuracy: 0.7332 - val_loss: 0.3696 - val_accuracy: 0.9303\n",
      "\n",
      "Epoch 00084: saving model to model/keypoint_classifier\\keypoint_classifier.hdf5\n",
      "Epoch 85/1000\n",
      "126/126 [==============================] - 0s 1ms/step - loss: 0.7742 - accuracy: 0.7278 - val_loss: 0.3815 - val_accuracy: 0.9121\n",
      "\n",
      "Epoch 00085: saving model to model/keypoint_classifier\\keypoint_classifier.hdf5\n",
      "Epoch 86/1000\n",
      "126/126 [==============================] - 0s 1ms/step - loss: 0.7588 - accuracy: 0.7320 - val_loss: 0.3483 - val_accuracy: 0.9419\n",
      "\n",
      "Epoch 00086: saving model to model/keypoint_classifier\\keypoint_classifier.hdf5\n",
      "Epoch 87/1000\n",
      "126/126 [==============================] - 0s 1ms/step - loss: 0.7231 - accuracy: 0.7376 - val_loss: 0.3649 - val_accuracy: 0.9359\n",
      "\n",
      "Epoch 00087: saving model to model/keypoint_classifier\\keypoint_classifier.hdf5\n",
      "Epoch 88/1000\n",
      "126/126 [==============================] - 0s 1ms/step - loss: 0.7527 - accuracy: 0.7355 - val_loss: 0.3724 - val_accuracy: 0.9260\n",
      "\n",
      "Epoch 00088: saving model to model/keypoint_classifier\\keypoint_classifier.hdf5\n",
      "Epoch 89/1000\n",
      "126/126 [==============================] - 0s 1ms/step - loss: 0.7641 - accuracy: 0.7296 - val_loss: 0.3876 - val_accuracy: 0.9052\n",
      "\n",
      "Epoch 00089: saving model to model/keypoint_classifier\\keypoint_classifier.hdf5\n",
      "Epoch 90/1000\n",
      "126/126 [==============================] - 0s 1ms/step - loss: 0.7424 - accuracy: 0.7326 - val_loss: 0.3736 - val_accuracy: 0.9232\n",
      "\n",
      "Epoch 00090: saving model to model/keypoint_classifier\\keypoint_classifier.hdf5\n",
      "Epoch 91/1000\n",
      "126/126 [==============================] - 0s 1ms/step - loss: 0.7579 - accuracy: 0.7263 - val_loss: 0.3612 - val_accuracy: 0.9243\n",
      "\n",
      "Epoch 00091: saving model to model/keypoint_classifier\\keypoint_classifier.hdf5\n",
      "Epoch 92/1000\n",
      "126/126 [==============================] - 0s 1ms/step - loss: 0.7613 - accuracy: 0.7301 - val_loss: 0.3824 - val_accuracy: 0.9048\n",
      "\n",
      "Epoch 00092: saving model to model/keypoint_classifier\\keypoint_classifier.hdf5\n",
      "Epoch 93/1000\n",
      "126/126 [==============================] - 0s 1ms/step - loss: 0.7482 - accuracy: 0.7319 - val_loss: 0.3646 - val_accuracy: 0.9119\n",
      "\n",
      "Epoch 00093: saving model to model/keypoint_classifier\\keypoint_classifier.hdf5\n",
      "Epoch 94/1000\n",
      "126/126 [==============================] - 0s 1ms/step - loss: 0.7555 - accuracy: 0.7363 - val_loss: 0.3672 - val_accuracy: 0.9052\n",
      "\n",
      "Epoch 00094: saving model to model/keypoint_classifier\\keypoint_classifier.hdf5\n",
      "Epoch 95/1000\n",
      "126/126 [==============================] - 0s 1ms/step - loss: 0.7471 - accuracy: 0.7351 - val_loss: 0.3441 - val_accuracy: 0.9323\n",
      "\n",
      "Epoch 00095: saving model to model/keypoint_classifier\\keypoint_classifier.hdf5\n",
      "Epoch 96/1000\n",
      "126/126 [==============================] - 0s 1ms/step - loss: 0.7435 - accuracy: 0.7312 - val_loss: 0.3500 - val_accuracy: 0.9344\n",
      "\n",
      "Epoch 00096: saving model to model/keypoint_classifier\\keypoint_classifier.hdf5\n",
      "Epoch 97/1000\n",
      "126/126 [==============================] - 0s 1ms/step - loss: 0.7460 - accuracy: 0.7308 - val_loss: 0.3526 - val_accuracy: 0.9213\n",
      "\n",
      "Epoch 00097: saving model to model/keypoint_classifier\\keypoint_classifier.hdf5\n",
      "Epoch 98/1000\n",
      "126/126 [==============================] - 0s 1ms/step - loss: 0.7327 - accuracy: 0.7459 - val_loss: 0.3595 - val_accuracy: 0.9012\n",
      "\n",
      "Epoch 00098: saving model to model/keypoint_classifier\\keypoint_classifier.hdf5\n",
      "Epoch 99/1000\n",
      "126/126 [==============================] - 0s 1ms/step - loss: 0.7234 - accuracy: 0.7429 - val_loss: 0.3430 - val_accuracy: 0.9181\n",
      "\n",
      "Epoch 00099: saving model to model/keypoint_classifier\\keypoint_classifier.hdf5\n",
      "Epoch 100/1000\n",
      "126/126 [==============================] - 0s 1ms/step - loss: 0.7160 - accuracy: 0.7447 - val_loss: 0.3506 - val_accuracy: 0.9338\n",
      "\n",
      "Epoch 00100: saving model to model/keypoint_classifier\\keypoint_classifier.hdf5\n",
      "Epoch 101/1000\n",
      "126/126 [==============================] - 0s 1ms/step - loss: 0.7261 - accuracy: 0.7520 - val_loss: 0.3527 - val_accuracy: 0.9192\n",
      "\n",
      "Epoch 00101: saving model to model/keypoint_classifier\\keypoint_classifier.hdf5\n",
      "Epoch 102/1000\n",
      "126/126 [==============================] - 0s 1ms/step - loss: 0.7244 - accuracy: 0.7449 - val_loss: 0.3531 - val_accuracy: 0.9235\n",
      "\n",
      "Epoch 00102: saving model to model/keypoint_classifier\\keypoint_classifier.hdf5\n",
      "Epoch 103/1000\n",
      "126/126 [==============================] - 0s 1ms/step - loss: 0.7299 - accuracy: 0.7463 - val_loss: 0.3466 - val_accuracy: 0.9267\n",
      "\n",
      "Epoch 00103: saving model to model/keypoint_classifier\\keypoint_classifier.hdf5\n",
      "Epoch 104/1000\n",
      "126/126 [==============================] - 0s 1ms/step - loss: 0.7253 - accuracy: 0.7454 - val_loss: 0.3729 - val_accuracy: 0.9052\n",
      "\n",
      "Epoch 00104: saving model to model/keypoint_classifier\\keypoint_classifier.hdf5\n",
      "Epoch 105/1000\n",
      "126/126 [==============================] - 0s 1ms/step - loss: 0.7128 - accuracy: 0.7483 - val_loss: 0.3463 - val_accuracy: 0.9278\n",
      "\n",
      "Epoch 00105: saving model to model/keypoint_classifier\\keypoint_classifier.hdf5\n",
      "Epoch 106/1000\n",
      "126/126 [==============================] - 0s 2ms/step - loss: 0.7175 - accuracy: 0.7506 - val_loss: 0.3578 - val_accuracy: 0.9151\n",
      "\n",
      "Epoch 00106: saving model to model/keypoint_classifier\\keypoint_classifier.hdf5\n",
      "Epoch 107/1000\n",
      "126/126 [==============================] - 0s 2ms/step - loss: 0.7158 - accuracy: 0.7489 - val_loss: 0.3361 - val_accuracy: 0.9226\n",
      "\n",
      "Epoch 00107: saving model to model/keypoint_classifier\\keypoint_classifier.hdf5\n",
      "Epoch 108/1000\n",
      "126/126 [==============================] - 0s 1ms/step - loss: 0.7057 - accuracy: 0.7523 - val_loss: 0.3546 - val_accuracy: 0.9217\n",
      "\n",
      "Epoch 00108: saving model to model/keypoint_classifier\\keypoint_classifier.hdf5\n",
      "Epoch 109/1000\n",
      "126/126 [==============================] - 0s 1ms/step - loss: 0.7035 - accuracy: 0.7499 - val_loss: 0.3404 - val_accuracy: 0.9318\n",
      "\n",
      "Epoch 00109: saving model to model/keypoint_classifier\\keypoint_classifier.hdf5\n",
      "Epoch 110/1000\n",
      "126/126 [==============================] - 0s 1ms/step - loss: 0.6899 - accuracy: 0.7588 - val_loss: 0.3617 - val_accuracy: 0.9164\n",
      "\n",
      "Epoch 00110: saving model to model/keypoint_classifier\\keypoint_classifier.hdf5\n",
      "Epoch 111/1000\n",
      "126/126 [==============================] - 0s 1ms/step - loss: 0.7250 - accuracy: 0.7495 - val_loss: 0.3503 - val_accuracy: 0.9190\n",
      "\n",
      "Epoch 00111: saving model to model/keypoint_classifier\\keypoint_classifier.hdf5\n",
      "Epoch 112/1000\n",
      "126/126 [==============================] - 0s 1ms/step - loss: 0.7215 - accuracy: 0.7486 - val_loss: 0.3475 - val_accuracy: 0.9249\n",
      "\n",
      "Epoch 00112: saving model to model/keypoint_classifier\\keypoint_classifier.hdf5\n",
      "Epoch 113/1000\n",
      "126/126 [==============================] - 0s 1ms/step - loss: 0.6863 - accuracy: 0.7665 - val_loss: 0.3395 - val_accuracy: 0.9280\n",
      "\n",
      "Epoch 00113: saving model to model/keypoint_classifier\\keypoint_classifier.hdf5\n",
      "Epoch 114/1000\n",
      "126/126 [==============================] - 0s 1ms/step - loss: 0.7084 - accuracy: 0.7517 - val_loss: 0.3578 - val_accuracy: 0.9100\n",
      "\n",
      "Epoch 00114: saving model to model/keypoint_classifier\\keypoint_classifier.hdf5\n",
      "Epoch 115/1000\n",
      "126/126 [==============================] - 0s 1ms/step - loss: 0.7061 - accuracy: 0.7472 - val_loss: 0.3500 - val_accuracy: 0.9250\n",
      "\n",
      "Epoch 00115: saving model to model/keypoint_classifier\\keypoint_classifier.hdf5\n",
      "Epoch 116/1000\n",
      "126/126 [==============================] - 0s 1ms/step - loss: 0.6622 - accuracy: 0.7652 - val_loss: 0.3430 - val_accuracy: 0.9265\n",
      "\n",
      "Epoch 00116: saving model to model/keypoint_classifier\\keypoint_classifier.hdf5\n",
      "Epoch 117/1000\n",
      "126/126 [==============================] - 0s 1ms/step - loss: 0.7109 - accuracy: 0.7496 - val_loss: 0.3430 - val_accuracy: 0.9155\n",
      "\n",
      "Epoch 00117: saving model to model/keypoint_classifier\\keypoint_classifier.hdf5\n",
      "Epoch 118/1000\n",
      "126/126 [==============================] - 0s 1ms/step - loss: 0.7147 - accuracy: 0.7508 - val_loss: 0.3546 - val_accuracy: 0.9245\n",
      "\n",
      "Epoch 00118: saving model to model/keypoint_classifier\\keypoint_classifier.hdf5\n",
      "Epoch 119/1000\n",
      "126/126 [==============================] - 0s 1ms/step - loss: 0.6988 - accuracy: 0.7541 - val_loss: 0.3239 - val_accuracy: 0.9295\n",
      "\n",
      "Epoch 00119: saving model to model/keypoint_classifier\\keypoint_classifier.hdf5\n",
      "Epoch 120/1000\n",
      "126/126 [==============================] - 0s 2ms/step - loss: 0.6937 - accuracy: 0.7518 - val_loss: 0.3451 - val_accuracy: 0.9211\n",
      "\n",
      "Epoch 00120: saving model to model/keypoint_classifier\\keypoint_classifier.hdf5\n",
      "Epoch 121/1000\n",
      "126/126 [==============================] - 0s 1ms/step - loss: 0.7059 - accuracy: 0.7553 - val_loss: 0.3629 - val_accuracy: 0.8975\n",
      "\n",
      "Epoch 00121: saving model to model/keypoint_classifier\\keypoint_classifier.hdf5\n",
      "Epoch 122/1000\n",
      "126/126 [==============================] - 0s 1ms/step - loss: 0.7064 - accuracy: 0.7553 - val_loss: 0.3241 - val_accuracy: 0.9368\n",
      "\n",
      "Epoch 00122: saving model to model/keypoint_classifier\\keypoint_classifier.hdf5\n",
      "Epoch 123/1000\n",
      "126/126 [==============================] - 0s 1ms/step - loss: 0.7027 - accuracy: 0.7480 - val_loss: 0.3567 - val_accuracy: 0.9121\n",
      "\n",
      "Epoch 00123: saving model to model/keypoint_classifier\\keypoint_classifier.hdf5\n",
      "Epoch 124/1000\n",
      "126/126 [==============================] - 0s 1ms/step - loss: 0.7012 - accuracy: 0.7455 - val_loss: 0.3435 - val_accuracy: 0.9117\n",
      "\n",
      "Epoch 00124: saving model to model/keypoint_classifier\\keypoint_classifier.hdf5\n",
      "Epoch 125/1000\n",
      "126/126 [==============================] - 0s 2ms/step - loss: 0.7007 - accuracy: 0.7476 - val_loss: 0.3641 - val_accuracy: 0.8984\n",
      "\n",
      "Epoch 00125: saving model to model/keypoint_classifier\\keypoint_classifier.hdf5\n",
      "Epoch 126/1000\n",
      "126/126 [==============================] - 0s 1ms/step - loss: 0.6877 - accuracy: 0.7589 - val_loss: 0.3395 - val_accuracy: 0.9200\n",
      "\n",
      "Epoch 00126: saving model to model/keypoint_classifier\\keypoint_classifier.hdf5\n",
      "Epoch 127/1000\n",
      "126/126 [==============================] - 0s 2ms/step - loss: 0.7061 - accuracy: 0.7572 - val_loss: 0.3787 - val_accuracy: 0.8819\n",
      "\n",
      "Epoch 00127: saving model to model/keypoint_classifier\\keypoint_classifier.hdf5\n",
      "Epoch 128/1000\n",
      "126/126 [==============================] - 0s 1ms/step - loss: 0.6912 - accuracy: 0.7580 - val_loss: 0.3723 - val_accuracy: 0.8924\n",
      "\n",
      "Epoch 00128: saving model to model/keypoint_classifier\\keypoint_classifier.hdf5\n",
      "Epoch 129/1000\n",
      "126/126 [==============================] - 0s 1ms/step - loss: 0.6745 - accuracy: 0.7693 - val_loss: 0.3445 - val_accuracy: 0.9237\n",
      "\n",
      "Epoch 00129: saving model to model/keypoint_classifier\\keypoint_classifier.hdf5\n",
      "Epoch 130/1000\n",
      "126/126 [==============================] - 0s 2ms/step - loss: 0.6836 - accuracy: 0.7575 - val_loss: 0.3348 - val_accuracy: 0.9239\n",
      "\n",
      "Epoch 00130: saving model to model/keypoint_classifier\\keypoint_classifier.hdf5\n",
      "Epoch 131/1000\n",
      "126/126 [==============================] - 0s 1ms/step - loss: 0.7028 - accuracy: 0.7562 - val_loss: 0.3578 - val_accuracy: 0.9140\n",
      "\n",
      "Epoch 00131: saving model to model/keypoint_classifier\\keypoint_classifier.hdf5\n",
      "Epoch 132/1000\n",
      "126/126 [==============================] - 0s 2ms/step - loss: 0.6955 - accuracy: 0.7501 - val_loss: 0.3533 - val_accuracy: 0.9174\n",
      "\n",
      "Epoch 00132: saving model to model/keypoint_classifier\\keypoint_classifier.hdf5\n",
      "Epoch 133/1000\n",
      "126/126 [==============================] - 0s 1ms/step - loss: 0.6702 - accuracy: 0.7610 - val_loss: 0.3737 - val_accuracy: 0.8977\n",
      "\n",
      "Epoch 00133: saving model to model/keypoint_classifier\\keypoint_classifier.hdf5\n",
      "Epoch 134/1000\n",
      "126/126 [==============================] - 0s 2ms/step - loss: 0.6565 - accuracy: 0.7726 - val_loss: 0.3373 - val_accuracy: 0.9181\n",
      "\n",
      "Epoch 00134: saving model to model/keypoint_classifier\\keypoint_classifier.hdf5\n",
      "Epoch 135/1000\n",
      "126/126 [==============================] - 0s 1ms/step - loss: 0.6623 - accuracy: 0.7625 - val_loss: 0.3581 - val_accuracy: 0.9162\n",
      "\n",
      "Epoch 00135: saving model to model/keypoint_classifier\\keypoint_classifier.hdf5\n",
      "Epoch 136/1000\n",
      "126/126 [==============================] - 0s 1ms/step - loss: 0.6746 - accuracy: 0.7659 - val_loss: 0.3440 - val_accuracy: 0.9087\n",
      "\n",
      "Epoch 00136: saving model to model/keypoint_classifier\\keypoint_classifier.hdf5\n",
      "Epoch 137/1000\n",
      "126/126 [==============================] - 0s 1ms/step - loss: 0.6614 - accuracy: 0.7711 - val_loss: 0.3317 - val_accuracy: 0.9187\n",
      "\n",
      "Epoch 00137: saving model to model/keypoint_classifier\\keypoint_classifier.hdf5\n",
      "Epoch 138/1000\n",
      "126/126 [==============================] - 0s 1ms/step - loss: 0.6745 - accuracy: 0.7577 - val_loss: 0.3419 - val_accuracy: 0.9247\n",
      "\n",
      "Epoch 00138: saving model to model/keypoint_classifier\\keypoint_classifier.hdf5\n",
      "Epoch 139/1000\n",
      "126/126 [==============================] - 0s 1ms/step - loss: 0.6679 - accuracy: 0.7671 - val_loss: 0.3364 - val_accuracy: 0.9219\n",
      "\n",
      "Epoch 00139: saving model to model/keypoint_classifier\\keypoint_classifier.hdf5\n",
      "Epoch 00139: early stopping\n"
     ]
    },
    {
     "data": {
      "text/plain": [
       "<tensorflow.python.keras.callbacks.History at 0x1c141659f88>"
      ]
     },
     "execution_count": 50,
     "metadata": {},
     "output_type": "execute_result"
    }
   ],
   "source": [
    "model.fit(\n",
    "    X_train,\n",
    "    y_train,\n",
    "    epochs=1000,\n",
    "    batch_size=128,\n",
    "    validation_data=(X_test, y_test),\n",
    "    callbacks=[cp_callback, es_callback]\n",
    ")"
   ]
  },
  {
   "cell_type": "code",
   "execution_count": 51,
   "metadata": {
    "colab": {
     "base_uri": "https://localhost:8080/"
    },
    "id": "pxvb2Y299hE3",
    "outputId": "59eb3185-2e37-4b9e-bc9d-ab1b8ac29b7f"
   },
   "outputs": [
    {
     "name": "stdout",
     "output_type": "stream",
     "text": [
      "42/42 [==============================] - 0s 584us/step - loss: 0.3364 - accuracy: 0.9219\n"
     ]
    }
   ],
   "source": [
    "# Model evaluation\n",
    "val_loss, val_acc = model.evaluate(X_test, y_test, batch_size=128)"
   ]
  },
  {
   "cell_type": "code",
   "execution_count": 52,
   "metadata": {
    "id": "RBkmDeUW9hE4"
   },
   "outputs": [],
   "source": [
    "# Loading the saved model\n",
    "model = tf.keras.models.load_model(model_save_path)"
   ]
  },
  {
   "cell_type": "code",
   "execution_count": 53,
   "metadata": {
    "colab": {
     "base_uri": "https://localhost:8080/"
    },
    "id": "tFz9Tb0I9hE4",
    "outputId": "1c3b3528-54ae-4ee2-ab04-77429211cbef"
   },
   "outputs": [
    {
     "name": "stdout",
     "output_type": "stream",
     "text": [
      "[8.6993623e-10 9.0488922e-21 7.0428428e-08 0.0000000e+00 1.8215870e-33\n",
      " 1.0152000e-20 0.0000000e+00 1.2083237e-09 7.2714403e-19 9.9627340e-01\n",
      " 9.0536801e-31 0.0000000e+00 1.2981079e-14 0.0000000e+00 3.7263534e-03\n",
      " 3.0299277e-11 3.3824401e-17 0.0000000e+00 8.6162102e-23 1.1553206e-11\n",
      " 0.0000000e+00 0.0000000e+00 0.0000000e+00 9.7546781e-08 2.9989353e-09]\n",
      "9\n"
     ]
    }
   ],
   "source": [
    "# Inference test\n",
    "predict_result = model.predict(np.array([X_test[0]]))\n",
    "print(np.squeeze(predict_result))\n",
    "print(np.argmax(np.squeeze(predict_result)))"
   ]
  },
  {
   "cell_type": "markdown",
   "metadata": {
    "id": "S3U4yNWx9hE4"
   },
   "source": [
    "# Confusion matrix"
   ]
  },
  {
   "cell_type": "code",
   "execution_count": 54,
   "metadata": {
    "colab": {
     "base_uri": "https://localhost:8080/",
     "height": 582
    },
    "id": "AP1V6SCk9hE5",
    "outputId": "08e41a80-7a4a-4619-8125-ecc371368d19",
    "tags": []
   },
   "outputs": [
    {
     "data": {
      "image/png": "[encoded data removed]",
      "text/plain": [
       "<Figure size 504x432 with 2 Axes>"
      ]
     },
     "metadata": {
      "needs_background": "light"
     },
     "output_type": "display_data"
    },
    {
     "name": "stdout",
     "output_type": "stream",
     "text": [
      "Classification Report\n",
      "              precision    recall  f1-score   support\n",
      "\n",
      "           0       0.99      0.95      0.97       181\n",
      "           1       0.88      0.97      0.92       221\n",
      "           2       0.90      0.85      0.88       209\n",
      "           3       0.94      1.00      0.97       217\n",
      "           4       0.97      0.99      0.98       215\n",
      "           5       0.86      0.99      0.92       198\n",
      "           6       0.97      0.97      0.97       193\n",
      "           7       0.96      0.86      0.91       235\n",
      "           8       1.00      1.00      1.00       209\n",
      "           9       0.98      0.98      0.98       273\n",
      "          10       0.87      0.92      0.89       200\n",
      "          11       0.98      0.97      0.98       272\n",
      "          12       0.99      1.00      0.99       229\n",
      "          13       0.98      1.00      0.99       214\n",
      "          14       0.85      0.88      0.86       203\n",
      "          15       0.99      1.00      1.00       217\n",
      "          16       1.00      0.98      0.99       203\n",
      "          17       0.99      0.60      0.75       220\n",
      "          18       0.96      1.00      0.98       206\n",
      "          19       1.00      0.72      0.83       225\n",
      "          20       0.55      0.89      0.68       214\n",
      "          21       0.69      0.51      0.59       193\n",
      "          22       1.00      1.00      1.00       199\n",
      "          23       0.97      0.99      0.98       187\n",
      "          24       0.99      1.00      1.00       203\n",
      "\n",
      "    accuracy                           0.92      5336\n",
      "   macro avg       0.93      0.92      0.92      5336\n",
      "weighted avg       0.93      0.92      0.92      5336\n",
      "\n"
     ]
    }
   ],
   "source": [
    "import pandas as pd\n",
    "import seaborn as sns\n",
    "import matplotlib.pyplot as plt\n",
    "from sklearn.metrics import confusion_matrix, classification_report\n",
    "\n",
    "def print_confusion_matrix(y_true, y_pred, report=True):\n",
    "    labels = sorted(list(set(y_true)))\n",
    "    cmx_data = confusion_matrix(y_true, y_pred, labels=labels)\n",
    "    \n",
    "    df_cmx = pd.DataFrame(cmx_data, index=labels, columns=labels)\n",
    " \n",
    "    fig, ax = plt.subplots(figsize=(7, 6))\n",
    "    sns.heatmap(df_cmx, annot=True, fmt='g' ,square=False)\n",
    "    ax.set_ylim(len(set(y_true)), 0)\n",
    "    plt.show()\n",
    "    \n",
    "    if report:\n",
    "        print('Classification Report')\n",
    "        print(classification_report(y_test, y_pred))\n",
    "\n",
    "Y_pred = model.predict(X_test)\n",
    "y_pred = np.argmax(Y_pred, axis=1)\n",
    "\n",
    "print_confusion_matrix(y_test, y_pred)"
   ]
  },
  {
   "cell_type": "markdown",
   "metadata": {
    "id": "FNP6aqzc9hE5"
   },
   "source": [
    "# Convert to model for Tensorflow-Lite"
   ]
  },
  {
   "cell_type": "code",
   "execution_count": 55,
   "metadata": {
    "id": "ODjnYyld9hE6"
   },
   "outputs": [],
   "source": [
    "# Save as a model dedicated to inference\n",
    "model.save(model_save_path, include_optimizer=False)"
   ]
  },
  {
   "cell_type": "code",
   "execution_count": 56,
   "metadata": {
    "colab": {
     "base_uri": "https://localhost:8080/"
    },
    "id": "zRfuK8Y59hE6",
    "outputId": "a4ca585c-b5d5-4244-8291-8674063209bb"
   },
   "outputs": [
    {
     "name": "stdout",
     "output_type": "stream",
     "text": [
      "INFO:tensorflow:Assets written to: C:\\Users\\Lucas\\AppData\\Local\\Temp\\tmplj9jo9fp\\assets\n"
     ]
    },
    {
     "data": {
      "text/plain": [
       "9536"
      ]
     },
     "execution_count": 56,
     "metadata": {},
     "output_type": "execute_result"
    }
   ],
   "source": [
    "# Transform model (quantization)\n",
    "\n",
    "converter = tf.lite.TFLiteConverter.from_keras_model(model)\n",
    "converter.optimizations = [tf.lite.Optimize.DEFAULT]\n",
    "tflite_quantized_model = converter.convert()\n",
    "\n",
    "open(tflite_save_path, 'wb').write(tflite_quantized_model)"
   ]
  },
  {
   "cell_type": "markdown",
   "metadata": {
    "id": "CHBPBXdx9hE6"
   },
   "source": [
    "# Inference test"
   ]
  },
  {
   "cell_type": "code",
   "execution_count": 57,
   "metadata": {
    "id": "mGAzLocO9hE7"
   },
   "outputs": [],
   "source": [
    "interpreter = tf.lite.Interpreter(model_path=tflite_save_path)\n",
    "interpreter.allocate_tensors()"
   ]
  },
  {
   "cell_type": "code",
   "execution_count": 58,
   "metadata": {
    "id": "oQuDK8YS9hE7"
   },
   "outputs": [],
   "source": [
    "# Get I / O tensor\n",
    "input_details = interpreter.get_input_details()\n",
    "output_details = interpreter.get_output_details()"
   ]
  },
  {
   "cell_type": "code",
   "execution_count": 59,
   "metadata": {
    "id": "2_ixAf_l9hE7"
   },
   "outputs": [],
   "source": [
    "interpreter.set_tensor(input_details[0]['index'], np.array([X_test[0]]))"
   ]
  },
  {
   "cell_type": "code",
   "execution_count": 60,
   "metadata": {
    "colab": {
     "base_uri": "https://localhost:8080/"
    },
    "id": "s4FoAnuc9hE7",
    "outputId": "91f18257-8d8b-4ef3-c558-e9b5f94fabbf",
    "scrolled": true
   },
   "outputs": [
    {
     "name": "stdout",
     "output_type": "stream",
     "text": [
      "Wall time: 2 ms\n"
     ]
    }
   ],
   "source": [
    "%%time\n",
    "# Inference implementation\n",
    "interpreter.invoke()\n",
    "tflite_results = interpreter.get_tensor(output_details[0]['index'])"
   ]
  },
  {
   "cell_type": "code",
   "execution_count": 61,
   "metadata": {
    "colab": {
     "base_uri": "https://localhost:8080/"
    },
    "id": "vONjp19J9hE8",
    "outputId": "77205e24-fd00-42c4-f7b6-e06e527c2cba"
   },
   "outputs": [
    {
     "name": "stdout",
     "output_type": "stream",
     "text": [
      "[9.47150136e-10 6.45271115e-21 3.41384023e-08 0.00000000e+00\n",
      " 8.21749530e-34 7.08262010e-21 0.00000000e+00 1.29546029e-09\n",
      " 3.57029195e-19 9.97475564e-01 1.17748545e-30 0.00000000e+00\n",
      " 1.11935116e-14 0.00000000e+00 2.52422923e-03 1.69578292e-11\n",
      " 2.61045033e-17 0.00000000e+00 1.13955300e-22 1.27480570e-11\n",
      " 0.00000000e+00 0.00000000e+00 0.00000000e+00 8.95655745e-08\n",
      " 4.45458337e-09]\n",
      "9\n"
     ]
    }
   ],
   "source": [
    "print(np.squeeze(tflite_results))\n",
    "print(np.argmax(np.squeeze(tflite_results)))"
   ]
  },
  {
   "cell_type": "code",
   "execution_count": null,
   "metadata": {},
   "outputs": [],
   "source": []
  }
 ],
 "metadata": {
  "accelerator": "GPU",
  "colab": {
   "collapsed_sections": [],
   "name": "keypoint_classification_EN.ipynb",
   "provenance": [],
   "toc_visible": true
  },
  "kernelspec": {
   "display_name": "Python 3 (ipykernel)",
   "language": "python",
   "name": "python3"
  },
  "language_info": {
   "codemirror_mode": {
    "name": "ipython",
    "version": 3
   },
   "file_extension": ".py",
   "mimetype": "text/x-python",
   "name": "python",
   "nbconvert_exporter": "python",
   "pygments_lexer": "ipython3",
   "version": "3.7.11"
  }
 },
 "nbformat": 4,
 "nbformat_minor": 4
}
